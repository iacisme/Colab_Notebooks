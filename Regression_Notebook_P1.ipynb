{
  "cells": [
    {
      "cell_type": "markdown",
      "metadata": {
        "id": "view-in-github",
        "colab_type": "text"
      },
      "source": [
        "<a href=\"https://colab.research.google.com/github/iacisme/Colab_Notebooks/blob/main/Regression_Notebook_P1.ipynb\" target=\"_parent\"><img src=\"https://colab.research.google.com/assets/colab-badge.svg\" alt=\"Open In Colab\"/></a>"
      ]
    },
    {
      "cell_type": "markdown",
      "id": "35396b8e-7f3d-4dc5-bfc1-222af35baeba",
      "metadata": {
        "id": "35396b8e-7f3d-4dc5-bfc1-222af35baeba"
      },
      "source": [
        "# An introduction to regression\n",
        "\n",
        "The purpose of this notebook is to gain an understanding of how `regression` works. Having an understanding of how `regression` works will give you the foundational knowledge needed to understand all other machine learning models. Almost all models used both in `classification` and `regression` are based on the principles of `regression`. \n",
        "\n",
        "Normally, in `machine learning` courses, you start off by learning `classification` models. Once we have a good understanding of regression, we will look at classification."
      ]
    },
    {
      "cell_type": "markdown",
      "id": "c60e3bc7-a08c-437d-9baf-9fd7722ba4ac",
      "metadata": {
        "tags": [],
        "id": "c60e3bc7-a08c-437d-9baf-9fd7722ba4ac"
      },
      "source": [
        "# Example 1 - Drawing a line segment\n",
        "\n",
        "## Python Libraries\n",
        "\n",
        "The following python libraries are required to run this example:"
      ]
    },
    {
      "cell_type": "code",
      "execution_count": null,
      "id": "640f8593-8778-48b3-a433-f4030e8a3a84",
      "metadata": {
        "id": "640f8593-8778-48b3-a433-f4030e8a3a84"
      },
      "outputs": [],
      "source": [
        "# Library to handle array and array-like objects\n",
        "import numpy as np"
      ]
    },
    {
      "cell_type": "code",
      "execution_count": null,
      "id": "c50457e0-4339-436c-b503-15634e2f5fda",
      "metadata": {
        "id": "c50457e0-4339-436c-b503-15634e2f5fda"
      },
      "outputs": [],
      "source": [
        "# Library to create and use inter-active tools\n",
        "import ipywidgets as widgets"
      ]
    },
    {
      "cell_type": "code",
      "execution_count": null,
      "id": "d3a96be2-ebfd-4502-84c7-8a13143fcceb",
      "metadata": {
        "id": "d3a96be2-ebfd-4502-84c7-8a13143fcceb"
      },
      "outputs": [],
      "source": [
        "# Plotly Express graphing library\n",
        "import plotly.express as px"
      ]
    },
    {
      "cell_type": "markdown",
      "id": "7c965c1f-c217-48c9-b7a5-aa1e0f81ab45",
      "metadata": {
        "tags": [],
        "id": "7c965c1f-c217-48c9-b7a5-aa1e0f81ab45"
      },
      "source": [
        "## Helper functions\n",
        "\n",
        "Helper functions are used to create interactives controls and layout that encourages user interaction. \n",
        "\n",
        "### Interactive Controls\n",
        "\n",
        "The following code is for a series of sliders that will be created, so the user can generate points to create a line."
      ]
    },
    {
      "cell_type": "code",
      "execution_count": null,
      "id": "347118a5-2d96-44e0-a695-92f4aed57564",
      "metadata": {
        "id": "347118a5-2d96-44e0-a695-92f4aed57564"
      },
      "outputs": [],
      "source": [
        "# Slider widget to change the value of X1\n",
        "x1 = widgets.IntSlider(value = 0,\n",
        "                       min = -10,\n",
        "                       max = 10,\n",
        "                       step = 1,\n",
        "                       description = 'X1:',\n",
        "                       disabled = False,\n",
        "                       continuous_update = False,\n",
        "                       orientation = 'horizontal',\n",
        "                       readout = True,\n",
        "                       readout_format = 'd'\n",
        "                      )"
      ]
    },
    {
      "cell_type": "code",
      "execution_count": null,
      "id": "44f4d7eb-f284-49a7-a57c-fa514a744364",
      "metadata": {
        "id": "44f4d7eb-f284-49a7-a57c-fa514a744364"
      },
      "outputs": [],
      "source": [
        "# Slider widget to change the value of Y1\n",
        "y1 = widgets.IntSlider(value = 0,\n",
        "                       min = -10,\n",
        "                       max = 10,\n",
        "                       step = 1,\n",
        "                       description = 'Y1',\n",
        "                       disabled = False,\n",
        "                       continuous_update = False,\n",
        "                       orientation = 'vertical',\n",
        "                       readout = True,\n",
        "                       readout_format = 'd'\n",
        "                      )"
      ]
    },
    {
      "cell_type": "code",
      "execution_count": null,
      "id": "358fc910-f4ef-4984-bc44-bd14759ed1d5",
      "metadata": {
        "id": "358fc910-f4ef-4984-bc44-bd14759ed1d5"
      },
      "outputs": [],
      "source": [
        "# Slider widget to change the value of X2\n",
        "x2 = widgets.IntSlider(value = 0,\n",
        "                       min = -10,\n",
        "                       max = 10,\n",
        "                       step = 1,\n",
        "                       description = 'X2:',\n",
        "                       disabled = False,\n",
        "                       continuous_update = False,\n",
        "                       orientation = 'horizontal',\n",
        "                       readout = True,\n",
        "                       readout_format = 'd'\n",
        "                      )"
      ]
    },
    {
      "cell_type": "code",
      "execution_count": null,
      "id": "8b9bdad6-bde2-4f8a-b040-9c63082353c3",
      "metadata": {
        "id": "8b9bdad6-bde2-4f8a-b040-9c63082353c3"
      },
      "outputs": [],
      "source": [
        "# Slider widget to change the value of Y2\n",
        "y2 = widgets.IntSlider(value = 0,\n",
        "                       min = -10,\n",
        "                       max = 10,\n",
        "                       step = 1,\n",
        "                       description = 'Y2',\n",
        "                       disabled = False,\n",
        "                       continuous_update = False,\n",
        "                       orientation = 'vertical',\n",
        "                       readout = True,\n",
        "                       readout_format = 'd'\n",
        "                      )"
      ]
    },
    {
      "cell_type": "markdown",
      "id": "588eefd9-1575-443a-8b1f-1feaa2dbe533",
      "metadata": {
        "id": "588eefd9-1575-443a-8b1f-1feaa2dbe533"
      },
      "source": [
        "### Organizing controls\n",
        "\n",
        "These objects organizes the sliders, so it's clear to the user what slider does what"
      ]
    },
    {
      "cell_type": "code",
      "execution_count": null,
      "id": "8a116eb8-0eb5-4c96-aa73-c3cf91820a31",
      "metadata": {
        "id": "8a116eb8-0eb5-4c96-aa73-c3cf91820a31"
      },
      "outputs": [],
      "source": [
        "# Bundle controls for X1 and Y1 together\n",
        "ui_1 = widgets.VBox([x1, y1])"
      ]
    },
    {
      "cell_type": "code",
      "execution_count": null,
      "id": "949c78a0-c821-4440-9bf9-274197dc3606",
      "metadata": {
        "id": "949c78a0-c821-4440-9bf9-274197dc3606"
      },
      "outputs": [],
      "source": [
        "# Bundle controls for X2 and Y2 together\n",
        "ui_2 = widgets.VBox([x2, y2])"
      ]
    },
    {
      "cell_type": "code",
      "execution_count": null,
      "id": "c4bde4c1-5959-492e-a597-55bb5a935011",
      "metadata": {
        "id": "c4bde4c1-5959-492e-a597-55bb5a935011"
      },
      "outputs": [],
      "source": [
        "# Combine these controls into on common grouping\n",
        "ui = widgets.HBox([ui_1, ui_2])"
      ]
    },
    {
      "cell_type": "markdown",
      "id": "4cd2e61d-fb94-4125-b0cb-bfff3ed8732a",
      "metadata": {
        "id": "4cd2e61d-fb94-4125-b0cb-bfff3ed8732a"
      },
      "source": [
        "### Functions\n",
        "\n",
        "This function will generate a graph, and allow the user to interact with it by allowing them to change the values of some points."
      ]
    },
    {
      "cell_type": "code",
      "execution_count": null,
      "id": "ea333355-ca57-4b62-8919-b31bf27e3b10",
      "metadata": {
        "id": "ea333355-ca57-4b62-8919-b31bf27e3b10"
      },
      "outputs": [],
      "source": [
        "# Function draws a line segment based on the inputs provided by the user\n",
        "def draw_simple_line(x_1, y_1, x_2, y_2):\n",
        "    \n",
        "    # Store the x variables in a list\n",
        "    x = [x_1, x_2]\n",
        "    # Store the y variables in a list\n",
        "    y = [y_1, y_2]\n",
        "    \n",
        "    # Graph the line\n",
        "    fig = px.line(x = x,\n",
        "                  y = y,\n",
        "                  \n",
        "                  markers = True,\n",
        "                 )\n",
        "    \n",
        "    # Mark the line points with a dot\n",
        "    fig.update_traces(marker = dict(size = 12,\n",
        "                                    line = dict(width = 2,\n",
        "                                                color = 'DarkSlateGrey'\n",
        "                                               )\n",
        "                                   ),\n",
        "                      \n",
        "                       selector = dict(mode = 'markers')\n",
        "                     )\n",
        "    \n",
        "    # Set the range of the X-axis\n",
        "    fig.update_xaxes(range = [-10, 10])\n",
        "    \n",
        "    # Set the range of the Y-axis\n",
        "    fig.update_yaxes(range = [-10, 10])\n",
        "    \n",
        "    # Annotate X1, Y1 point\n",
        "    fig.add_annotation(x = x_1 -1, \n",
        "                       y = y_1,\n",
        "                       text = \"X1, Y1\",\n",
        "                       showarrow = False,\n",
        "                       arrowhead = 5,\n",
        "                      )\n",
        "    \n",
        "    # Annotate X2, Y2 point\n",
        "    fig.add_annotation(x = x_2 + 1, \n",
        "                       y = y_2,\n",
        "                       text = \"X2, Y2\",\n",
        "                       showarrow = False,\n",
        "                       arrowhead = 5,\n",
        "                      )\n",
        "    \n",
        "    # Updated the gridspace\n",
        "    fig.update_layout(height = 600,\n",
        "                      width = 800,\n",
        "                      \n",
        "                      xaxis = dict(tickmode = 'linear',\n",
        "                                   tick0 = -10,\n",
        "                                   dtick = 1\n",
        "                                  ),\n",
        "                      \n",
        "                      yaxis = dict(tickmode = 'linear',\n",
        "                                   tick0 = -10,\n",
        "                                   dtick = 1\n",
        "                                  ),\n",
        "                      \n",
        "                      title_text = 'The shortest distance between two points is called a line',\n",
        "                      \n",
        "                      dragmode = 'drawline',\n",
        "                     )\n",
        "    \n",
        "    # Add annotation capabilities to the visualization\n",
        "    fig.show(config = {'modeBarButtonsToAdd':['drawline',\n",
        "                                              'drawopenpath',\n",
        "                                              'drawclosedpath',\n",
        "                                              'drawcircle',\n",
        "                                              'drawrect',\n",
        "                                              'eraseshape'\n",
        "                                             ]\n",
        "                      }\n",
        "            )"
      ]
    },
    {
      "cell_type": "markdown",
      "id": "1e8e4b0c-c686-4d03-9bd1-ed6b5d9cd5b2",
      "metadata": {
        "tags": [],
        "id": "1e8e4b0c-c686-4d03-9bd1-ed6b5d9cd5b2"
      },
      "source": [
        "### Creating an output widget\n",
        "\n",
        "The output widget organizes the inter-active controls and graph for user interaction."
      ]
    },
    {
      "cell_type": "code",
      "execution_count": null,
      "id": "0c2b8550-6ae5-40de-b19f-5786279a118d",
      "metadata": {
        "tags": [],
        "id": "0c2b8550-6ae5-40de-b19f-5786279a118d"
      },
      "outputs": [],
      "source": [
        "# Object requires the function, and a dictionary that maps the controls\n",
        "# to the inputs needed in the function\n",
        "# https://ipywidgets.readthedocs.io/en/latest/examples/Using%20Interact.html?highlight=interactive_output#More-control-over-the-user-interface:-interactive_output\n",
        "out_line_segment = widgets.interactive_output(draw_simple_line, {'x_1' : x1, 'y_1' : y1, 'x_2' : x2, 'y_2' : y2})"
      ]
    },
    {
      "cell_type": "markdown",
      "id": "7a4eed0d-41f9-4197-be1f-f289a2a1ff9d",
      "metadata": {
        "id": "7a4eed0d-41f9-4197-be1f-f289a2a1ff9d"
      },
      "source": [
        "## What is a line?\n",
        "\n",
        "In `Euclidian` geometry, a line is defined as follows:\n",
        "\n",
        "> A line has length but no width or thickness. \n",
        "\n",
        "Our study is on straight line only.\n",
        "\n",
        "### A line segment\n",
        "\n",
        "A line segment is a straight line bewteen two points. Run the following code to run an interactive graph that creates line segments based on user inputs.\n",
        "\n",
        "As a minimum, in order to define a line, you need 2 points:\n",
        "\n",
        "A = ($x_1$, $y_1$)\n",
        "\n",
        "B = ($x_2$, $y_2$)\n",
        "\n",
        "A line segments can be defined as the shortest distance bewteen these two points.\n",
        "\n",
        "The following script will show you how to draw a line using python:"
      ]
    },
    {
      "cell_type": "markdown",
      "id": "a3301362-77e3-4b33-9a06-753a62b1540e",
      "metadata": {
        "id": "a3301362-77e3-4b33-9a06-753a62b1540e"
      },
      "source": [
        "## Example 1 Drawing a line segment"
      ]
    },
    {
      "cell_type": "code",
      "execution_count": null,
      "id": "7e0cb9aa-fab2-4dba-bed6-0a4325e5aac1",
      "metadata": {
        "id": "7e0cb9aa-fab2-4dba-bed6-0a4325e5aac1"
      },
      "outputs": [],
      "source": [
        "# Display the graph where a user can enter points and it displays a line\n",
        "display(ui, out_line_segment)"
      ]
    },
    {
      "cell_type": "markdown",
      "id": "ec83b79b-5955-49ac-957f-4cbbe104a189",
      "metadata": {
        "id": "ec83b79b-5955-49ac-957f-4cbbe104a189"
      },
      "source": [
        "### Observable pattern\n",
        "\n",
        "By knowing the `rise` and `run` of the line, better known as `the slope` of the line, in addition to the y-intercept (where the line crosses the y-axis) we can predict which points fall on this line.\n",
        "\n",
        "Let's first understand the line equation."
      ]
    },
    {
      "cell_type": "markdown",
      "id": "77094ba0-27f1-4770-8a63-eff0ef534e40",
      "metadata": {
        "tags": [],
        "id": "77094ba0-27f1-4770-8a63-eff0ef534e40"
      },
      "source": [
        "# Example 2 - Drawing a line using the line equation\n",
        "\n",
        "## Python Libraries\n",
        "\n",
        "The following python libraries are required to run this example:"
      ]
    },
    {
      "cell_type": "code",
      "execution_count": null,
      "id": "85f5935c-58e0-4883-b7e8-6b5b282f95c1",
      "metadata": {
        "id": "85f5935c-58e0-4883-b7e8-6b5b282f95c1"
      },
      "outputs": [],
      "source": [
        "# Library to handle array and array-like objects\n",
        "import numpy as np"
      ]
    },
    {
      "cell_type": "code",
      "execution_count": null,
      "id": "ae0ef2a6-e6bb-4506-993b-9174dea86eb9",
      "metadata": {
        "id": "ae0ef2a6-e6bb-4506-993b-9174dea86eb9"
      },
      "outputs": [],
      "source": [
        "# Library to create and use inter-active tools\n",
        "import ipywidgets as widgets"
      ]
    },
    {
      "cell_type": "code",
      "execution_count": null,
      "id": "0c4e53ef-1d60-4ab5-bfde-af174e766c71",
      "metadata": {
        "id": "0c4e53ef-1d60-4ab5-bfde-af174e766c71"
      },
      "outputs": [],
      "source": [
        "# Plotly Express graphing library\n",
        "import plotly.express as px"
      ]
    },
    {
      "cell_type": "markdown",
      "id": "4b8162b2-668c-48c2-8354-8da3c3f4aad2",
      "metadata": {
        "tags": [],
        "id": "4b8162b2-668c-48c2-8354-8da3c3f4aad2"
      },
      "source": [
        "## Helper functions\n",
        "\n",
        "### Interactive Controls\n",
        "\n",
        "The following `widgets` will be used for Example \\#2, in creating a line from a set of points:"
      ]
    },
    {
      "cell_type": "code",
      "execution_count": null,
      "id": "b96fcf3e-5d97-4436-adaa-3c85ca952b02",
      "metadata": {
        "id": "b96fcf3e-5d97-4436-adaa-3c85ca952b02"
      },
      "outputs": [],
      "source": [
        "# Slider widget to change the value of the slope\n",
        "slope_slider = widgets.FloatSlider(value = 0,\n",
        "                                   min = -10,\n",
        "                                   max = 10,\n",
        "                                   step = 0.5,\n",
        "                                   description = 'Slope: ',\n",
        "                                   disabled = False,\n",
        "                                   continuous_update = True,\n",
        "                                   orientation = 'horizontal',\n",
        "                                   readout = True,\n",
        "                                   readout_format = '.1f'\n",
        "                                  )"
      ]
    },
    {
      "cell_type": "code",
      "execution_count": null,
      "id": "6066b55c-817f-4ef0-ab6f-af295fa164d4",
      "metadata": {
        "id": "6066b55c-817f-4ef0-ab6f-af295fa164d4"
      },
      "outputs": [],
      "source": [
        "# Slider widget to change the value of the slope\n",
        "intercept_slider = widgets.FloatSlider(value = 0,\n",
        "                                       min = -10,\n",
        "                                       max = 10,\n",
        "                                       step = 0.5,\n",
        "                                       description = 'Intercept: ',\n",
        "                                       disabled = False,\n",
        "                                       continuous_update = True,\n",
        "                                       orientation = 'vertical',\n",
        "                                       readout = True,\n",
        "                                       readout_format = '.1f'\n",
        "                                      )"
      ]
    },
    {
      "cell_type": "markdown",
      "id": "78f9e5c9-f5ff-455f-814e-81d7627bccc2",
      "metadata": {
        "tags": [],
        "id": "78f9e5c9-f5ff-455f-814e-81d7627bccc2"
      },
      "source": [
        "### Organizing controls"
      ]
    },
    {
      "cell_type": "code",
      "execution_count": null,
      "id": "0b7b4552-8449-404f-93b1-d7b0c1cfc717",
      "metadata": {
        "id": "0b7b4552-8449-404f-93b1-d7b0c1cfc717"
      },
      "outputs": [],
      "source": [
        "# Combine these controls into on common grouping\n",
        "ui_line = widgets.VBox([slope_slider, intercept_slider])"
      ]
    },
    {
      "cell_type": "markdown",
      "id": "66e15181-7d1c-44e8-94fb-0a38a46353f1",
      "metadata": {
        "id": "66e15181-7d1c-44e8-94fb-0a38a46353f1"
      },
      "source": [
        "### Function"
      ]
    },
    {
      "cell_type": "code",
      "execution_count": null,
      "id": "2fbdc44a-cf0d-4495-8076-cf6e9a405f73",
      "metadata": {
        "id": "2fbdc44a-cf0d-4495-8076-cf6e9a405f73"
      },
      "outputs": [],
      "source": [
        "# Function will generate a line \n",
        "# based on the value of m and b\n",
        "def generate_a_line(m, b):\n",
        "    \n",
        "    # Generate 100 points on a scale between -10 and 10\n",
        "    x = np.linspace(-10, 10, 100)\n",
        "    \n",
        "    # Calculate the value of y\n",
        "    y = m * x + b\n",
        "    \n",
        "    # Graph the line\n",
        "    fig = px.line(x = x,\n",
        "                  y = y,\n",
        "                  \n",
        "                  #markers = True,\n",
        "                 )\n",
        "    \n",
        "    # Set the range of the X-axis\n",
        "    fig.update_xaxes(range = [-10, 10])\n",
        "    \n",
        "    # Set the range of the Y-axis\n",
        "    fig.update_yaxes(range = [-10, 10])\n",
        "    \n",
        "    # Updated the gridspace\n",
        "    fig.update_layout(height = 600,\n",
        "                      width = 800,\n",
        "                      \n",
        "                      xaxis = dict(tickmode = 'linear',\n",
        "                                   tick0 = -10,\n",
        "                                   dtick = 1\n",
        "                                  ),\n",
        "                      \n",
        "                      yaxis = dict(tickmode = 'linear',\n",
        "                                   tick0 = -10,\n",
        "                                   dtick = 1\n",
        "                                  ),\n",
        "                      \n",
        "                      title_text = 'Using the equation of a line',\n",
        "                      \n",
        "                      dragmode = 'drawline',\n",
        "                     )\n",
        "    \n",
        "    # Add annotation capabilities to the visualization\n",
        "    fig.show(config = {'modeBarButtonsToAdd':['drawline',\n",
        "                                              'drawopenpath',\n",
        "                                              'drawclosedpath',\n",
        "                                              'drawcircle',\n",
        "                                              'drawrect',\n",
        "                                              'eraseshape'\n",
        "                                             ]\n",
        "                      }\n",
        "            )"
      ]
    },
    {
      "cell_type": "markdown",
      "id": "6b2fadc9-43dc-4b09-bcc4-d514cedd48bb",
      "metadata": {
        "tags": [],
        "id": "6b2fadc9-43dc-4b09-bcc4-d514cedd48bb"
      },
      "source": [
        "### Creating an output widget"
      ]
    },
    {
      "cell_type": "code",
      "execution_count": null,
      "id": "29121ddc-4ede-4c7a-8126-ad5bbc516003",
      "metadata": {
        "id": "29121ddc-4ede-4c7a-8126-ad5bbc516003"
      },
      "outputs": [],
      "source": [
        "# Object requires the function, and a dictionary that maps the controls\n",
        "# to the inputs needed in the function\n",
        "# https://ipywidgets.readthedocs.io/en/latest/examples/Using%20Interact.html?highlight=interactive_output#More-control-over-the-user-interface:-interactive_output\n",
        "out_line = widgets.interactive_output(generate_a_line, {'m' : slope_slider, 'b' : intercept_slider})"
      ]
    },
    {
      "cell_type": "markdown",
      "id": "db5290da-56f5-4862-957b-7fc1f7173e73",
      "metadata": {
        "id": "db5290da-56f5-4862-957b-7fc1f7173e73"
      },
      "source": [
        "## Example 2 Drawing a line\n",
        "\n",
        "### Equation of a line\n",
        "\n",
        "The best way to understand regression is to first have a basic review of the equation of a line. \n",
        "\n",
        "#### Line Equation\n",
        "\n",
        "A line is defined by the following equation:\n",
        "\n",
        "$y = mx + b$\n",
        "\n",
        "Where the variables are:\n",
        "\n",
        "$y$ = dependant variable. The value of this variable depends on the value of x\n",
        "\n",
        "$m$ = slope of line\n",
        "\n",
        "$x$ = independant variable (a valid number that satisfies the line equation)\n",
        "\n",
        "$b$ = y - intercept (where the line crosses the y-axis)"
      ]
    },
    {
      "cell_type": "code",
      "execution_count": null,
      "id": "ad305568-2eb0-4d63-a57a-38d7b4844ec5",
      "metadata": {
        "id": "ad305568-2eb0-4d63-a57a-38d7b4844ec5"
      },
      "outputs": [],
      "source": [
        "# Display the graph where a user can enter points and it displays a line\n",
        "display(ui_line, out_line )"
      ]
    },
    {
      "cell_type": "markdown",
      "id": "f26c0066-eb75-4a4a-a758-d1071a9ba336",
      "metadata": {
        "id": "f26c0066-eb75-4a4a-a758-d1071a9ba336"
      },
      "source": [
        "## Observations\n",
        "\n",
        "1. You need two points in order to calculate a line segment\n",
        "2. Once you have a line segment, you can calculate the slope and y-intercept\n",
        "3. The slope and y-intercept are co-efficients that can be used to generate any valid point `y`, for any valid `x` found on that line\n",
        "4. Once you know the slope and y-intercept, you can calculate any point along that line, or predict if a point is on the line or not\n",
        "\n",
        "**Congradulations** You've identified your first regression pattern. How do you use this information to make predictions on what points lie on this line?"
      ]
    },
    {
      "cell_type": "markdown",
      "id": "65901b3d-22dc-4a23-81c1-45156d934ac9",
      "metadata": {
        "tags": [],
        "id": "65901b3d-22dc-4a23-81c1-45156d934ac9"
      },
      "source": [
        "## Additional Resources\n",
        "\n",
        "The following are some additional resources to further investigate lines, and the line equation:\n",
        "\n",
        "\n",
        "* [Equation of a Straight Line](https://www.mathsisfun.com/equation_of_line.html)\n",
        "* [Explore the Properties of a Straight Line Graph](https://www.mathsisfun.com/data/straight_line_graph.html)\n",
        "* [Equation of a Line](https://byjus.com/maths/general-equation-of-a-line/)\n",
        "* [How to Find the Equation of a Line](https://www.wikihow.com/Find-the-Equation-of-a-Line)"
      ]
    },
    {
      "cell_type": "markdown",
      "id": "5e5e24fe-9c0e-42cc-a981-a22a9fd47185",
      "metadata": {
        "tags": [],
        "id": "5e5e24fe-9c0e-42cc-a981-a22a9fd47185"
      },
      "source": [
        "# Example 3 - An Introduction into linear regression\n",
        "\n",
        "## Python Libraries\n",
        "\n",
        "The following python libraries are required to run this notebook:"
      ]
    },
    {
      "cell_type": "code",
      "execution_count": null,
      "id": "f8e56e74-38a0-48d9-b9d9-b935488a68c4",
      "metadata": {
        "id": "f8e56e74-38a0-48d9-b9d9-b935488a68c4"
      },
      "outputs": [],
      "source": [
        "# Library to handle array and array-like objects\n",
        "import numpy as np"
      ]
    },
    {
      "cell_type": "code",
      "execution_count": null,
      "id": "f23fd1f8-2629-4c8c-a95e-f44ea82e704d",
      "metadata": {
        "id": "f23fd1f8-2629-4c8c-a95e-f44ea82e704d"
      },
      "outputs": [],
      "source": [
        "# Library to handle tabluar data\n",
        "import pandas as pd"
      ]
    },
    {
      "cell_type": "code",
      "execution_count": null,
      "id": "f99d2cf9-ed0a-427e-a650-15ab519bef5e",
      "metadata": {
        "id": "f99d2cf9-ed0a-427e-a650-15ab519bef5e"
      },
      "outputs": [],
      "source": [
        "# Library to create and use inter-active tools\n",
        "import ipywidgets as widgets"
      ]
    },
    {
      "cell_type": "code",
      "execution_count": null,
      "id": "1beb243d-2e63-4a58-b07d-c7c9e712c795",
      "metadata": {
        "id": "1beb243d-2e63-4a58-b07d-c7c9e712c795"
      },
      "outputs": [],
      "source": [
        "# Plotly Express graphing library\n",
        "import plotly.express as px"
      ]
    },
    {
      "cell_type": "code",
      "execution_count": null,
      "id": "79819944-38cb-404c-b765-22b764253551",
      "metadata": {
        "id": "79819944-38cb-404c-b765-22b764253551"
      },
      "outputs": [],
      "source": [
        "# Library used to generate a linear regression dataset\n",
        "from sklearn.datasets import make_regression"
      ]
    },
    {
      "cell_type": "markdown",
      "id": "ae531bfb-fa3c-4416-9cb0-c03e4fd9ce50",
      "metadata": {
        "tags": [],
        "id": "ae531bfb-fa3c-4416-9cb0-c03e4fd9ce50"
      },
      "source": [
        "## Helper functions\n",
        "\n",
        "### Interactive Controls\n",
        "\n",
        "The following `widgets` will be used for Example \\#3, in creating a line from a set of points:\n",
        "\n",
        "#### Sliders to Control Dataset Generation"
      ]
    },
    {
      "cell_type": "code",
      "execution_count": null,
      "id": "63a31566-95cd-47c5-95a3-48b16c7ebc9e",
      "metadata": {
        "id": "63a31566-95cd-47c5-95a3-48b16c7ebc9e"
      },
      "outputs": [],
      "source": [
        "# Slider to control the number of samples\n",
        "samples_slider = widgets.IntSlider(value = 100,\n",
        "                                   min = 100,\n",
        "                                   max = 500,\n",
        "                                   step = 5,\n",
        "                                   description = '# of Samples: ',\n",
        "                                   disabled = False,\n",
        "                                   continuous_update = False,\n",
        "                                   orientation = 'horizontal',\n",
        "                                   readout = True,\n",
        "                                   readout_format = 'd'\n",
        "                                  )"
      ]
    },
    {
      "cell_type": "code",
      "execution_count": null,
      "id": "1d306db0-9b5a-4a96-9d6a-474304bf4b8f",
      "metadata": {
        "id": "1d306db0-9b5a-4a96-9d6a-474304bf4b8f"
      },
      "outputs": [],
      "source": [
        "# Slider to control the amount of \"noise\" in the dataset\n",
        "noise_slider = widgets.FloatSlider(value = 0,\n",
        "                                   min = 0,\n",
        "                                   max = 100,\n",
        "                                   step = 0.1,\n",
        "                                   description = 'Noise: ',\n",
        "                                   disabled = False,\n",
        "                                   continuous_update = False,\n",
        "                                   orientation = 'horizontal',\n",
        "                                   readout = True,\n",
        "                                   readout_format = '.1f',\n",
        "                                  )"
      ]
    },
    {
      "cell_type": "code",
      "execution_count": null,
      "id": "2a8ef6d1-e4fc-4662-9dfd-c718f8754354",
      "metadata": {
        "id": "2a8ef6d1-e4fc-4662-9dfd-c718f8754354"
      },
      "outputs": [],
      "source": [
        "# Checkbox that shows a trendline when selected\n",
        "trend_line_selector = widgets.Checkbox(value = False,\n",
        "                                       description = 'Trendline',\n",
        "                                       disabled = False,\n",
        "                                       indent = False\n",
        "                                      )"
      ]
    },
    {
      "cell_type": "markdown",
      "id": "08c7cfa6-de37-4d65-a74b-ff631ed5e02c",
      "metadata": {
        "tags": [],
        "id": "08c7cfa6-de37-4d65-a74b-ff631ed5e02c"
      },
      "source": [
        "### Organizing controls"
      ]
    },
    {
      "cell_type": "code",
      "execution_count": null,
      "id": "ec6170fc-ee5e-48ca-ac52-98022573a35f",
      "metadata": {
        "id": "ec6170fc-ee5e-48ca-ac52-98022573a35f"
      },
      "outputs": [],
      "source": [
        "# Combine these controls into on common grouping\n",
        "ui_regression = widgets.VBox([samples_slider, noise_slider, trend_line_selector])"
      ]
    },
    {
      "cell_type": "markdown",
      "id": "886f3b12-556e-4bea-bcf6-2a494d4d07f4",
      "metadata": {
        "id": "886f3b12-556e-4bea-bcf6-2a494d4d07f4"
      },
      "source": [
        "### Function"
      ]
    },
    {
      "cell_type": "code",
      "execution_count": null,
      "id": "d182e744-6b12-460a-a0d0-caf5a887e3ed",
      "metadata": {
        "id": "d182e744-6b12-460a-a0d0-caf5a887e3ed"
      },
      "outputs": [],
      "source": [
        "# Function to generate a data set and then plot\n",
        "# that a user can select number of samples and noise\n",
        "def linear_regression(noise, samples, trend_line):\n",
        "    \n",
        "    data, target, coefficients = make_regression(n_samples = samples,        # The number of samples\n",
        "                                                 n_features = 1,         # The number of features\n",
        "                                                 n_informative = 2,      # The number of informative features, i.e., the number of features used to build the linear model used to generate the output\n",
        "                                                 n_targets = 1,          # The number of regression targets, i.e., the dimension of the y output vector associated with a sample. By default, the output is a scalar\n",
        "                                                 bias = 0,               # The bias term in the underlying linear model\n",
        "                                                 effective_rank = None,\n",
        "                                                 tail_strength = 0.5,    # The relative importance of the fat noisy tail of the singular values profile if effective_rank is not None. When a float, it should be between 0 and 1\n",
        "                                                 noise = noise,            # The standard deviation of the gaussian noise applied to the output\n",
        "                                                 shuffle = True,         # Shuffle the samples and the features\n",
        "                                                 coef = True,            # If True, the coefficients of the underlying linear model are returned\n",
        "                                                 random_state = 42       # Determines random number generation for dataset creation. Pass an int for reproducible output across multiple function calls\n",
        "                                                )       \n",
        "    \n",
        "    # Convert the dataset into a dataframe\n",
        "    df = pd.DataFrame({'data': data[:, 0],\n",
        "                       'Cofficient': coefficients,\n",
        "                       'target': target\n",
        "                      }\n",
        "                     )\n",
        "    # Display a trend line\n",
        "    # when selected\n",
        "    if trend_line == False:\n",
        "        trend = None\n",
        "    else:\n",
        "        trend = 'ols'\n",
        "    \n",
        "    # Plot the dataset\n",
        "    fig = px.scatter(df,\n",
        "                     x = 'data',\n",
        "                     y = 'target',\n",
        "                     trendline = trend, # 'ols', 'rolling' \n",
        "                     opacity = 0.5,\n",
        "                     color_discrete_sequence = [\"black\"],\n",
        "                     )\n",
        "    \n",
        "    # Updated the gridspace\n",
        "    fig.update_layout(height = 600,\n",
        "                      width = 800,\n",
        "                                        \n",
        "                      title = 'Linear Regression',   \n",
        "                      \n",
        "                      dragmode = 'drawline',\n",
        "                     )\n",
        "    \n",
        "    # Add annotation capabilities to the visualization\n",
        "    fig.show(config = {'modeBarButtonsToAdd':['drawline',\n",
        "                                              'drawopenpath',\n",
        "                                              'drawclosedpath',\n",
        "                                              'drawcircle',\n",
        "                                              'drawrect',\n",
        "                                              'eraseshape'\n",
        "                                             ]\n",
        "                      }\n",
        "            )"
      ]
    },
    {
      "cell_type": "markdown",
      "id": "27b83301-0e0a-4ce7-86cc-4f497b7978f8",
      "metadata": {
        "tags": [],
        "id": "27b83301-0e0a-4ce7-86cc-4f497b7978f8"
      },
      "source": [
        "### Creating an output widget"
      ]
    },
    {
      "cell_type": "code",
      "execution_count": null,
      "id": "dd8cc018-99e9-43e3-babc-0c2ecd681a8e",
      "metadata": {
        "tags": [],
        "id": "dd8cc018-99e9-43e3-babc-0c2ecd681a8e"
      },
      "outputs": [],
      "source": [
        "# Object requires the function, and a dictionary that maps the controls\n",
        "# to the inputs needed in the function\n",
        "# https://ipywidgets.readthedocs.io/en/latest/examples/Using%20Interact.html?highlight=interactive_output#More-control-over-the-user-interface:-interactive_output\n",
        "out_regression = widgets.interactive_output(linear_regression, {'noise' : noise_slider, 'samples' : samples_slider, 'trend_line' : trend_line_selector})"
      ]
    },
    {
      "cell_type": "markdown",
      "id": "5503024c-fa77-4e77-98c9-5d42651b8772",
      "metadata": {
        "id": "5503024c-fa77-4e77-98c9-5d42651b8772"
      },
      "source": [
        "## Example 3 Linear Regression\n",
        "\n",
        "The purpose of `linear regression` is to find a **line of best fit**. This **line** can then be used to predict future values of $\\hat{y}$ (Y-hat) based on determinine the values of the `y-intercept` and `slope`.  \n",
        "\n",
        "### Regression Equation\n",
        "\n",
        "$\\hat{y} = b_0 + b_1x$\n",
        "\n",
        "Where:\n",
        "\n",
        "$\\hat{y}$ = Predicted target value (dependant variable)\n",
        "\n",
        "$b_0$ = Intercept of the regression line\n",
        "\n",
        "$b_1$ = Slope of regression line\n",
        "\n",
        "$x$ = (independant variable)\n",
        "\n",
        "$b_0$ and $b_1$ are the co-efficients that are determined in order to find the **line of best fit**."
      ]
    },
    {
      "cell_type": "code",
      "execution_count": null,
      "id": "c364a13c-9179-4a0c-8642-3d4873ddf7cc",
      "metadata": {
        "id": "c364a13c-9179-4a0c-8642-3d4873ddf7cc"
      },
      "outputs": [],
      "source": [
        "# Display the graph where a user can enter points and it displays a line\n",
        "display(ui_regression, out_regression)"
      ]
    },
    {
      "cell_type": "markdown",
      "id": "ba9bacec-2d2b-4a34-9264-a6ef8a75c233",
      "metadata": {
        "id": "ba9bacec-2d2b-4a34-9264-a6ef8a75c233"
      },
      "source": [
        "## How does linear regression work?\n",
        "\n",
        "Linear regression works by utilizing the `ordinary least square` method of determing the line of best fit. This uses `estimators` to determine the value of the `coefficients`. The `Trendline` function found on the graph uses `OLS` to draw the best fit line."
      ]
    },
    {
      "cell_type": "markdown",
      "id": "df8f2b2a-eb9b-4f2f-b22c-1ab94472f064",
      "metadata": {
        "id": "df8f2b2a-eb9b-4f2f-b22c-1ab94472f064"
      },
      "source": [
        "## Additional Resrouces\n",
        "\n",
        "* [An Introduction to Linear Regression Analysis - statisticfun](https://youtu.be/zPG4NjIkCjc)\n",
        "* [Linear Regression and Linear Models - StatQuest](https://youtube.com/playlist?list=PLblh5JKOoLUIzaEkCLIUxQFjPIlapw8nU)\n",
        "* [How to perform simple linear regression in python - Statology](https://www.statology.org/simple-linear-regression-in-python/)\n",
        "* [Intuitions on linear models - scikit-learn video](https://inria.github.io/scikit-learn-mooc/linear_models/linear_models_slides.html)\n",
        "* [Ordinary Least Square (OLS) Method for Linear Regression - Medium Article](https://medium.com/analytics-vidhya/ordinary-least-square-ols-method-for-linear-regression-ef8ca10aadfc)"
      ]
    },
    {
      "cell_type": "markdown",
      "id": "56642182-64fe-4890-b5a1-ac0260b236fb",
      "metadata": {
        "tags": [],
        "id": "56642182-64fe-4890-b5a1-ac0260b236fb"
      },
      "source": [
        "# Example 4 - An Introduction into linear regression\n",
        "\n",
        "## Python Libraries\n",
        "\n",
        "The following python libraries are required to run this notebook:"
      ]
    },
    {
      "cell_type": "code",
      "execution_count": null,
      "id": "03632557-c5c5-41bd-aa40-079a9483af95",
      "metadata": {
        "id": "03632557-c5c5-41bd-aa40-079a9483af95"
      },
      "outputs": [],
      "source": [
        "# Library to handle array and array-like objects\n",
        "import numpy as np"
      ]
    },
    {
      "cell_type": "code",
      "execution_count": null,
      "id": "164df4ca-a4b3-47da-8c41-0e747c3d15c2",
      "metadata": {
        "id": "164df4ca-a4b3-47da-8c41-0e747c3d15c2"
      },
      "outputs": [],
      "source": [
        "# Library to handle tabluar data\n",
        "import pandas as pd"
      ]
    },
    {
      "cell_type": "code",
      "execution_count": null,
      "id": "17103a2a-bce6-4880-9fe3-752d52179045",
      "metadata": {
        "id": "17103a2a-bce6-4880-9fe3-752d52179045"
      },
      "outputs": [],
      "source": [
        "# Library to create and use inter-active tools\n",
        "import ipywidgets as widgets"
      ]
    },
    {
      "cell_type": "code",
      "execution_count": null,
      "id": "738c3dc0-5b14-4f66-81ad-556f51ad6f45",
      "metadata": {
        "id": "738c3dc0-5b14-4f66-81ad-556f51ad6f45"
      },
      "outputs": [],
      "source": [
        "# Plotly Express graphing library\n",
        "import plotly.express as px"
      ]
    },
    {
      "cell_type": "code",
      "execution_count": null,
      "id": "faea541c-3abd-42b3-9148-2d29b051011f",
      "metadata": {
        "id": "faea541c-3abd-42b3-9148-2d29b051011f"
      },
      "outputs": [],
      "source": [
        "import plotly.graph_objects as go"
      ]
    },
    {
      "cell_type": "code",
      "execution_count": null,
      "id": "4818442d-51ba-451d-a9b3-8898b6151dd5",
      "metadata": {
        "id": "4818442d-51ba-451d-a9b3-8898b6151dd5"
      },
      "outputs": [],
      "source": [
        "# Creates the diagrams of the ML diagrams\n",
        "from sklearn import set_config\n",
        "\n",
        "set_config(display = \"diagram\")"
      ]
    },
    {
      "cell_type": "code",
      "execution_count": null,
      "id": "a5ef4e30-aaa8-4bf3-a163-011632b7b3dc",
      "metadata": {
        "id": "a5ef4e30-aaa8-4bf3-a163-011632b7b3dc"
      },
      "outputs": [],
      "source": [
        "# Library used to generate a linear regression dataset\n",
        "from sklearn.datasets import make_regression"
      ]
    },
    {
      "cell_type": "code",
      "execution_count": null,
      "id": "5ff8bfb9-c7ee-4242-8833-12c3658cde7d",
      "metadata": {
        "id": "5ff8bfb9-c7ee-4242-8833-12c3658cde7d"
      },
      "outputs": [],
      "source": [
        "# Library used in ML pipeline building\n",
        "from sklearn.pipeline import make_pipeline"
      ]
    },
    {
      "cell_type": "code",
      "execution_count": null,
      "id": "94a15b31-1267-464b-b422-f816aced399c",
      "metadata": {
        "id": "94a15b31-1267-464b-b422-f816aced399c"
      },
      "outputs": [],
      "source": [
        "# Library for feature pre-processing\n",
        "from sklearn.preprocessing import StandardScaler"
      ]
    },
    {
      "cell_type": "code",
      "execution_count": null,
      "id": "f0042dc4-5219-4be7-b73c-03a9139d7be9",
      "metadata": {
        "id": "f0042dc4-5219-4be7-b73c-03a9139d7be9"
      },
      "outputs": [],
      "source": [
        "# Library used to create a linear regresion line\n",
        "from sklearn.linear_model import LinearRegression"
      ]
    },
    {
      "cell_type": "markdown",
      "id": "738f0341-8de7-40ec-9390-54eb0d9107ad",
      "metadata": {
        "tags": [],
        "id": "738f0341-8de7-40ec-9390-54eb0d9107ad"
      },
      "source": [
        "## Helper functions\n",
        "\n",
        "### Interactive Controls\n",
        "\n",
        "The following `widgets` will be used for Example \\#3, in creating a line from a set of points:\n",
        "\n",
        "#### Sliders to Control Dataset Generation"
      ]
    },
    {
      "cell_type": "code",
      "execution_count": null,
      "id": "706a16a1-1f0f-45f8-9938-6cdfc58448cb",
      "metadata": {
        "id": "706a16a1-1f0f-45f8-9938-6cdfc58448cb"
      },
      "outputs": [],
      "source": [
        "# Slider to adjust the sample size\n",
        "samples_slider1 = widgets.IntSlider(value = 100,\n",
        "                                   min = 100,\n",
        "                                   max = 500,\n",
        "                                   step = 5,\n",
        "                                   description = '# of Samples: ',\n",
        "                                   disabled = False,\n",
        "                                   continuous_update = False,\n",
        "                                   orientation = 'horizontal',\n",
        "                                   readout = True,\n",
        "                                   readout_format = 'd'\n",
        "                                  )"
      ]
    },
    {
      "cell_type": "code",
      "execution_count": null,
      "id": "4e7b7ec1-ff16-4d45-80d5-1dd106dc8585",
      "metadata": {
        "id": "4e7b7ec1-ff16-4d45-80d5-1dd106dc8585"
      },
      "outputs": [],
      "source": [
        "# Slider to adjust the amount of noise in the dataset\n",
        "noise_slider1 = widgets.FloatSlider(value = 0,\n",
        "                                   min = 0,\n",
        "                                   max = 100,\n",
        "                                   step = 0.1,\n",
        "                                   description = 'Noise: ',\n",
        "                                   disabled = False,\n",
        "                                   continuous_update = False,\n",
        "                                   orientation = 'horizontal',\n",
        "                                   readout = True,\n",
        "                                   readout_format = '.1f',\n",
        "                                  )"
      ]
    },
    {
      "cell_type": "code",
      "execution_count": null,
      "id": "dab8eed3-9901-485e-bf87-8d6df28f0b62",
      "metadata": {
        "id": "dab8eed3-9901-485e-bf87-8d6df28f0b62"
      },
      "outputs": [],
      "source": [
        "# Allows the user to select seeing a trendline\n",
        "trend_line_selector1 = widgets.Checkbox(value = False,\n",
        "                                       description = 'Trendline',\n",
        "                                       disabled = False,\n",
        "                                       indent = False\n",
        "                                      )"
      ]
    },
    {
      "cell_type": "markdown",
      "id": "71ff87fc-90dd-4448-88da-9795efb8540e",
      "metadata": {
        "id": "71ff87fc-90dd-4448-88da-9795efb8540e"
      },
      "source": [
        "#### Regression trendline"
      ]
    },
    {
      "cell_type": "code",
      "execution_count": null,
      "id": "d3b04f35-9124-4575-ab1e-d86d8c7ece92",
      "metadata": {
        "id": "d3b04f35-9124-4575-ab1e-d86d8c7ece92"
      },
      "outputs": [],
      "source": [
        "# Allows the user to select seeing a trendline\n",
        "# when displaying the regression lines\n",
        "trend_line_selector2 = widgets.Checkbox(value = False,\n",
        "                                       description = 'Trendline',\n",
        "                                       disabled = False,\n",
        "                                       indent = False\n",
        "                                      )"
      ]
    },
    {
      "cell_type": "markdown",
      "id": "513b2bfd-13a0-4dbc-808b-547c2e2ce426",
      "metadata": {
        "tags": [],
        "id": "513b2bfd-13a0-4dbc-808b-547c2e2ce426"
      },
      "source": [
        "### Organizing controls"
      ]
    },
    {
      "cell_type": "code",
      "execution_count": null,
      "id": "ac5f2f63-f0c3-41f6-a63d-e3a2bba6b00b",
      "metadata": {
        "id": "ac5f2f63-f0c3-41f6-a63d-e3a2bba6b00b"
      },
      "outputs": [],
      "source": [
        "# Combine these controls into on common grouping\n",
        "ui_regression = widgets.VBox([samples_slider1, noise_slider1, trend_line_selector1])"
      ]
    },
    {
      "cell_type": "markdown",
      "id": "bc4fc696-98ee-4c59-aaca-e761af201957",
      "metadata": {
        "id": "bc4fc696-98ee-4c59-aaca-e761af201957"
      },
      "source": [
        "### Function"
      ]
    },
    {
      "cell_type": "code",
      "execution_count": null,
      "id": "efc8d872-73e0-431a-9404-05aaf0a42c6e",
      "metadata": {
        "id": "efc8d872-73e0-431a-9404-05aaf0a42c6e"
      },
      "outputs": [],
      "source": [
        "# Function will generate a dataset that a user can \n",
        "# interact with by changing the number of samples\n",
        "# or the noise.\n",
        "def linear_regression(noise, samples, trend_line):\n",
        "    # Create a dataset based on user input on samples and noise\n",
        "    data, target, coefficients = make_regression(n_samples = samples,        # The number of samples\n",
        "                                                 n_features = 1,         # The number of features\n",
        "                                                 n_informative = 2,      # The number of informative features, i.e., the number of features used to build the linear model used to generate the output\n",
        "                                                 n_targets = 1,          # The number of regression targets, i.e., the dimension of the y output vector associated with a sample. By default, the output is a scalar\n",
        "                                                 bias = 0,               # The bias term in the underlying linear model\n",
        "                                                 effective_rank = None,\n",
        "                                                 tail_strength = 0.5,    # The relative importance of the fat noisy tail of the singular values profile if effective_rank is not None. When a float, it should be between 0 and 1\n",
        "                                                 noise = noise,            # The standard deviation of the gaussian noise applied to the output\n",
        "                                                 shuffle = True,         # Shuffle the samples and the features\n",
        "                                                 coef = True,            # If True, the coefficients of the underlying linear model are returned\n",
        "                                                 random_state = 42       # Determines random number generation for dataset creation. Pass an int for reproducible output across multiple function calls\n",
        "                                                )       \n",
        "    \n",
        "    # Convert the dataset into a dataframe\n",
        "    df = pd.DataFrame({'data': data[:, 0],\n",
        "                       'Cofficient': coefficients,\n",
        "                       'target': target\n",
        "                      }\n",
        "                     )\n",
        "    \n",
        "    # Display a trend line\n",
        "    # when selected\n",
        "    if trend_line == False:\n",
        "        trend = None\n",
        "    else:\n",
        "        trend = 'ols'\n",
        "     \n",
        "    # Generate a scatterplot\n",
        "    fig = px.scatter(df,\n",
        "                     x = 'data',\n",
        "                     y = 'target',\n",
        "                     trendline = trend, # 'ols', 'rolling'\n",
        "                     title = 'Linear Regression',   \n",
        "                     opacity = 0.5,\n",
        "                     color_discrete_sequence = [\"black\"],\n",
        "                     height = 600,\n",
        "                     width = 800,\n",
        "                    )\n",
        "\n",
        "    fig.show()"
      ]
    },
    {
      "cell_type": "markdown",
      "id": "ee070272-6047-41fb-a663-493c9dd8383b",
      "metadata": {
        "tags": [],
        "id": "ee070272-6047-41fb-a663-493c9dd8383b"
      },
      "source": [
        "### Creating an output widget"
      ]
    },
    {
      "cell_type": "code",
      "execution_count": null,
      "id": "1f7ec58a-c1d9-4999-9a2a-42c9f0c5c929",
      "metadata": {
        "tags": [],
        "id": "1f7ec58a-c1d9-4999-9a2a-42c9f0c5c929"
      },
      "outputs": [],
      "source": [
        "# Object requires the function, and a dictionary that maps the controls\n",
        "# to the inputs needed in the function\n",
        "# https://ipywidgets.readthedocs.io/en/latest/examples/Using%20Interact.html?highlight=interactive_output#More-control-over-the-user-interface:-interactive_output\n",
        "out_regression = widgets.interactive_output(linear_regression, {'noise' : noise_slider1, 'samples' : samples_slider1, 'trend_line' : trend_line_selector1})"
      ]
    },
    {
      "cell_type": "markdown",
      "id": "1d81cfe7-9d98-4ad9-a777-b57d3e4a5e32",
      "metadata": {
        "id": "1d81cfe7-9d98-4ad9-a777-b57d3e4a5e32"
      },
      "source": [
        "## Example 4 Linear Regression using `scikit-learn`\n",
        "\n",
        "### Generating a Dataset\n",
        "\n",
        "The purpose of `linear regression` is to find a **line of best fit**. This **line** can then be used to predict future values of $\\hat{y}$ (Y-hat) based on determinine the values of the `y-intercept` and `slope`.  \n"
      ]
    },
    {
      "cell_type": "code",
      "execution_count": null,
      "id": "20e2237a-8f17-4d24-bcc3-3a96abb3a89d",
      "metadata": {
        "id": "20e2237a-8f17-4d24-bcc3-3a96abb3a89d",
        "outputId": "832f3f23-1313-4bf6-d5d8-95c816eb1ce0"
      },
      "outputs": [
        {
          "data": {
            "application/vnd.jupyter.widget-view+json": {
              "model_id": "77d3681a4ade4b098c994bd8fe1d0b6e",
              "version_major": 2,
              "version_minor": 0
            },
            "text/plain": [
              "VBox(children=(IntSlider(value=100, continuous_update=False, description='# of Samples: ', max=500, min=100, s…"
            ]
          },
          "metadata": {},
          "output_type": "display_data"
        },
        {
          "data": {
            "application/vnd.jupyter.widget-view+json": {
              "model_id": "7242d68e01974bdda14f0d7b673d377f",
              "version_major": 2,
              "version_minor": 0
            },
            "text/plain": [
              "Output(outputs=({'output_type': 'display_data', 'data': {'text/html': '        <script type=\"text/javascript\">…"
            ]
          },
          "metadata": {},
          "output_type": "display_data"
        }
      ],
      "source": [
        "# Display the graph where a user can enter points and it displays a line\n",
        "display(ui_regression, out_regression)"
      ]
    },
    {
      "cell_type": "markdown",
      "id": "1ce7b1a7-6552-42ac-a3d2-b05a13373d22",
      "metadata": {
        "id": "1ce7b1a7-6552-42ac-a3d2-b05a13373d22"
      },
      "source": [
        "If you're happy with the dataset you want generated, run the code below to use this dataset in training a machine learning model."
      ]
    },
    {
      "cell_type": "code",
      "execution_count": null,
      "id": "529b4a0a-488d-417b-908d-2ceb553d0ab6",
      "metadata": {
        "id": "529b4a0a-488d-417b-908d-2ceb553d0ab6"
      },
      "outputs": [],
      "source": [
        "# Generate the dataset that will be used to train a model\n",
        "data, target, coefficients = make_regression(n_samples = samples_slider1.value,        # The number of samples\n",
        "                                             n_features = 1,         # The number of features\n",
        "                                             n_informative = 2,      # The number of informative features, i.e., the number of features used to build the linear model used to generate the output\n",
        "                                             n_targets = 1,          # The number of regression targets, i.e., the dimension of the y output vector associated with a sample. By default, the output is a scalar\n",
        "                                             bias = 0,               # The bias term in the underlying linear model\n",
        "                                             effective_rank = None,\n",
        "                                             tail_strength = 0.5,    # The relative importance of the fat noisy tail of the singular values profile if effective_rank is not None. When a float, it should be between 0 and 1\n",
        "                                             noise = noise_slider1.value,            # The standard deviation of the gaussian noise applied to the output\n",
        "                                             shuffle = True,         # Shuffle the samples and the features\n",
        "                                             coef = True,            # If True, the coefficients of the underlying linear model are returned\n",
        "                                             random_state = 42       # Determines random number generation for dataset creation. Pass an int for reproducible output across multiple function calls\n",
        "                                            )   "
      ]
    },
    {
      "cell_type": "markdown",
      "id": "f824d9e3-5f3e-4551-a262-af4427adadf8",
      "metadata": {
        "id": "f824d9e3-5f3e-4551-a262-af4427adadf8"
      },
      "source": [
        "### Convert data into a dataframe\n",
        "\n",
        "This step is to inspect the data, you don't really need to do this step"
      ]
    },
    {
      "cell_type": "code",
      "execution_count": null,
      "id": "eac2599a-a6dd-40cc-9030-971787fce9e4",
      "metadata": {
        "id": "eac2599a-a6dd-40cc-9030-971787fce9e4",
        "outputId": "d58681db-4a95-4127-ca65-fe50877c8ded"
      },
      "outputs": [
        {
          "data": {
            "text/html": [
              "<div>\n",
              "<style scoped>\n",
              "    .dataframe tbody tr th:only-of-type {\n",
              "        vertical-align: middle;\n",
              "    }\n",
              "\n",
              "    .dataframe tbody tr th {\n",
              "        vertical-align: top;\n",
              "    }\n",
              "\n",
              "    .dataframe thead th {\n",
              "        text-align: right;\n",
              "    }\n",
              "</style>\n",
              "<table border=\"1\" class=\"dataframe\">\n",
              "  <thead>\n",
              "    <tr style=\"text-align: right;\">\n",
              "      <th></th>\n",
              "      <th>data</th>\n",
              "      <th>Cofficient</th>\n",
              "      <th>target</th>\n",
              "    </tr>\n",
              "  </thead>\n",
              "  <tbody>\n",
              "    <tr>\n",
              "      <th>0</th>\n",
              "      <td>-0.309212</td>\n",
              "      <td>37.558295</td>\n",
              "      <td>2.947671</td>\n",
              "    </tr>\n",
              "    <tr>\n",
              "      <th>1</th>\n",
              "      <td>-0.074446</td>\n",
              "      <td>37.558295</td>\n",
              "      <td>-9.750643</td>\n",
              "    </tr>\n",
              "    <tr>\n",
              "      <th>2</th>\n",
              "      <td>0.812526</td>\n",
              "      <td>37.558295</td>\n",
              "      <td>32.113964</td>\n",
              "    </tr>\n",
              "    <tr>\n",
              "      <th>3</th>\n",
              "      <td>0.227460</td>\n",
              "      <td>37.558295</td>\n",
              "      <td>17.683108</td>\n",
              "    </tr>\n",
              "    <tr>\n",
              "      <th>4</th>\n",
              "      <td>-0.562288</td>\n",
              "      <td>37.558295</td>\n",
              "      <td>32.634748</td>\n",
              "    </tr>\n",
              "    <tr>\n",
              "      <th>...</th>\n",
              "      <td>...</td>\n",
              "      <td>...</td>\n",
              "      <td>...</td>\n",
              "    </tr>\n",
              "    <tr>\n",
              "      <th>210</th>\n",
              "      <td>-0.192361</td>\n",
              "      <td>37.558295</td>\n",
              "      <td>-2.638739</td>\n",
              "    </tr>\n",
              "    <tr>\n",
              "      <th>211</th>\n",
              "      <td>1.083051</td>\n",
              "      <td>37.558295</td>\n",
              "      <td>37.593307</td>\n",
              "    </tr>\n",
              "    <tr>\n",
              "      <th>212</th>\n",
              "      <td>-0.115648</td>\n",
              "      <td>37.558295</td>\n",
              "      <td>-25.326865</td>\n",
              "    </tr>\n",
              "    <tr>\n",
              "      <th>213</th>\n",
              "      <td>2.190456</td>\n",
              "      <td>37.558295</td>\n",
              "      <td>66.917071</td>\n",
              "    </tr>\n",
              "    <tr>\n",
              "      <th>214</th>\n",
              "      <td>-1.377669</td>\n",
              "      <td>37.558295</td>\n",
              "      <td>-100.587394</td>\n",
              "    </tr>\n",
              "  </tbody>\n",
              "</table>\n",
              "<p>215 rows × 3 columns</p>\n",
              "</div>"
            ],
            "text/plain": [
              "         data  Cofficient      target\n",
              "0   -0.309212   37.558295    2.947671\n",
              "1   -0.074446   37.558295   -9.750643\n",
              "2    0.812526   37.558295   32.113964\n",
              "3    0.227460   37.558295   17.683108\n",
              "4   -0.562288   37.558295   32.634748\n",
              "..        ...         ...         ...\n",
              "210 -0.192361   37.558295   -2.638739\n",
              "211  1.083051   37.558295   37.593307\n",
              "212 -0.115648   37.558295  -25.326865\n",
              "213  2.190456   37.558295   66.917071\n",
              "214 -1.377669   37.558295 -100.587394\n",
              "\n",
              "[215 rows x 3 columns]"
            ]
          },
          "execution_count": 21,
          "metadata": {},
          "output_type": "execute_result"
        }
      ],
      "source": [
        "# Convert the dataset into a dataframe\n",
        "df = pd.DataFrame({'data': data[:, 0],\n",
        "                   'Cofficient': coefficients,\n",
        "                   'target': target\n",
        "                  }\n",
        "                 )\n",
        "\n",
        "df"
      ]
    },
    {
      "cell_type": "markdown",
      "id": "c84e5b33-3ce4-4ad9-a5da-a3367b3fa636",
      "metadata": {
        "id": "c84e5b33-3ce4-4ad9-a5da-a3367b3fa636"
      },
      "source": [
        "### Build a regression model"
      ]
    },
    {
      "cell_type": "code",
      "execution_count": null,
      "id": "60dbfee5-5778-459a-aaec-31e4c50d0887",
      "metadata": {
        "id": "60dbfee5-5778-459a-aaec-31e4c50d0887",
        "outputId": "56b67b1d-631d-440d-f91c-2bd5cf8e44d0"
      },
      "outputs": [
        {
          "data": {
            "text/html": [
              "<style>#sk-container-id-1 {color: black;background-color: white;}#sk-container-id-1 pre{padding: 0;}#sk-container-id-1 div.sk-toggleable {background-color: white;}#sk-container-id-1 label.sk-toggleable__label {cursor: pointer;display: block;width: 100%;margin-bottom: 0;padding: 0.3em;box-sizing: border-box;text-align: center;}#sk-container-id-1 label.sk-toggleable__label-arrow:before {content: \"▸\";float: left;margin-right: 0.25em;color: #696969;}#sk-container-id-1 label.sk-toggleable__label-arrow:hover:before {color: black;}#sk-container-id-1 div.sk-estimator:hover label.sk-toggleable__label-arrow:before {color: black;}#sk-container-id-1 div.sk-toggleable__content {max-height: 0;max-width: 0;overflow: hidden;text-align: left;background-color: #f0f8ff;}#sk-container-id-1 div.sk-toggleable__content pre {margin: 0.2em;color: black;border-radius: 0.25em;background-color: #f0f8ff;}#sk-container-id-1 input.sk-toggleable__control:checked~div.sk-toggleable__content {max-height: 200px;max-width: 100%;overflow: auto;}#sk-container-id-1 input.sk-toggleable__control:checked~label.sk-toggleable__label-arrow:before {content: \"▾\";}#sk-container-id-1 div.sk-estimator input.sk-toggleable__control:checked~label.sk-toggleable__label {background-color: #d4ebff;}#sk-container-id-1 div.sk-label input.sk-toggleable__control:checked~label.sk-toggleable__label {background-color: #d4ebff;}#sk-container-id-1 input.sk-hidden--visually {border: 0;clip: rect(1px 1px 1px 1px);clip: rect(1px, 1px, 1px, 1px);height: 1px;margin: -1px;overflow: hidden;padding: 0;position: absolute;width: 1px;}#sk-container-id-1 div.sk-estimator {font-family: monospace;background-color: #f0f8ff;border: 1px dotted black;border-radius: 0.25em;box-sizing: border-box;margin-bottom: 0.5em;}#sk-container-id-1 div.sk-estimator:hover {background-color: #d4ebff;}#sk-container-id-1 div.sk-parallel-item::after {content: \"\";width: 100%;border-bottom: 1px solid gray;flex-grow: 1;}#sk-container-id-1 div.sk-label:hover label.sk-toggleable__label {background-color: #d4ebff;}#sk-container-id-1 div.sk-serial::before {content: \"\";position: absolute;border-left: 1px solid gray;box-sizing: border-box;top: 0;bottom: 0;left: 50%;z-index: 0;}#sk-container-id-1 div.sk-serial {display: flex;flex-direction: column;align-items: center;background-color: white;padding-right: 0.2em;padding-left: 0.2em;position: relative;}#sk-container-id-1 div.sk-item {position: relative;z-index: 1;}#sk-container-id-1 div.sk-parallel {display: flex;align-items: stretch;justify-content: center;background-color: white;position: relative;}#sk-container-id-1 div.sk-item::before, #sk-container-id-1 div.sk-parallel-item::before {content: \"\";position: absolute;border-left: 1px solid gray;box-sizing: border-box;top: 0;bottom: 0;left: 50%;z-index: -1;}#sk-container-id-1 div.sk-parallel-item {display: flex;flex-direction: column;z-index: 1;position: relative;background-color: white;}#sk-container-id-1 div.sk-parallel-item:first-child::after {align-self: flex-end;width: 50%;}#sk-container-id-1 div.sk-parallel-item:last-child::after {align-self: flex-start;width: 50%;}#sk-container-id-1 div.sk-parallel-item:only-child::after {width: 0;}#sk-container-id-1 div.sk-dashed-wrapped {border: 1px dashed gray;margin: 0 0.4em 0.5em 0.4em;box-sizing: border-box;padding-bottom: 0.4em;background-color: white;}#sk-container-id-1 div.sk-label label {font-family: monospace;font-weight: bold;display: inline-block;line-height: 1.2em;}#sk-container-id-1 div.sk-label-container {text-align: center;}#sk-container-id-1 div.sk-container {/* jupyter's `normalize.less` sets `[hidden] { display: none; }` but bootstrap.min.css set `[hidden] { display: none !important; }` so we also need the `!important` here to be able to override the default hidden behavior on the sphinx rendered scikit-learn.org. See: https://github.com/scikit-learn/scikit-learn/issues/21755 */display: inline-block !important;position: relative;}#sk-container-id-1 div.sk-text-repr-fallback {display: none;}</style><div id=\"sk-container-id-1\" class=\"sk-top-container\"><div class=\"sk-text-repr-fallback\"><pre>Pipeline(steps=[(&#x27;standardscaler&#x27;, StandardScaler()),\n",
              "                (&#x27;linearregression&#x27;, LinearRegression())])</pre><b>In a Jupyter environment, please rerun this cell to show the HTML representation or trust the notebook. <br />On GitHub, the HTML representation is unable to render, please try loading this page with nbviewer.org.</b></div><div class=\"sk-container\" hidden><div class=\"sk-item sk-dashed-wrapped\"><div class=\"sk-label-container\"><div class=\"sk-label sk-toggleable\"><input class=\"sk-toggleable__control sk-hidden--visually\" id=\"sk-estimator-id-1\" type=\"checkbox\" ><label for=\"sk-estimator-id-1\" class=\"sk-toggleable__label sk-toggleable__label-arrow\">Pipeline</label><div class=\"sk-toggleable__content\"><pre>Pipeline(steps=[(&#x27;standardscaler&#x27;, StandardScaler()),\n",
              "                (&#x27;linearregression&#x27;, LinearRegression())])</pre></div></div></div><div class=\"sk-serial\"><div class=\"sk-item\"><div class=\"sk-estimator sk-toggleable\"><input class=\"sk-toggleable__control sk-hidden--visually\" id=\"sk-estimator-id-2\" type=\"checkbox\" ><label for=\"sk-estimator-id-2\" class=\"sk-toggleable__label sk-toggleable__label-arrow\">StandardScaler</label><div class=\"sk-toggleable__content\"><pre>StandardScaler()</pre></div></div></div><div class=\"sk-item\"><div class=\"sk-estimator sk-toggleable\"><input class=\"sk-toggleable__control sk-hidden--visually\" id=\"sk-estimator-id-3\" type=\"checkbox\" ><label for=\"sk-estimator-id-3\" class=\"sk-toggleable__label sk-toggleable__label-arrow\">LinearRegression</label><div class=\"sk-toggleable__content\"><pre>LinearRegression()</pre></div></div></div></div></div></div></div>"
            ],
            "text/plain": [
              "Pipeline(steps=[('standardscaler', StandardScaler()),\n",
              "                ('linearregression', LinearRegression())])"
            ]
          },
          "execution_count": 22,
          "metadata": {},
          "output_type": "execute_result"
        }
      ],
      "source": [
        "# Build a linear regression model\n",
        "lr_rgrs_model = make_pipeline(StandardScaler(),\n",
        "                              LinearRegression()\n",
        "                              )\n",
        "\n",
        "lr_rgrs_model"
      ]
    },
    {
      "cell_type": "markdown",
      "id": "0e8f1cdc-b8e5-405a-a9d5-d874e9254ba1",
      "metadata": {
        "id": "0e8f1cdc-b8e5-405a-a9d5-d874e9254ba1"
      },
      "source": [
        "### Train a Regression Model"
      ]
    },
    {
      "cell_type": "code",
      "execution_count": null,
      "id": "215a74a2-c36e-4b4c-99cb-b92c39d26b75",
      "metadata": {
        "id": "215a74a2-c36e-4b4c-99cb-b92c39d26b75",
        "outputId": "117f1888-c58b-42b1-85ca-3ffc55502a38"
      },
      "outputs": [
        {
          "data": {
            "text/html": [
              "<style>#sk-container-id-2 {color: black;background-color: white;}#sk-container-id-2 pre{padding: 0;}#sk-container-id-2 div.sk-toggleable {background-color: white;}#sk-container-id-2 label.sk-toggleable__label {cursor: pointer;display: block;width: 100%;margin-bottom: 0;padding: 0.3em;box-sizing: border-box;text-align: center;}#sk-container-id-2 label.sk-toggleable__label-arrow:before {content: \"▸\";float: left;margin-right: 0.25em;color: #696969;}#sk-container-id-2 label.sk-toggleable__label-arrow:hover:before {color: black;}#sk-container-id-2 div.sk-estimator:hover label.sk-toggleable__label-arrow:before {color: black;}#sk-container-id-2 div.sk-toggleable__content {max-height: 0;max-width: 0;overflow: hidden;text-align: left;background-color: #f0f8ff;}#sk-container-id-2 div.sk-toggleable__content pre {margin: 0.2em;color: black;border-radius: 0.25em;background-color: #f0f8ff;}#sk-container-id-2 input.sk-toggleable__control:checked~div.sk-toggleable__content {max-height: 200px;max-width: 100%;overflow: auto;}#sk-container-id-2 input.sk-toggleable__control:checked~label.sk-toggleable__label-arrow:before {content: \"▾\";}#sk-container-id-2 div.sk-estimator input.sk-toggleable__control:checked~label.sk-toggleable__label {background-color: #d4ebff;}#sk-container-id-2 div.sk-label input.sk-toggleable__control:checked~label.sk-toggleable__label {background-color: #d4ebff;}#sk-container-id-2 input.sk-hidden--visually {border: 0;clip: rect(1px 1px 1px 1px);clip: rect(1px, 1px, 1px, 1px);height: 1px;margin: -1px;overflow: hidden;padding: 0;position: absolute;width: 1px;}#sk-container-id-2 div.sk-estimator {font-family: monospace;background-color: #f0f8ff;border: 1px dotted black;border-radius: 0.25em;box-sizing: border-box;margin-bottom: 0.5em;}#sk-container-id-2 div.sk-estimator:hover {background-color: #d4ebff;}#sk-container-id-2 div.sk-parallel-item::after {content: \"\";width: 100%;border-bottom: 1px solid gray;flex-grow: 1;}#sk-container-id-2 div.sk-label:hover label.sk-toggleable__label {background-color: #d4ebff;}#sk-container-id-2 div.sk-serial::before {content: \"\";position: absolute;border-left: 1px solid gray;box-sizing: border-box;top: 0;bottom: 0;left: 50%;z-index: 0;}#sk-container-id-2 div.sk-serial {display: flex;flex-direction: column;align-items: center;background-color: white;padding-right: 0.2em;padding-left: 0.2em;position: relative;}#sk-container-id-2 div.sk-item {position: relative;z-index: 1;}#sk-container-id-2 div.sk-parallel {display: flex;align-items: stretch;justify-content: center;background-color: white;position: relative;}#sk-container-id-2 div.sk-item::before, #sk-container-id-2 div.sk-parallel-item::before {content: \"\";position: absolute;border-left: 1px solid gray;box-sizing: border-box;top: 0;bottom: 0;left: 50%;z-index: -1;}#sk-container-id-2 div.sk-parallel-item {display: flex;flex-direction: column;z-index: 1;position: relative;background-color: white;}#sk-container-id-2 div.sk-parallel-item:first-child::after {align-self: flex-end;width: 50%;}#sk-container-id-2 div.sk-parallel-item:last-child::after {align-self: flex-start;width: 50%;}#sk-container-id-2 div.sk-parallel-item:only-child::after {width: 0;}#sk-container-id-2 div.sk-dashed-wrapped {border: 1px dashed gray;margin: 0 0.4em 0.5em 0.4em;box-sizing: border-box;padding-bottom: 0.4em;background-color: white;}#sk-container-id-2 div.sk-label label {font-family: monospace;font-weight: bold;display: inline-block;line-height: 1.2em;}#sk-container-id-2 div.sk-label-container {text-align: center;}#sk-container-id-2 div.sk-container {/* jupyter's `normalize.less` sets `[hidden] { display: none; }` but bootstrap.min.css set `[hidden] { display: none !important; }` so we also need the `!important` here to be able to override the default hidden behavior on the sphinx rendered scikit-learn.org. See: https://github.com/scikit-learn/scikit-learn/issues/21755 */display: inline-block !important;position: relative;}#sk-container-id-2 div.sk-text-repr-fallback {display: none;}</style><div id=\"sk-container-id-2\" class=\"sk-top-container\"><div class=\"sk-text-repr-fallback\"><pre>Pipeline(steps=[(&#x27;standardscaler&#x27;, StandardScaler()),\n",
              "                (&#x27;linearregression&#x27;, LinearRegression())])</pre><b>In a Jupyter environment, please rerun this cell to show the HTML representation or trust the notebook. <br />On GitHub, the HTML representation is unable to render, please try loading this page with nbviewer.org.</b></div><div class=\"sk-container\" hidden><div class=\"sk-item sk-dashed-wrapped\"><div class=\"sk-label-container\"><div class=\"sk-label sk-toggleable\"><input class=\"sk-toggleable__control sk-hidden--visually\" id=\"sk-estimator-id-4\" type=\"checkbox\" ><label for=\"sk-estimator-id-4\" class=\"sk-toggleable__label sk-toggleable__label-arrow\">Pipeline</label><div class=\"sk-toggleable__content\"><pre>Pipeline(steps=[(&#x27;standardscaler&#x27;, StandardScaler()),\n",
              "                (&#x27;linearregression&#x27;, LinearRegression())])</pre></div></div></div><div class=\"sk-serial\"><div class=\"sk-item\"><div class=\"sk-estimator sk-toggleable\"><input class=\"sk-toggleable__control sk-hidden--visually\" id=\"sk-estimator-id-5\" type=\"checkbox\" ><label for=\"sk-estimator-id-5\" class=\"sk-toggleable__label sk-toggleable__label-arrow\">StandardScaler</label><div class=\"sk-toggleable__content\"><pre>StandardScaler()</pre></div></div></div><div class=\"sk-item\"><div class=\"sk-estimator sk-toggleable\"><input class=\"sk-toggleable__control sk-hidden--visually\" id=\"sk-estimator-id-6\" type=\"checkbox\" ><label for=\"sk-estimator-id-6\" class=\"sk-toggleable__label sk-toggleable__label-arrow\">LinearRegression</label><div class=\"sk-toggleable__content\"><pre>LinearRegression()</pre></div></div></div></div></div></div></div>"
            ],
            "text/plain": [
              "Pipeline(steps=[('standardscaler', StandardScaler()),\n",
              "                ('linearregression', LinearRegression())])"
            ]
          },
          "execution_count": 23,
          "metadata": {},
          "output_type": "execute_result"
        }
      ],
      "source": [
        "# Fit the model to the data and target\n",
        "lr_rgrs_model.fit(data, target)"
      ]
    },
    {
      "cell_type": "markdown",
      "id": "e4aef426-ec00-4b15-9e43-a7817f610816",
      "metadata": {
        "id": "e4aef426-ec00-4b15-9e43-a7817f610816"
      },
      "source": [
        "### Get model co-efficient and intercept"
      ]
    },
    {
      "cell_type": "code",
      "execution_count": null,
      "id": "8c472cf1-7b85-476d-8315-096550ea1f9c",
      "metadata": {
        "id": "8c472cf1-7b85-476d-8315-096550ea1f9c",
        "outputId": "35b6575e-2c8c-4954-9b4a-37240f649345"
      },
      "outputs": [
        {
          "data": {
            "text/plain": [
              "35.376856157675476"
            ]
          },
          "execution_count": 24,
          "metadata": {},
          "output_type": "execute_result"
        }
      ],
      "source": [
        "# Get the model calculated co-efficient. We only have one feature, therefore there is only one co-efficient\n",
        "model_coefficient = lr_rgrs_model.named_steps.linearregression.coef_[0]\n",
        "\n",
        "model_coefficient"
      ]
    },
    {
      "cell_type": "code",
      "execution_count": null,
      "id": "c5b90817-a10b-4fb4-b13e-cb103b7165a3",
      "metadata": {
        "id": "c5b90817-a10b-4fb4-b13e-cb103b7165a3",
        "outputId": "977b4f6a-a15a-4d79-8035-5983fc655311"
      },
      "outputs": [
        {
          "data": {
            "text/plain": [
              "3.2601074088143323"
            ]
          },
          "execution_count": 25,
          "metadata": {},
          "output_type": "execute_result"
        }
      ],
      "source": [
        "# Get the model caluclated intercept.\n",
        "model_intercept = lr_rgrs_model.named_steps.linearregression.intercept_\n",
        "\n",
        "model_intercept"
      ]
    },
    {
      "cell_type": "markdown",
      "id": "dcffd7fc-a887-4ce6-9c3e-9062332f8b77",
      "metadata": {
        "id": "dcffd7fc-a887-4ce6-9c3e-9062332f8b77"
      },
      "source": [
        "### Generate an array of x and y values"
      ]
    },
    {
      "cell_type": "code",
      "execution_count": null,
      "id": "080be57a-b49c-451d-b509-509088120c86",
      "metadata": {
        "id": "080be57a-b49c-451d-b509-509088120c86"
      },
      "outputs": [],
      "source": [
        "# Create an object to store the range of flipper lengths in ascending order\n",
        "x_range = np.linspace(data.min(), # Set the min number\n",
        "                      data.max(), # Set the max number\n",
        "                      num = samples_slider1.value,   # Total number of data points\n",
        "                     )"
      ]
    },
    {
      "cell_type": "markdown",
      "id": "c304d723-b551-4e2a-80e8-8bdf641226ef",
      "metadata": {
        "id": "c304d723-b551-4e2a-80e8-8bdf641226ef"
      },
      "source": [
        "You can now use these x-values to calculate the line of best fit for both the linear regression model, and based on the co-efficient generated by the dataset.\n",
        "\n",
        "#### Linear Regression Model"
      ]
    },
    {
      "cell_type": "code",
      "execution_count": null,
      "id": "4e95712e-1423-4d69-a4fc-d5c667a8946f",
      "metadata": {
        "id": "4e95712e-1423-4d69-a4fc-d5c667a8946f"
      },
      "outputs": [],
      "source": [
        "# store the predicted body masses in an object that can be used in plotting results\n",
        "y_hat_model = (model_coefficient * x_range + model_intercept)"
      ]
    },
    {
      "cell_type": "markdown",
      "id": "7c1f4e3d-676e-4d8c-bed7-cdfde4a7fbad",
      "metadata": {
        "id": "7c1f4e3d-676e-4d8c-bed7-cdfde4a7fbad"
      },
      "source": [
        "#### Dataset generated co-efficient"
      ]
    },
    {
      "cell_type": "code",
      "execution_count": null,
      "id": "f6a964bf-963c-48d5-8fb3-e72b01755df1",
      "metadata": {
        "id": "f6a964bf-963c-48d5-8fb3-e72b01755df1"
      },
      "outputs": [],
      "source": [
        "# store the predicted body masses in an object that can be used in plotting results\n",
        "y_hat_dataset = (coefficients * x_range + 0)"
      ]
    },
    {
      "cell_type": "markdown",
      "id": "36f81cc3-6ab7-466f-ac8a-2f095a16188f",
      "metadata": {
        "id": "36f81cc3-6ab7-466f-ac8a-2f095a16188f"
      },
      "source": [
        "### Graphing the regression lines\n",
        "\n",
        "The following graph will allow you to compare the lines generated by the linear regression model, in addition to the line generated using the coefficient provided by the dataset generator."
      ]
    },
    {
      "cell_type": "code",
      "execution_count": null,
      "id": "9697e4ab-4457-441e-bb57-26df218acfcf",
      "metadata": {
        "id": "9697e4ab-4457-441e-bb57-26df218acfcf",
        "outputId": "142551f3-0886-401c-f410-bab131af5721"
      },
      "outputs": [
        {
          "data": {
            "application/vnd.jupyter.widget-view+json": {
              "model_id": "06ae0d39366c4273bfae97ff49a10d21",
              "version_major": 2,
              "version_minor": 0
            },
            "text/plain": [
              "interactive(children=(Checkbox(value=False, description='Trendline', indent=False), Output()), _dom_classes=('…"
            ]
          },
          "metadata": {},
          "output_type": "display_data"
        }
      ],
      "source": [
        "# Graph that displays each line of best fit, for both the regression model \n",
        "# and the co-efficient provided by the dataset generator\n",
        "@widgets.interact\n",
        "def regressor_outputs(trend_line = trend_line_selector2):\n",
        "    #Show trendline if selected\n",
        "    if trend_line == False:\n",
        "        trend = None\n",
        "    else:\n",
        "        trend = 'ols'\n",
        "    \n",
        "    # Create a scatterplot of the data\n",
        "    fig = px.scatter(df,\n",
        "                     x = 'data',\n",
        "                     y = 'target',\n",
        "                     trendline = trend, # None, `ols', 'lowess', 'rolling', 'expanding', 'ewm'\n",
        "                     #trendline_color_override = 'darkblue',\n",
        "                     color = None,\n",
        "                     opacity = 0.5,\n",
        "                     color_discrete_sequence = [\"black\"],\n",
        "                     height = 800,\n",
        "                     width = 1200,\n",
        "                     title = \"Lines generated using Co-efficients\",\n",
        "                    )\n",
        "\n",
        "    # Add the best fit based on the regresion model co-efficients\n",
        "    fig.add_trace(go.Scatter(x = np.ravel(x_range),\n",
        "                             y = np.ravel(y_hat_model),\n",
        "                             mode = 'lines',\n",
        "                             name = 'Model Generated Regression Line',\n",
        "                             showlegend = True,\n",
        "                             line = dict(color = \"Red\", width = 3)\n",
        "                             )\n",
        "                 )\n",
        "\n",
        "    # Add the best fit based on the dataset generated co-efficient\n",
        "    fig.add_trace(go.Scatter(x = np.ravel(x_range),\n",
        "                             y = np.ravel(y_hat_dataset),\n",
        "                             mode = 'lines',\n",
        "                             name = 'Dataset generaged coefficients',\n",
        "                             showlegend = True,\n",
        "                             line = dict(color = \"Green\", width = 3)\n",
        "                             )\n",
        "                 )\n",
        "\n",
        "\n",
        "    fig.show()"
      ]
    },
    {
      "cell_type": "markdown",
      "id": "a36c9cb2-9c30-4273-93d8-24ae7a75c755",
      "metadata": {
        "id": "a36c9cb2-9c30-4273-93d8-24ae7a75c755"
      },
      "source": [
        "# Conclusion\n",
        "\n",
        "The goal of `regression` is to find the `line of best fit` through the data that satisfies the following equation:\n",
        "\n",
        "$\\hat{y} = b_0 + b_1x$\n",
        "\n",
        "$\\hat{y}$ = Predicted target value (dependant variable)\n",
        "\n",
        "$b_0$ = Intercept of the regression line\n",
        "\n",
        "$b_1$ = Slope of regression line\n",
        "\n",
        "$x$ = (independant variable)\n",
        "\n",
        "This is done by determining the values of two co-efficients:\n",
        "\n",
        "> $b_0$ = Intercept of the regression line\n",
        "\n",
        "> $b_1$ = Slope of regression line\n",
        "\n",
        "In the next noteook, we will futher explore how a regression model works."
      ]
    },
    {
      "cell_type": "markdown",
      "id": "f5e4660e-d956-4e84-9093-01df1bc44308",
      "metadata": {
        "id": "f5e4660e-d956-4e84-9093-01df1bc44308"
      },
      "source": [
        "# Additional Resources\n",
        "\n",
        "* [Linear Models - scikit-learn](https://inria.github.io/scikit-learn-mooc/linear_models/linear_models_module_intro.html)\n",
        "* [Crash Course Regression - CrashCourse](https://www.youtube.com/watch?v=WWqE7YHR4Jc)\n",
        "* [Introduction to Linear Regression - CFA](https://youtu.be/6ouI_27iDVM)\n",
        "* [The Main Ideas of Fitting a Line to Data (The Main Ideas of Least Squares and Linear Regression) - Statquest](https://youtu.be/PaFPbb66DxQ)"
      ]
    },
    {
      "cell_type": "code",
      "execution_count": null,
      "id": "824d81d9-0ee9-4dd8-9918-987e8c9fc413",
      "metadata": {
        "id": "824d81d9-0ee9-4dd8-9918-987e8c9fc413"
      },
      "outputs": [],
      "source": [
        ""
      ]
    }
  ],
  "metadata": {
    "kernelspec": {
      "display_name": "Python 3 (ipykernel)",
      "language": "python",
      "name": "python3"
    },
    "language_info": {
      "codemirror_mode": {
        "name": "ipython",
        "version": 3
      },
      "file_extension": ".py",
      "mimetype": "text/x-python",
      "name": "python",
      "nbconvert_exporter": "python",
      "pygments_lexer": "ipython3",
      "version": "3.8.10"
    },
    "colab": {
      "name": "Regression_Notebook_P1.ipynb",
      "provenance": [],
      "include_colab_link": true
    }
  },
  "nbformat": 4,
  "nbformat_minor": 5
}