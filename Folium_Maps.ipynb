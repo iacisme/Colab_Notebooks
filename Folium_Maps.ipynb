{
  "cells": [
    {
      "cell_type": "markdown",
      "metadata": {
        "id": "view-in-github",
        "colab_type": "text"
      },
      "source": [
        "<a href=\"https://colab.research.google.com/github/iacisme/Colab_Notebooks/blob/main/Folium_Maps.ipynb\" target=\"_parent\"><img src=\"https://colab.research.google.com/assets/colab-badge.svg\" alt=\"Open In Colab\"/></a>"
      ]
    },
    {
      "cell_type": "markdown",
      "id": "1167a05d-71ef-4938-8b40-ae31b4fccb2f",
      "metadata": {
        "id": "1167a05d-71ef-4938-8b40-ae31b4fccb2f"
      },
      "source": [
        "# Basic Map Function\n",
        "\n",
        "The purpose of this notebook is to understand how to use mapping functions in python, by creating a tool that satifies a use case.\n",
        "\n",
        "## Application (Use Case)\n",
        "\n",
        "Suppose you're an analyst who's job is to analyze map results, in order to improve the user experience when someone enters a search query. You need to rate the query result for: revelance, prominence, distance, and pin accuracy. For this scenario you're going to need to know:\n",
        "\n",
        "1. The phone location and how big of a map area the user was looking at when making the query\n",
        "2. The user location, which may or may not be the same as the phone location\n",
        "3. Pins that indicate query results, and comparing these results using Google Maps, OpenStreeetMaps, Bing Maps, etc\n",
        "\n",
        "Your job is to assess the value of the information returned back to the user, and rate if this information fulfills the actual user intent, along with the accruacy of the information returned. \n",
        "\n",
        "## Libraries"
      ]
    },
    {
      "cell_type": "code",
      "execution_count": 1,
      "id": "b3a2713d-6d41-49ed-addd-38d3f299e9f5",
      "metadata": {
        "id": "b3a2713d-6d41-49ed-addd-38d3f299e9f5"
      },
      "outputs": [],
      "source": [
        "# Mapping library\n",
        "import folium"
      ]
    },
    {
      "cell_type": "markdown",
      "id": "a9d11200-ad87-428b-8d44-9788b084aa30",
      "metadata": {
        "id": "a9d11200-ad87-428b-8d44-9788b084aa30"
      },
      "source": [
        "## Points to Map\n",
        "\n",
        "The following coordinates will be used to place markers and other objects on a map.\n",
        "\n",
        "For this example, assume the user asked for the location of `River Cafe`.\n",
        "\n",
        "### Definitions\n",
        "\n",
        "The following definitions will be applied to these variabiles:\n",
        "\n",
        "* map_center_location - These cooridnates will be used to center the map around a specified location\n",
        "* last_know_phone_ping - A pin location indicating the last known location of the cell phone. This location may be quite different from the `actual user location`, depending on cell coverage, etc\n",
        "* actual_user_location - A pin indicating where the user actually is. This location may or may not be near the `last knon cell phone ping`\n",
        "* result_locaitons - Pins that indicate the search resuts\n",
        "* viewport_location - The rectangular map area the user was looking at when making the query"
      ]
    },
    {
      "cell_type": "code",
      "execution_count": 2,
      "id": "03094d61-4aaa-4814-ab92-858c779951e5",
      "metadata": {
        "id": "03094d61-4aaa-4814-ab92-858c779951e5"
      },
      "outputs": [],
      "source": [
        "# These coordinates will be used to center the map around a location\n",
        "map_center_location = [51.048709210791046, -114.07181937131769]  # Coordinates are for the city of calgary"
      ]
    },
    {
      "cell_type": "code",
      "execution_count": 3,
      "id": "e4efd891-a67e-48a0-ab62-ff9bb294b0e5",
      "metadata": {
        "id": "e4efd891-a67e-48a0-ab62-ff9bb294b0e5"
      },
      "outputs": [],
      "source": [
        "# The last known location of the phone\n",
        "last_known_phone_ping = [51.0555, -114.0686]"
      ]
    },
    {
      "cell_type": "code",
      "execution_count": 4,
      "id": "8d5db2fa-ab24-4f9f-869b-c8bd4933896b",
      "metadata": {
        "id": "8d5db2fa-ab24-4f9f-869b-c8bd4933896b"
      },
      "outputs": [],
      "source": [
        "# Where the user actually is, in relation to the phone\n",
        "actual_user_location =  [51.0555, -114.0670]"
      ]
    },
    {
      "cell_type": "code",
      "execution_count": 5,
      "id": "0cb9aef2-ada8-4332-8eb2-d25ab6c44c57",
      "metadata": {
        "id": "0cb9aef2-ada8-4332-8eb2-d25ab6c44c57"
      },
      "outputs": [],
      "source": [
        "# Pin location of the result returned by the query\n",
        "search_result_1 = [51.054967891001425, -114.07162728045314]"
      ]
    },
    {
      "cell_type": "code",
      "execution_count": 6,
      "id": "3c24bcc2-68c5-429b-a325-87f2bbfdcf83",
      "metadata": {
        "id": "3c24bcc2-68c5-429b-a325-87f2bbfdcf83"
      },
      "outputs": [],
      "source": [
        "# Pin location of the result returned by the query\n",
        "search_result_2 = []"
      ]
    },
    {
      "cell_type": "code",
      "execution_count": 7,
      "id": "2fb7bf3c-a3b3-4245-bf0b-39e4b0d6f0e5",
      "metadata": {
        "id": "2fb7bf3c-a3b3-4245-bf0b-39e4b0d6f0e5"
      },
      "outputs": [],
      "source": [
        "# Pin location of the result returned by the query\n",
        "search_result_3 = []"
      ]
    },
    {
      "cell_type": "code",
      "execution_count": 8,
      "id": "891beaa8-a6a9-4f66-b87e-3a07beeb37ab",
      "metadata": {
        "id": "891beaa8-a6a9-4f66-b87e-3a07beeb37ab"
      },
      "outputs": [],
      "source": [
        "# Pin location of the result returned by the query\n",
        "search_result_4 = []"
      ]
    },
    {
      "cell_type": "code",
      "execution_count": 9,
      "id": "72806a9a-64d4-4542-a811-4868bb30af32",
      "metadata": {
        "id": "72806a9a-64d4-4542-a811-4868bb30af32"
      },
      "outputs": [],
      "source": [
        "# diagonal coordinates of a rectangle that will be drawn on the map to represent the view area\n",
        "viewport_location = [(51.05363128651598, -114.07058493978805), \n",
        "                     (51.05760822659942, -114.06607160475434)\n",
        "                    ]"
      ]
    },
    {
      "cell_type": "markdown",
      "id": "462de580-bfee-4079-963c-d4c1323c7c9e",
      "metadata": {
        "id": "462de580-bfee-4079-963c-d4c1323c7c9e"
      },
      "source": [
        "## Create Map Object"
      ]
    },
    {
      "cell_type": "code",
      "execution_count": 10,
      "id": "97a921ea-7257-40b6-9d2c-529a59dd6e2b",
      "metadata": {
        "id": "97a921ea-7257-40b6-9d2c-529a59dd6e2b"
      },
      "outputs": [],
      "source": [
        "# Create a map object centered around a specified map coordinate\n",
        "Map = folium.Map(location = map_center_location,\n",
        "                 zoom_start = 15, # Higher numbers zoom out, smaller numbers zoom in\n",
        "                 tiles =  'OpenStreetMap', #'OpenStreetMap', 'Stamen Terrain'\n",
        "                 )"
      ]
    },
    {
      "cell_type": "code",
      "execution_count": 11,
      "id": "180e1d32-6754-486c-883f-94ebfce84246",
      "metadata": {
        "id": "180e1d32-6754-486c-883f-94ebfce84246"
      },
      "outputs": [],
      "source": [
        "# add tiles to the Map\n",
        "# Allows you to select from different map types, based on the standard maps available in folium\n",
        "folium.raster_layers.TileLayer('Open Street Map').add_to(Map);\n",
        "folium.raster_layers.TileLayer('Stamen Terrain').add_to(Map);\n",
        "folium.raster_layers.TileLayer('Stamen Toner').add_to(Map);\n",
        "folium.raster_layers.TileLayer('Stamen Watercolor').add_to(Map);\n",
        "folium.raster_layers.TileLayer('CartoDB Positron').add_to(Map);\n",
        "folium.raster_layers.TileLayer('CartoDB Dark_Matter').add_to(Map);"
      ]
    },
    {
      "cell_type": "code",
      "execution_count": 12,
      "id": "a72cb13b-443f-4c65-8637-4da17ba37d23",
      "metadata": {
        "id": "a72cb13b-443f-4c65-8637-4da17ba37d23"
      },
      "outputs": [],
      "source": [
        "# add layer control to show different maps\n",
        "folium.LayerControl().add_to(Map);"
      ]
    },
    {
      "cell_type": "markdown",
      "id": "1544d5ed-6755-4e10-bded-d6d87f5367cb",
      "metadata": {
        "id": "1544d5ed-6755-4e10-bded-d6d87f5367cb"
      },
      "source": [
        "## Create Map Markers"
      ]
    },
    {
      "cell_type": "code",
      "execution_count": 13,
      "id": "01125e67-22c7-4ced-92d7-28c76a41c0ad",
      "metadata": {
        "id": "01125e67-22c7-4ced-92d7-28c76a41c0ad"
      },
      "outputs": [],
      "source": [
        "# Viewport Coordinates\n",
        "folium.Marker(location = last_known_phone_ping ,\n",
        "              popup = f'{last_known_phone_ping }',\n",
        "              icon = folium.Icon(color = 'black',\n",
        "                                 #prefix = 'fa',\n",
        "                                 icon = 'glyphicon glyphicon-phone',     #\"mobile\"\n",
        "                                ),\n",
        "              tooltip = 'Phone Location',\n",
        "             ).add_to(Map);"
      ]
    },
    {
      "cell_type": "code",
      "execution_count": 14,
      "id": "6b69e6f1-b3dc-46fd-9a1a-62801e428c7b",
      "metadata": {
        "id": "6b69e6f1-b3dc-46fd-9a1a-62801e428c7b"
      },
      "outputs": [],
      "source": [
        "# User Coordinates\n",
        "folium.Marker(location = actual_user_location,\n",
        "              popup = f'{actual_user_location}',\n",
        "              icon = folium.Icon(color = 'orange',\n",
        "                                 prefix = 'fa',\n",
        "                                 icon = \"user\"\n",
        "                                ),\n",
        "              tooltip = 'User Coordinates',\n",
        "             ).add_to(Map);"
      ]
    },
    {
      "cell_type": "markdown",
      "id": "8912ba89-deda-423c-a367-7c1c6f55a00e",
      "metadata": {
        "id": "8912ba89-deda-423c-a367-7c1c6f55a00e"
      },
      "source": [
        "We're going to assume that there will always be at least 1 search result:"
      ]
    },
    {
      "cell_type": "code",
      "execution_count": 15,
      "id": "12696d92-0135-4b1a-9513-1cc2d75d7db3",
      "metadata": {
        "id": "12696d92-0135-4b1a-9513-1cc2d75d7db3"
      },
      "outputs": [],
      "source": [
        "# Search Result 1\n",
        "folium.Marker(location = search_result_1,\n",
        "              popup = f'{search_result_1}',\n",
        "              icon = folium.Icon(color = 'red',\n",
        "                                 icon = 'glyphicon glyphicon-star-empty',\n",
        "                                ),\n",
        "              tooltip = 'Search Result 1',\n",
        "             ).add_to(Map);"
      ]
    },
    {
      "cell_type": "markdown",
      "id": "71a08dd8-1f25-4ce4-8c3c-6588be7ddd12",
      "metadata": {
        "id": "71a08dd8-1f25-4ce4-8c3c-6588be7ddd12"
      },
      "source": [
        "Since there may be more than one we'll use a conditional to place a marker"
      ]
    },
    {
      "cell_type": "code",
      "execution_count": 16,
      "id": "4da7895c-91ae-41c0-8f75-1a6097328c40",
      "metadata": {
        "id": "4da7895c-91ae-41c0-8f75-1a6097328c40"
      },
      "outputs": [],
      "source": [
        "# Search Result 2\n",
        "if len(search_result_2) != 0:\n",
        "    # Add map marker\n",
        "    folium.Marker(location = search_result_2,\n",
        "                  popup = f'{search_result_2}',\n",
        "                  icon = folium.Icon(color = 'purple'),\n",
        "                  tooltip = 'Search Result 2',\n",
        "                 ).add_to(Map);"
      ]
    },
    {
      "cell_type": "code",
      "execution_count": 17,
      "id": "7455bebc-571f-422e-8e43-755012483d1d",
      "metadata": {
        "id": "7455bebc-571f-422e-8e43-755012483d1d"
      },
      "outputs": [],
      "source": [
        "# Search Result 3\n",
        "if len(search_result_3) != 0:\n",
        "    folium.Marker(location = search_result_3,\n",
        "                  popup = f'{search_result_3}',\n",
        "                  icon = folium.Icon(color = 'green'),\n",
        "                  tooltip = 'Search Result 3',\n",
        "                 ).add_to(Map);"
      ]
    },
    {
      "cell_type": "code",
      "execution_count": 18,
      "id": "b6468be9-e72e-4648-a927-252ade3ee97c",
      "metadata": {
        "id": "b6468be9-e72e-4648-a927-252ade3ee97c"
      },
      "outputs": [],
      "source": [
        "# Search Result 4\n",
        "if len(search_result_4) != 0:\n",
        "    folium.Marker(location = search_result_4,\n",
        "                      popup = f'{search_result_4}',\n",
        "                      icon = folium.Icon(color = 'blue'),\n",
        "                      tooltip = 'Result 4',\n",
        "                     ).add_to(Map);"
      ]
    },
    {
      "cell_type": "markdown",
      "id": "fa9396b0-01bf-4b0d-9039-e63972f2988b",
      "metadata": {
        "id": "fa9396b0-01bf-4b0d-9039-e63972f2988b"
      },
      "source": [
        "## Create a rectangular boundary\n",
        "\n",
        "The following code will add a rectangular boundary box that represents the map viewport the user was looking at when making the query:"
      ]
    },
    {
      "cell_type": "code",
      "execution_count": 19,
      "id": "583805bd-880f-419b-9630-e7d645e3cfbd",
      "metadata": {
        "id": "583805bd-880f-419b-9630-e7d645e3cfbd"
      },
      "outputs": [],
      "source": [
        "# Create a rectangular object using the coordinates of\n",
        "# the diagonal\n",
        "folium.Rectangle(viewport_location,\n",
        "                 color = \"purple\",\n",
        "                 weight = 2,\n",
        "                 fill = True,\n",
        "                 fill_color = 'purple',\n",
        "                 fill_opacity = 0.3,\n",
        "                 ).add_to(Map);"
      ]
    },
    {
      "cell_type": "markdown",
      "id": "6a61a9f7-9a0b-48c3-ba6d-c8e82076e8d1",
      "metadata": {
        "id": "6a61a9f7-9a0b-48c3-ba6d-c8e82076e8d1"
      },
      "source": [
        "## Generate the map\n",
        "\n",
        "This is the code used to generate the map:"
      ]
    },
    {
      "cell_type": "code",
      "execution_count": 20,
      "id": "6ea62432-6ee5-40b1-9e46-ceb15c09bdd5",
      "metadata": {
        "colab": {
          "base_uri": "https://localhost:8080/",
          "height": 1000
        },
        "id": "6ea62432-6ee5-40b1-9e46-ceb15c09bdd5",
        "outputId": "ec20903c-08cd-41d7-b225-a4f06828ebaf"
      },
      "outputs": [
        {
          "output_type": "execute_result",
          "data": {
            "text/plain": [
              "<folium.folium.Map at 0x7f517126a550>"
            ],
            "text/html": [
              "<div style=\"width:100%;\"><div style=\"position:relative;width:100%;height:0;padding-bottom:60%;\"><span style=\"color:#565656\">Make this Notebook Trusted to load map: File -> Trust Notebook</span><iframe srcdoc=\"&lt;!DOCTYPE html&gt;\n",
              "&lt;head&gt;    \n",
              "    &lt;meta http-equiv=&quot;content-type&quot; content=&quot;text/html; charset=UTF-8&quot; /&gt;\n",
              "    \n",
              "        &lt;script&gt;\n",
              "            L_NO_TOUCH = false;\n",
              "            L_DISABLE_3D = false;\n",
              "        &lt;/script&gt;\n",
              "    \n",
              "    &lt;style&gt;html, body {width: 100%;height: 100%;margin: 0;padding: 0;}&lt;/style&gt;\n",
              "    &lt;style&gt;#map {position:absolute;top:0;bottom:0;right:0;left:0;}&lt;/style&gt;\n",
              "    &lt;script src=&quot;https://cdn.jsdelivr.net/npm/leaflet@1.6.0/dist/leaflet.js&quot;&gt;&lt;/script&gt;\n",
              "    &lt;script src=&quot;https://code.jquery.com/jquery-1.12.4.min.js&quot;&gt;&lt;/script&gt;\n",
              "    &lt;script src=&quot;https://maxcdn.bootstrapcdn.com/bootstrap/3.2.0/js/bootstrap.min.js&quot;&gt;&lt;/script&gt;\n",
              "    &lt;script src=&quot;https://cdnjs.cloudflare.com/ajax/libs/Leaflet.awesome-markers/2.0.2/leaflet.awesome-markers.js&quot;&gt;&lt;/script&gt;\n",
              "    &lt;link rel=&quot;stylesheet&quot; href=&quot;https://cdn.jsdelivr.net/npm/leaflet@1.6.0/dist/leaflet.css&quot;/&gt;\n",
              "    &lt;link rel=&quot;stylesheet&quot; href=&quot;https://maxcdn.bootstrapcdn.com/bootstrap/3.2.0/css/bootstrap.min.css&quot;/&gt;\n",
              "    &lt;link rel=&quot;stylesheet&quot; href=&quot;https://maxcdn.bootstrapcdn.com/bootstrap/3.2.0/css/bootstrap-theme.min.css&quot;/&gt;\n",
              "    &lt;link rel=&quot;stylesheet&quot; href=&quot;https://maxcdn.bootstrapcdn.com/font-awesome/4.6.3/css/font-awesome.min.css&quot;/&gt;\n",
              "    &lt;link rel=&quot;stylesheet&quot; href=&quot;https://cdnjs.cloudflare.com/ajax/libs/Leaflet.awesome-markers/2.0.2/leaflet.awesome-markers.css&quot;/&gt;\n",
              "    &lt;link rel=&quot;stylesheet&quot; href=&quot;https://cdn.jsdelivr.net/gh/python-visualization/folium/folium/templates/leaflet.awesome.rotate.min.css&quot;/&gt;\n",
              "    \n",
              "            &lt;meta name=&quot;viewport&quot; content=&quot;width=device-width,\n",
              "                initial-scale=1.0, maximum-scale=1.0, user-scalable=no&quot; /&gt;\n",
              "            &lt;style&gt;\n",
              "                #map_e35df496135b3bdb36cf85b50da0a5db {\n",
              "                    position: relative;\n",
              "                    width: 100.0%;\n",
              "                    height: 100.0%;\n",
              "                    left: 0.0%;\n",
              "                    top: 0.0%;\n",
              "                }\n",
              "            &lt;/style&gt;\n",
              "        \n",
              "&lt;/head&gt;\n",
              "&lt;body&gt;    \n",
              "    \n",
              "            &lt;div class=&quot;folium-map&quot; id=&quot;map_e35df496135b3bdb36cf85b50da0a5db&quot; &gt;&lt;/div&gt;\n",
              "        \n",
              "&lt;/body&gt;\n",
              "&lt;script&gt;    \n",
              "    \n",
              "            var map_e35df496135b3bdb36cf85b50da0a5db = L.map(\n",
              "                &quot;map_e35df496135b3bdb36cf85b50da0a5db&quot;,\n",
              "                {\n",
              "                    center: [51.048709210791046, -114.07181937131769],\n",
              "                    crs: L.CRS.EPSG3857,\n",
              "                    zoom: 15,\n",
              "                    zoomControl: true,\n",
              "                    preferCanvas: false,\n",
              "                }\n",
              "            );\n",
              "\n",
              "            \n",
              "\n",
              "        \n",
              "    \n",
              "            var tile_layer_8f580f102ccd51d3df69b29f57dfd984 = L.tileLayer(\n",
              "                &quot;https://{s}.tile.openstreetmap.org/{z}/{x}/{y}.png&quot;,\n",
              "                {&quot;attribution&quot;: &quot;Data by \\u0026copy; \\u003ca href=\\&quot;http://openstreetmap.org\\&quot;\\u003eOpenStreetMap\\u003c/a\\u003e, under \\u003ca href=\\&quot;http://www.openstreetmap.org/copyright\\&quot;\\u003eODbL\\u003c/a\\u003e.&quot;, &quot;detectRetina&quot;: false, &quot;maxNativeZoom&quot;: 18, &quot;maxZoom&quot;: 18, &quot;minZoom&quot;: 0, &quot;noWrap&quot;: false, &quot;opacity&quot;: 1, &quot;subdomains&quot;: &quot;abc&quot;, &quot;tms&quot;: false}\n",
              "            ).addTo(map_e35df496135b3bdb36cf85b50da0a5db);\n",
              "        \n",
              "    \n",
              "            var tile_layer_e3f080c9d8718d76b933b57715297cf5 = L.tileLayer(\n",
              "                &quot;https://{s}.tile.openstreetmap.org/{z}/{x}/{y}.png&quot;,\n",
              "                {&quot;attribution&quot;: &quot;Data by \\u0026copy; \\u003ca href=\\&quot;http://openstreetmap.org\\&quot;\\u003eOpenStreetMap\\u003c/a\\u003e, under \\u003ca href=\\&quot;http://www.openstreetmap.org/copyright\\&quot;\\u003eODbL\\u003c/a\\u003e.&quot;, &quot;detectRetina&quot;: false, &quot;maxNativeZoom&quot;: 18, &quot;maxZoom&quot;: 18, &quot;minZoom&quot;: 0, &quot;noWrap&quot;: false, &quot;opacity&quot;: 1, &quot;subdomains&quot;: &quot;abc&quot;, &quot;tms&quot;: false}\n",
              "            ).addTo(map_e35df496135b3bdb36cf85b50da0a5db);\n",
              "        \n",
              "    \n",
              "            var tile_layer_5942169914bda91d753d04bccb9ee1dd = L.tileLayer(\n",
              "                &quot;https://stamen-tiles-{s}.a.ssl.fastly.net/terrain/{z}/{x}/{y}.jpg&quot;,\n",
              "                {&quot;attribution&quot;: &quot;Map tiles by \\u003ca href=\\&quot;http://stamen.com\\&quot;\\u003eStamen Design\\u003c/a\\u003e, under \\u003ca href=\\&quot;http://creativecommons.org/licenses/by/3.0\\&quot;\\u003eCC BY 3.0\\u003c/a\\u003e. Data by \\u0026copy; \\u003ca href=\\&quot;http://openstreetmap.org\\&quot;\\u003eOpenStreetMap\\u003c/a\\u003e, under \\u003ca href=\\&quot;http://creativecommons.org/licenses/by-sa/3.0\\&quot;\\u003eCC BY SA\\u003c/a\\u003e.&quot;, &quot;detectRetina&quot;: false, &quot;maxNativeZoom&quot;: 18, &quot;maxZoom&quot;: 18, &quot;minZoom&quot;: 0, &quot;noWrap&quot;: false, &quot;opacity&quot;: 1, &quot;subdomains&quot;: &quot;abc&quot;, &quot;tms&quot;: false}\n",
              "            ).addTo(map_e35df496135b3bdb36cf85b50da0a5db);\n",
              "        \n",
              "    \n",
              "            var tile_layer_d4d1ceae4644d8d413899216288d1222 = L.tileLayer(\n",
              "                &quot;https://stamen-tiles-{s}.a.ssl.fastly.net/toner/{z}/{x}/{y}.png&quot;,\n",
              "                {&quot;attribution&quot;: &quot;Map tiles by \\u003ca href=\\&quot;http://stamen.com\\&quot;\\u003eStamen Design\\u003c/a\\u003e, under \\u003ca href=\\&quot;http://creativecommons.org/licenses/by/3.0\\&quot;\\u003eCC BY 3.0\\u003c/a\\u003e. Data by \\u0026copy; \\u003ca href=\\&quot;http://openstreetmap.org\\&quot;\\u003eOpenStreetMap\\u003c/a\\u003e, under \\u003ca href=\\&quot;http://www.openstreetmap.org/copyright\\&quot;\\u003eODbL\\u003c/a\\u003e.&quot;, &quot;detectRetina&quot;: false, &quot;maxNativeZoom&quot;: 18, &quot;maxZoom&quot;: 18, &quot;minZoom&quot;: 0, &quot;noWrap&quot;: false, &quot;opacity&quot;: 1, &quot;subdomains&quot;: &quot;abc&quot;, &quot;tms&quot;: false}\n",
              "            ).addTo(map_e35df496135b3bdb36cf85b50da0a5db);\n",
              "        \n",
              "    \n",
              "            var tile_layer_d3ed449841f2b7c1285bd34704fdba5f = L.tileLayer(\n",
              "                &quot;https://stamen-tiles-{s}.a.ssl.fastly.net/watercolor/{z}/{x}/{y}.jpg&quot;,\n",
              "                {&quot;attribution&quot;: &quot;Map tiles by \\u003ca href=\\&quot;http://stamen.com\\&quot;\\u003eStamen Design\\u003c/a\\u003e, under \\u003ca href=\\&quot;http://creativecommons.org/licenses/by/3.0\\&quot;\\u003eCC BY 3.0\\u003c/a\\u003e. Data by \\u0026copy; \\u003ca href=\\&quot;http://openstreetmap.org\\&quot;\\u003eOpenStreetMap\\u003c/a\\u003e, under \\u003ca href=\\&quot;http://creativecommons.org/licenses/by-sa/3.0\\&quot;\\u003eCC BY SA\\u003c/a\\u003e.&quot;, &quot;detectRetina&quot;: false, &quot;maxNativeZoom&quot;: 18, &quot;maxZoom&quot;: 18, &quot;minZoom&quot;: 0, &quot;noWrap&quot;: false, &quot;opacity&quot;: 1, &quot;subdomains&quot;: &quot;abc&quot;, &quot;tms&quot;: false}\n",
              "            ).addTo(map_e35df496135b3bdb36cf85b50da0a5db);\n",
              "        \n",
              "    \n",
              "            var tile_layer_663b5e4d07c7ef27fa7761c15fa6794b = L.tileLayer(\n",
              "                &quot;https://cartodb-basemaps-{s}.global.ssl.fastly.net/light_all/{z}/{x}/{y}.png&quot;,\n",
              "                {&quot;attribution&quot;: &quot;\\u0026copy; \\u003ca href=\\&quot;http://www.openstreetmap.org/copyright\\&quot;\\u003eOpenStreetMap\\u003c/a\\u003e contributors \\u0026copy; \\u003ca href=\\&quot;http://cartodb.com/attributions\\&quot;\\u003eCartoDB\\u003c/a\\u003e, CartoDB \\u003ca href =\\&quot;http://cartodb.com/attributions\\&quot;\\u003eattributions\\u003c/a\\u003e&quot;, &quot;detectRetina&quot;: false, &quot;maxNativeZoom&quot;: 18, &quot;maxZoom&quot;: 18, &quot;minZoom&quot;: 0, &quot;noWrap&quot;: false, &quot;opacity&quot;: 1, &quot;subdomains&quot;: &quot;abc&quot;, &quot;tms&quot;: false}\n",
              "            ).addTo(map_e35df496135b3bdb36cf85b50da0a5db);\n",
              "        \n",
              "    \n",
              "            var tile_layer_ed9582991eb8e2a02532c89a3678c2df = L.tileLayer(\n",
              "                &quot;https://cartodb-basemaps-{s}.global.ssl.fastly.net/dark_all/{z}/{x}/{y}.png&quot;,\n",
              "                {&quot;attribution&quot;: &quot;\\u0026copy; \\u003ca href=\\&quot;http://www.openstreetmap.org/copyright\\&quot;\\u003eOpenStreetMap\\u003c/a\\u003e contributors \\u0026copy; \\u003ca href=\\&quot;http://cartodb.com/attributions\\&quot;\\u003eCartoDB\\u003c/a\\u003e, CartoDB \\u003ca href =\\&quot;http://cartodb.com/attributions\\&quot;\\u003eattributions\\u003c/a\\u003e&quot;, &quot;detectRetina&quot;: false, &quot;maxNativeZoom&quot;: 18, &quot;maxZoom&quot;: 18, &quot;minZoom&quot;: 0, &quot;noWrap&quot;: false, &quot;opacity&quot;: 1, &quot;subdomains&quot;: &quot;abc&quot;, &quot;tms&quot;: false}\n",
              "            ).addTo(map_e35df496135b3bdb36cf85b50da0a5db);\n",
              "        \n",
              "    \n",
              "            var layer_control_26e72af4d3b415f7061ea796f0fa6b5a = {\n",
              "                base_layers : {\n",
              "                    &quot;openstreetmap&quot; : tile_layer_e3f080c9d8718d76b933b57715297cf5,\n",
              "                    &quot;stamenterrain&quot; : tile_layer_5942169914bda91d753d04bccb9ee1dd,\n",
              "                    &quot;stamentoner&quot; : tile_layer_d4d1ceae4644d8d413899216288d1222,\n",
              "                    &quot;stamenwatercolor&quot; : tile_layer_d3ed449841f2b7c1285bd34704fdba5f,\n",
              "                    &quot;cartodbpositron&quot; : tile_layer_663b5e4d07c7ef27fa7761c15fa6794b,\n",
              "                    &quot;cartodbdark_matter&quot; : tile_layer_ed9582991eb8e2a02532c89a3678c2df,\n",
              "                },\n",
              "                overlays :  {\n",
              "                },\n",
              "            };\n",
              "            L.control.layers(\n",
              "                layer_control_26e72af4d3b415f7061ea796f0fa6b5a.base_layers,\n",
              "                layer_control_26e72af4d3b415f7061ea796f0fa6b5a.overlays,\n",
              "                {&quot;autoZIndex&quot;: true, &quot;collapsed&quot;: true, &quot;position&quot;: &quot;topright&quot;}\n",
              "            ).addTo(map_e35df496135b3bdb36cf85b50da0a5db);\n",
              "            tile_layer_5942169914bda91d753d04bccb9ee1dd.remove();\n",
              "            tile_layer_d4d1ceae4644d8d413899216288d1222.remove();\n",
              "            tile_layer_d3ed449841f2b7c1285bd34704fdba5f.remove();\n",
              "            tile_layer_663b5e4d07c7ef27fa7761c15fa6794b.remove();\n",
              "            tile_layer_ed9582991eb8e2a02532c89a3678c2df.remove();\n",
              "        \n",
              "    \n",
              "            var marker_a33b9ffea3365b6225eaa3dc87cb6225 = L.marker(\n",
              "                [51.0555, -114.0686],\n",
              "                {}\n",
              "            ).addTo(map_e35df496135b3bdb36cf85b50da0a5db);\n",
              "        \n",
              "    \n",
              "            var icon_b1388ea5ce0014e1704871356238504b = L.AwesomeMarkers.icon(\n",
              "                {&quot;extraClasses&quot;: &quot;fa-rotate-0&quot;, &quot;icon&quot;: &quot;glyphicon glyphicon-phone&quot;, &quot;iconColor&quot;: &quot;white&quot;, &quot;markerColor&quot;: &quot;black&quot;, &quot;prefix&quot;: &quot;glyphicon&quot;}\n",
              "            );\n",
              "            marker_a33b9ffea3365b6225eaa3dc87cb6225.setIcon(icon_b1388ea5ce0014e1704871356238504b);\n",
              "        \n",
              "    \n",
              "        var popup_91b3b6e4aa016bf12d7c6daea466e00c = L.popup({&quot;maxWidth&quot;: &quot;100%&quot;});\n",
              "\n",
              "        \n",
              "            var html_b883ac6b30e8d14896a57bb7dd0184a3 = $(`&lt;div id=&quot;html_b883ac6b30e8d14896a57bb7dd0184a3&quot; style=&quot;width: 100.0%; height: 100.0%;&quot;&gt;[51.0555, -114.0686]&lt;/div&gt;`)[0];\n",
              "            popup_91b3b6e4aa016bf12d7c6daea466e00c.setContent(html_b883ac6b30e8d14896a57bb7dd0184a3);\n",
              "        \n",
              "\n",
              "        marker_a33b9ffea3365b6225eaa3dc87cb6225.bindPopup(popup_91b3b6e4aa016bf12d7c6daea466e00c)\n",
              "        ;\n",
              "\n",
              "        \n",
              "    \n",
              "    \n",
              "            marker_a33b9ffea3365b6225eaa3dc87cb6225.bindTooltip(\n",
              "                `&lt;div&gt;\n",
              "                     Phone Location\n",
              "                 &lt;/div&gt;`,\n",
              "                {&quot;sticky&quot;: true}\n",
              "            );\n",
              "        \n",
              "    \n",
              "            var marker_4d56a8b40c29f522968c9cea115527f1 = L.marker(\n",
              "                [51.0555, -114.067],\n",
              "                {}\n",
              "            ).addTo(map_e35df496135b3bdb36cf85b50da0a5db);\n",
              "        \n",
              "    \n",
              "            var icon_799c381af9c548a247c5cca72583f0b8 = L.AwesomeMarkers.icon(\n",
              "                {&quot;extraClasses&quot;: &quot;fa-rotate-0&quot;, &quot;icon&quot;: &quot;user&quot;, &quot;iconColor&quot;: &quot;white&quot;, &quot;markerColor&quot;: &quot;orange&quot;, &quot;prefix&quot;: &quot;fa&quot;}\n",
              "            );\n",
              "            marker_4d56a8b40c29f522968c9cea115527f1.setIcon(icon_799c381af9c548a247c5cca72583f0b8);\n",
              "        \n",
              "    \n",
              "        var popup_ffa204ee46ccc413ec3416f38080d56b = L.popup({&quot;maxWidth&quot;: &quot;100%&quot;});\n",
              "\n",
              "        \n",
              "            var html_e48dbb82c59a4aa926f39f455565c8f1 = $(`&lt;div id=&quot;html_e48dbb82c59a4aa926f39f455565c8f1&quot; style=&quot;width: 100.0%; height: 100.0%;&quot;&gt;[51.0555, -114.067]&lt;/div&gt;`)[0];\n",
              "            popup_ffa204ee46ccc413ec3416f38080d56b.setContent(html_e48dbb82c59a4aa926f39f455565c8f1);\n",
              "        \n",
              "\n",
              "        marker_4d56a8b40c29f522968c9cea115527f1.bindPopup(popup_ffa204ee46ccc413ec3416f38080d56b)\n",
              "        ;\n",
              "\n",
              "        \n",
              "    \n",
              "    \n",
              "            marker_4d56a8b40c29f522968c9cea115527f1.bindTooltip(\n",
              "                `&lt;div&gt;\n",
              "                     User Coordinates\n",
              "                 &lt;/div&gt;`,\n",
              "                {&quot;sticky&quot;: true}\n",
              "            );\n",
              "        \n",
              "    \n",
              "            var marker_3442e75753b40917ed2ee85f2d53d5d4 = L.marker(\n",
              "                [51.054967891001425, -114.07162728045314],\n",
              "                {}\n",
              "            ).addTo(map_e35df496135b3bdb36cf85b50da0a5db);\n",
              "        \n",
              "    \n",
              "            var icon_e1e98f0f906e127027996aa611deaf53 = L.AwesomeMarkers.icon(\n",
              "                {&quot;extraClasses&quot;: &quot;fa-rotate-0&quot;, &quot;icon&quot;: &quot;glyphicon glyphicon-star-empty&quot;, &quot;iconColor&quot;: &quot;white&quot;, &quot;markerColor&quot;: &quot;red&quot;, &quot;prefix&quot;: &quot;glyphicon&quot;}\n",
              "            );\n",
              "            marker_3442e75753b40917ed2ee85f2d53d5d4.setIcon(icon_e1e98f0f906e127027996aa611deaf53);\n",
              "        \n",
              "    \n",
              "        var popup_c40631d8a1e9fd5f2f1c9331c154ea84 = L.popup({&quot;maxWidth&quot;: &quot;100%&quot;});\n",
              "\n",
              "        \n",
              "            var html_1a76acdd566c14247049185aa1f5e8bc = $(`&lt;div id=&quot;html_1a76acdd566c14247049185aa1f5e8bc&quot; style=&quot;width: 100.0%; height: 100.0%;&quot;&gt;[51.054967891001425, -114.07162728045314]&lt;/div&gt;`)[0];\n",
              "            popup_c40631d8a1e9fd5f2f1c9331c154ea84.setContent(html_1a76acdd566c14247049185aa1f5e8bc);\n",
              "        \n",
              "\n",
              "        marker_3442e75753b40917ed2ee85f2d53d5d4.bindPopup(popup_c40631d8a1e9fd5f2f1c9331c154ea84)\n",
              "        ;\n",
              "\n",
              "        \n",
              "    \n",
              "    \n",
              "            marker_3442e75753b40917ed2ee85f2d53d5d4.bindTooltip(\n",
              "                `&lt;div&gt;\n",
              "                     Search Result 1\n",
              "                 &lt;/div&gt;`,\n",
              "                {&quot;sticky&quot;: true}\n",
              "            );\n",
              "        \n",
              "    \n",
              "            var rectangle_efd7212e05e97cb4aa36f0c1224374d8 = L.rectangle(\n",
              "                [[51.05363128651598, -114.07058493978805], [51.05760822659942, -114.06607160475434]],\n",
              "                {&quot;bubblingMouseEvents&quot;: true, &quot;color&quot;: &quot;purple&quot;, &quot;dashArray&quot;: null, &quot;dashOffset&quot;: null, &quot;fill&quot;: true, &quot;fillColor&quot;: &quot;purple&quot;, &quot;fillOpacity&quot;: 0.3, &quot;fillRule&quot;: &quot;evenodd&quot;, &quot;lineCap&quot;: &quot;round&quot;, &quot;lineJoin&quot;: &quot;round&quot;, &quot;noClip&quot;: false, &quot;opacity&quot;: 1.0, &quot;smoothFactor&quot;: 1.0, &quot;stroke&quot;: true, &quot;weight&quot;: 2}\n",
              "            ).addTo(map_e35df496135b3bdb36cf85b50da0a5db);\n",
              "        \n",
              "    \n",
              "                var lat_lng_popup_c9f3fc322e0c6602bed38d7ffbaf1468 = L.popup();\n",
              "                function latLngPop(e) {\n",
              "                    lat_lng_popup_c9f3fc322e0c6602bed38d7ffbaf1468\n",
              "                        .setLatLng(e.latlng)\n",
              "                        .setContent(&quot;Latitude: &quot; + e.latlng.lat.toFixed(4) +\n",
              "                                    &quot;&lt;br&gt;Longitude: &quot; + e.latlng.lng.toFixed(4))\n",
              "                        .openOn(map_e35df496135b3bdb36cf85b50da0a5db);\n",
              "                    }\n",
              "                map_e35df496135b3bdb36cf85b50da0a5db.on(&#x27;click&#x27;, latLngPop);\n",
              "            \n",
              "&lt;/script&gt;\" style=\"position:absolute;width:100%;height:100%;left:0;top:0;border:none !important;\" allowfullscreen webkitallowfullscreen mozallowfullscreen></iframe></div></div>"
            ]
          },
          "metadata": {},
          "execution_count": 20
        }
      ],
      "source": [
        "# Add pop-ups of Lat / Long\n",
        "Map.add_child(folium.LatLngPopup())"
      ]
    },
    {
      "cell_type": "markdown",
      "id": "cd6bcd7d-caae-4126-95b3-a87d599508cd",
      "metadata": {
        "id": "cd6bcd7d-caae-4126-95b3-a87d599508cd"
      },
      "source": [
        "## Conclusion\n",
        "\n",
        "This is a basic map that shows some of the power and functionality available using `folium`. In the next example, we'll do the exact same thing by using a function to generate a map."
      ]
    },
    {
      "cell_type": "markdown",
      "id": "a5e68c76-ea2c-4d5b-8918-4863b74c7424",
      "metadata": {
        "tags": [],
        "id": "a5e68c76-ea2c-4d5b-8918-4863b74c7424"
      },
      "source": [
        "# Using a function to generate the map\n",
        "\n",
        "## Library"
      ]
    },
    {
      "cell_type": "code",
      "execution_count": 21,
      "id": "bef132ff-e2de-4a2f-945f-ff5398cadefc",
      "metadata": {
        "id": "bef132ff-e2de-4a2f-945f-ff5398cadefc"
      },
      "outputs": [],
      "source": [
        "# maping library\n",
        "import folium"
      ]
    },
    {
      "cell_type": "markdown",
      "id": "eb30af8f-cda0-4b0e-9e90-d6b8ff25ee55",
      "metadata": {
        "id": "eb30af8f-cda0-4b0e-9e90-d6b8ff25ee55"
      },
      "source": [
        "## Points to Map"
      ]
    },
    {
      "cell_type": "markdown",
      "id": "47c2e533-65a8-4c0c-9be8-aac57cdc851f",
      "metadata": {
        "id": "47c2e533-65a8-4c0c-9be8-aac57cdc851f"
      },
      "source": [
        "## Map Generating Function\n",
        "\n",
        "The following function will be used to generate the same map used in the previous example. Using a function to generate a map simplifies the process of updating the map, allowing you to be more productive."
      ]
    },
    {
      "cell_type": "code",
      "execution_count": 22,
      "id": "adffbe1d-60d5-4a57-8a3f-ca816a25d6d2",
      "metadata": {
        "id": "adffbe1d-60d5-4a57-8a3f-ca816a25d6d2"
      },
      "outputs": [],
      "source": [
        "def generate_a_map(map_center_location, last_known_phone_ping, actual_user_location, search_result_1, search_result_2, search_result_3, search_result_4, viewport_location):\n",
        "\n",
        "    # Create a map object centered around a specified map coordinate\n",
        "    Map = folium.Map(location = map_center_location,\n",
        "                     zoom_start = 15, # Higher numbers zoom out, smaller numbers zoom in\n",
        "                     tiles =  'OpenStreetMap', #'OpenStreetMap', 'Stamen Terrain'\n",
        "                     )\n",
        "    \n",
        "    # add tiles to the Map\n",
        "    # Allows you to select from different map types, based on the standard maps available in folium\n",
        "    folium.raster_layers.TileLayer('Open Street Map').add_to(Map)\n",
        "    folium.raster_layers.TileLayer('Stamen Terrain').add_to(Map)\n",
        "    folium.raster_layers.TileLayer('Stamen Toner').add_to(Map)\n",
        "    folium.raster_layers.TileLayer('Stamen Watercolor').add_to(Map)\n",
        "    folium.raster_layers.TileLayer('CartoDB Positron').add_to(Map)\n",
        "    folium.raster_layers.TileLayer('CartoDB Dark_Matter').add_to(Map)    \n",
        "    \n",
        "    # add layer control to show different maps\n",
        "    folium.LayerControl().add_to(Map)\n",
        "    \n",
        "    # Viewport Coordinates\n",
        "    folium.Marker(location = last_known_phone_ping ,\n",
        "                  popup = f'{last_known_phone_ping }',\n",
        "                  icon = folium.Icon(color = 'black',\n",
        "                                     #prefix = 'fa',\n",
        "                                     icon = 'glyphicon glyphicon-phone',     #\"mobile\"\n",
        "                                    ),\n",
        "                  tooltip = 'Phone Location',\n",
        "                 ).add_to(Map);\n",
        "    \n",
        "    # User Coordinates\n",
        "    folium.Marker(location = actual_user_location,\n",
        "                  popup = f'{actual_user_location}',\n",
        "                  icon = folium.Icon(color = 'orange',\n",
        "                                     prefix = 'fa',\n",
        "                                     icon = \"user\"\n",
        "                                    ),\n",
        "                  tooltip = 'User Coordinates',\n",
        "                 ).add_to(Map);\n",
        "    \n",
        "    # Search Result 1\n",
        "    folium.Marker(location = search_result_1,\n",
        "                  popup = f'{search_result_1}',\n",
        "                  icon = folium.Icon(color = 'red',\n",
        "                                     icon = 'glyphicon glyphicon-star-empty',\n",
        "                                    ),\n",
        "                  tooltip = 'Search Result 1',\n",
        "                 ).add_to(Map);\n",
        "    \n",
        "    # Search Result 2\n",
        "    if len(search_result_2) != 0:\n",
        "        # Add map marker\n",
        "        folium.Marker(location = search_result_2,\n",
        "                      popup = f'{search_result_2}',\n",
        "                      icon = folium.Icon(color = 'purple'),\n",
        "                      tooltip = 'Search Result 2',\n",
        "                     ).add_to(Map);\n",
        "        \n",
        "    # Search Result 3\n",
        "    if len(search_result_3) != 0:\n",
        "        folium.Marker(location = search_result_3,\n",
        "                      popup = f'{search_result_3}',\n",
        "                      icon = folium.Icon(color = 'green'),\n",
        "                      tooltip = 'Search Result 3',\n",
        "                     ).add_to(Map);\n",
        "        \n",
        "    # Search Result 4\n",
        "    if len(search_result_4) != 0:\n",
        "        folium.Marker(location = search_result_4,\n",
        "                          popup = f'{search_result_4}',\n",
        "                          icon = folium.Icon(color = 'blue'),\n",
        "                          tooltip = 'Result 4',\n",
        "                         ).add_to(Map);\n",
        "        \n",
        "    # Create a rectangular object using the coordinates of\n",
        "    # the diagonal\n",
        "    folium.Rectangle(viewport_location,\n",
        "                     color = \"purple\",\n",
        "                     weight = 2,\n",
        "                     fill = True,\n",
        "                     fill_color = 'purple',\n",
        "                     fill_opacity = 0.3,\n",
        "                     ).add_to(Map);\n",
        "    \n",
        "           # Add pop-ups of Lat / Long\n",
        "    return Map.add_child(folium.LatLngPopup())"
      ]
    },
    {
      "cell_type": "markdown",
      "id": "a22b1c7f-eeb4-48d9-a970-335cedd7443a",
      "metadata": {
        "id": "a22b1c7f-eeb4-48d9-a970-335cedd7443a"
      },
      "source": [
        "## Points to Map"
      ]
    },
    {
      "cell_type": "code",
      "execution_count": 23,
      "id": "8af23e67-08ae-47c4-b0db-5ef4d02efd64",
      "metadata": {
        "id": "8af23e67-08ae-47c4-b0db-5ef4d02efd64"
      },
      "outputs": [],
      "source": [
        "# These coordinates will be used to center the map around a location\n",
        "map_center_location =  [51.048709210791046, -114.07181937131769]  # Coordinates are for the city of calgary"
      ]
    },
    {
      "cell_type": "code",
      "execution_count": 24,
      "id": "b66b26bf-f03f-4160-a365-b6f0b716866e",
      "metadata": {
        "id": "b66b26bf-f03f-4160-a365-b6f0b716866e"
      },
      "outputs": [],
      "source": [
        "# The last known location of the phone\n",
        "last_known_phone_ping = [51.0555, -114.0686]"
      ]
    },
    {
      "cell_type": "code",
      "execution_count": 25,
      "id": "a55ff032-ba26-40bc-91be-eba30e76262b",
      "metadata": {
        "id": "a55ff032-ba26-40bc-91be-eba30e76262b"
      },
      "outputs": [],
      "source": [
        "# Where the user actually is, in relation to the phone\n",
        "actual_user_location =  [51.0555, -114.0670]"
      ]
    },
    {
      "cell_type": "code",
      "execution_count": 26,
      "id": "169af84b-67dc-41f3-b171-87c000d0ebf1",
      "metadata": {
        "id": "169af84b-67dc-41f3-b171-87c000d0ebf1"
      },
      "outputs": [],
      "source": [
        "# Pin location of the result returned by the query\n",
        "search_result_1 = [51.054967891001425, -114.07162728045314]"
      ]
    },
    {
      "cell_type": "code",
      "execution_count": 27,
      "id": "5b65f5b6-d029-491e-abed-f592491a0d32",
      "metadata": {
        "id": "5b65f5b6-d029-491e-abed-f592491a0d32"
      },
      "outputs": [],
      "source": [
        "# Pin location of the result returned by the query\n",
        "search_result_2 = []"
      ]
    },
    {
      "cell_type": "code",
      "execution_count": 28,
      "id": "093dd9f5-d215-43e6-a583-0857c59fef49",
      "metadata": {
        "id": "093dd9f5-d215-43e6-a583-0857c59fef49"
      },
      "outputs": [],
      "source": [
        "# Pin location of the result returned by the query\n",
        "search_result_3 = []"
      ]
    },
    {
      "cell_type": "code",
      "execution_count": 29,
      "id": "988e19e2-7b1b-4a5b-9cbc-2af2ef4f9751",
      "metadata": {
        "id": "988e19e2-7b1b-4a5b-9cbc-2af2ef4f9751"
      },
      "outputs": [],
      "source": [
        "# Pin location of the result returned by the query\n",
        "search_result_4 = []"
      ]
    },
    {
      "cell_type": "code",
      "execution_count": 30,
      "id": "e8122630-9ec6-4dd1-883b-f44a2cd459db",
      "metadata": {
        "id": "e8122630-9ec6-4dd1-883b-f44a2cd459db"
      },
      "outputs": [],
      "source": [
        "# diagonal coordinates of a rectangle that will be drawn on the map to represent the view area\n",
        "viewport_location = [(51.05363128651598, -114.07058493978805), \n",
        "                     (51.05760822659942, -114.06607160475434)\n",
        "                    ]"
      ]
    },
    {
      "cell_type": "markdown",
      "id": "fac5716d-4a90-4c9d-a480-0ecc8984c6fc",
      "metadata": {
        "id": "fac5716d-4a90-4c9d-a480-0ecc8984c6fc"
      },
      "source": [
        "## Create the Map"
      ]
    },
    {
      "cell_type": "code",
      "execution_count": 31,
      "id": "1411f87c-a8db-4a37-84bf-9c6cea6ecdef",
      "metadata": {
        "id": "1411f87c-a8db-4a37-84bf-9c6cea6ecdef"
      },
      "outputs": [],
      "source": [
        "# Create a map object\n",
        "Map = generate_a_map(map_center_location, last_known_phone_ping, actual_user_location, search_result_1, search_result_2, search_result_3, search_result_4, viewport_location)"
      ]
    },
    {
      "cell_type": "markdown",
      "id": "56ddf5a0-8a39-4bbc-aa93-1018561c7959",
      "metadata": {
        "id": "56ddf5a0-8a39-4bbc-aa93-1018561c7959"
      },
      "source": [
        "## Display the Map"
      ]
    },
    {
      "cell_type": "code",
      "execution_count": 32,
      "id": "68e3fb45-0a1c-4837-acbe-1ee3cc8a9951",
      "metadata": {
        "colab": {
          "base_uri": "https://localhost:8080/",
          "height": 1000
        },
        "id": "68e3fb45-0a1c-4837-acbe-1ee3cc8a9951",
        "outputId": "f55c3440-8f64-4caa-e670-1ac19a63ad97"
      },
      "outputs": [
        {
          "output_type": "execute_result",
          "data": {
            "text/plain": [
              "<folium.folium.Map at 0x7f5171233d90>"
            ],
            "text/html": [
              "<div style=\"width:100%;\"><div style=\"position:relative;width:100%;height:0;padding-bottom:60%;\"><span style=\"color:#565656\">Make this Notebook Trusted to load map: File -> Trust Notebook</span><iframe srcdoc=\"&lt;!DOCTYPE html&gt;\n",
              "&lt;head&gt;    \n",
              "    &lt;meta http-equiv=&quot;content-type&quot; content=&quot;text/html; charset=UTF-8&quot; /&gt;\n",
              "    \n",
              "        &lt;script&gt;\n",
              "            L_NO_TOUCH = false;\n",
              "            L_DISABLE_3D = false;\n",
              "        &lt;/script&gt;\n",
              "    \n",
              "    &lt;style&gt;html, body {width: 100%;height: 100%;margin: 0;padding: 0;}&lt;/style&gt;\n",
              "    &lt;style&gt;#map {position:absolute;top:0;bottom:0;right:0;left:0;}&lt;/style&gt;\n",
              "    &lt;script src=&quot;https://cdn.jsdelivr.net/npm/leaflet@1.6.0/dist/leaflet.js&quot;&gt;&lt;/script&gt;\n",
              "    &lt;script src=&quot;https://code.jquery.com/jquery-1.12.4.min.js&quot;&gt;&lt;/script&gt;\n",
              "    &lt;script src=&quot;https://maxcdn.bootstrapcdn.com/bootstrap/3.2.0/js/bootstrap.min.js&quot;&gt;&lt;/script&gt;\n",
              "    &lt;script src=&quot;https://cdnjs.cloudflare.com/ajax/libs/Leaflet.awesome-markers/2.0.2/leaflet.awesome-markers.js&quot;&gt;&lt;/script&gt;\n",
              "    &lt;link rel=&quot;stylesheet&quot; href=&quot;https://cdn.jsdelivr.net/npm/leaflet@1.6.0/dist/leaflet.css&quot;/&gt;\n",
              "    &lt;link rel=&quot;stylesheet&quot; href=&quot;https://maxcdn.bootstrapcdn.com/bootstrap/3.2.0/css/bootstrap.min.css&quot;/&gt;\n",
              "    &lt;link rel=&quot;stylesheet&quot; href=&quot;https://maxcdn.bootstrapcdn.com/bootstrap/3.2.0/css/bootstrap-theme.min.css&quot;/&gt;\n",
              "    &lt;link rel=&quot;stylesheet&quot; href=&quot;https://maxcdn.bootstrapcdn.com/font-awesome/4.6.3/css/font-awesome.min.css&quot;/&gt;\n",
              "    &lt;link rel=&quot;stylesheet&quot; href=&quot;https://cdnjs.cloudflare.com/ajax/libs/Leaflet.awesome-markers/2.0.2/leaflet.awesome-markers.css&quot;/&gt;\n",
              "    &lt;link rel=&quot;stylesheet&quot; href=&quot;https://cdn.jsdelivr.net/gh/python-visualization/folium/folium/templates/leaflet.awesome.rotate.min.css&quot;/&gt;\n",
              "    \n",
              "            &lt;meta name=&quot;viewport&quot; content=&quot;width=device-width,\n",
              "                initial-scale=1.0, maximum-scale=1.0, user-scalable=no&quot; /&gt;\n",
              "            &lt;style&gt;\n",
              "                #map_1a162df941c9a80fda8389db0df5d699 {\n",
              "                    position: relative;\n",
              "                    width: 100.0%;\n",
              "                    height: 100.0%;\n",
              "                    left: 0.0%;\n",
              "                    top: 0.0%;\n",
              "                }\n",
              "            &lt;/style&gt;\n",
              "        \n",
              "&lt;/head&gt;\n",
              "&lt;body&gt;    \n",
              "    \n",
              "            &lt;div class=&quot;folium-map&quot; id=&quot;map_1a162df941c9a80fda8389db0df5d699&quot; &gt;&lt;/div&gt;\n",
              "        \n",
              "&lt;/body&gt;\n",
              "&lt;script&gt;    \n",
              "    \n",
              "            var map_1a162df941c9a80fda8389db0df5d699 = L.map(\n",
              "                &quot;map_1a162df941c9a80fda8389db0df5d699&quot;,\n",
              "                {\n",
              "                    center: [51.048709210791046, -114.07181937131769],\n",
              "                    crs: L.CRS.EPSG3857,\n",
              "                    zoom: 15,\n",
              "                    zoomControl: true,\n",
              "                    preferCanvas: false,\n",
              "                }\n",
              "            );\n",
              "\n",
              "            \n",
              "\n",
              "        \n",
              "    \n",
              "            var tile_layer_d4623b2e44ffa80d812fb0995e865a75 = L.tileLayer(\n",
              "                &quot;https://{s}.tile.openstreetmap.org/{z}/{x}/{y}.png&quot;,\n",
              "                {&quot;attribution&quot;: &quot;Data by \\u0026copy; \\u003ca href=\\&quot;http://openstreetmap.org\\&quot;\\u003eOpenStreetMap\\u003c/a\\u003e, under \\u003ca href=\\&quot;http://www.openstreetmap.org/copyright\\&quot;\\u003eODbL\\u003c/a\\u003e.&quot;, &quot;detectRetina&quot;: false, &quot;maxNativeZoom&quot;: 18, &quot;maxZoom&quot;: 18, &quot;minZoom&quot;: 0, &quot;noWrap&quot;: false, &quot;opacity&quot;: 1, &quot;subdomains&quot;: &quot;abc&quot;, &quot;tms&quot;: false}\n",
              "            ).addTo(map_1a162df941c9a80fda8389db0df5d699);\n",
              "        \n",
              "    \n",
              "            var tile_layer_ca8490e401dd35b651079170c561c27f = L.tileLayer(\n",
              "                &quot;https://{s}.tile.openstreetmap.org/{z}/{x}/{y}.png&quot;,\n",
              "                {&quot;attribution&quot;: &quot;Data by \\u0026copy; \\u003ca href=\\&quot;http://openstreetmap.org\\&quot;\\u003eOpenStreetMap\\u003c/a\\u003e, under \\u003ca href=\\&quot;http://www.openstreetmap.org/copyright\\&quot;\\u003eODbL\\u003c/a\\u003e.&quot;, &quot;detectRetina&quot;: false, &quot;maxNativeZoom&quot;: 18, &quot;maxZoom&quot;: 18, &quot;minZoom&quot;: 0, &quot;noWrap&quot;: false, &quot;opacity&quot;: 1, &quot;subdomains&quot;: &quot;abc&quot;, &quot;tms&quot;: false}\n",
              "            ).addTo(map_1a162df941c9a80fda8389db0df5d699);\n",
              "        \n",
              "    \n",
              "            var tile_layer_dbec2578b946938475a69130e9772baf = L.tileLayer(\n",
              "                &quot;https://stamen-tiles-{s}.a.ssl.fastly.net/terrain/{z}/{x}/{y}.jpg&quot;,\n",
              "                {&quot;attribution&quot;: &quot;Map tiles by \\u003ca href=\\&quot;http://stamen.com\\&quot;\\u003eStamen Design\\u003c/a\\u003e, under \\u003ca href=\\&quot;http://creativecommons.org/licenses/by/3.0\\&quot;\\u003eCC BY 3.0\\u003c/a\\u003e. Data by \\u0026copy; \\u003ca href=\\&quot;http://openstreetmap.org\\&quot;\\u003eOpenStreetMap\\u003c/a\\u003e, under \\u003ca href=\\&quot;http://creativecommons.org/licenses/by-sa/3.0\\&quot;\\u003eCC BY SA\\u003c/a\\u003e.&quot;, &quot;detectRetina&quot;: false, &quot;maxNativeZoom&quot;: 18, &quot;maxZoom&quot;: 18, &quot;minZoom&quot;: 0, &quot;noWrap&quot;: false, &quot;opacity&quot;: 1, &quot;subdomains&quot;: &quot;abc&quot;, &quot;tms&quot;: false}\n",
              "            ).addTo(map_1a162df941c9a80fda8389db0df5d699);\n",
              "        \n",
              "    \n",
              "            var tile_layer_a10d25e9861caf8d657fd2a838346e40 = L.tileLayer(\n",
              "                &quot;https://stamen-tiles-{s}.a.ssl.fastly.net/toner/{z}/{x}/{y}.png&quot;,\n",
              "                {&quot;attribution&quot;: &quot;Map tiles by \\u003ca href=\\&quot;http://stamen.com\\&quot;\\u003eStamen Design\\u003c/a\\u003e, under \\u003ca href=\\&quot;http://creativecommons.org/licenses/by/3.0\\&quot;\\u003eCC BY 3.0\\u003c/a\\u003e. Data by \\u0026copy; \\u003ca href=\\&quot;http://openstreetmap.org\\&quot;\\u003eOpenStreetMap\\u003c/a\\u003e, under \\u003ca href=\\&quot;http://www.openstreetmap.org/copyright\\&quot;\\u003eODbL\\u003c/a\\u003e.&quot;, &quot;detectRetina&quot;: false, &quot;maxNativeZoom&quot;: 18, &quot;maxZoom&quot;: 18, &quot;minZoom&quot;: 0, &quot;noWrap&quot;: false, &quot;opacity&quot;: 1, &quot;subdomains&quot;: &quot;abc&quot;, &quot;tms&quot;: false}\n",
              "            ).addTo(map_1a162df941c9a80fda8389db0df5d699);\n",
              "        \n",
              "    \n",
              "            var tile_layer_ea3f5d22810f41a53ec07a2fb9f9410f = L.tileLayer(\n",
              "                &quot;https://stamen-tiles-{s}.a.ssl.fastly.net/watercolor/{z}/{x}/{y}.jpg&quot;,\n",
              "                {&quot;attribution&quot;: &quot;Map tiles by \\u003ca href=\\&quot;http://stamen.com\\&quot;\\u003eStamen Design\\u003c/a\\u003e, under \\u003ca href=\\&quot;http://creativecommons.org/licenses/by/3.0\\&quot;\\u003eCC BY 3.0\\u003c/a\\u003e. Data by \\u0026copy; \\u003ca href=\\&quot;http://openstreetmap.org\\&quot;\\u003eOpenStreetMap\\u003c/a\\u003e, under \\u003ca href=\\&quot;http://creativecommons.org/licenses/by-sa/3.0\\&quot;\\u003eCC BY SA\\u003c/a\\u003e.&quot;, &quot;detectRetina&quot;: false, &quot;maxNativeZoom&quot;: 18, &quot;maxZoom&quot;: 18, &quot;minZoom&quot;: 0, &quot;noWrap&quot;: false, &quot;opacity&quot;: 1, &quot;subdomains&quot;: &quot;abc&quot;, &quot;tms&quot;: false}\n",
              "            ).addTo(map_1a162df941c9a80fda8389db0df5d699);\n",
              "        \n",
              "    \n",
              "            var tile_layer_21a342372412c30b31af9505277372a5 = L.tileLayer(\n",
              "                &quot;https://cartodb-basemaps-{s}.global.ssl.fastly.net/light_all/{z}/{x}/{y}.png&quot;,\n",
              "                {&quot;attribution&quot;: &quot;\\u0026copy; \\u003ca href=\\&quot;http://www.openstreetmap.org/copyright\\&quot;\\u003eOpenStreetMap\\u003c/a\\u003e contributors \\u0026copy; \\u003ca href=\\&quot;http://cartodb.com/attributions\\&quot;\\u003eCartoDB\\u003c/a\\u003e, CartoDB \\u003ca href =\\&quot;http://cartodb.com/attributions\\&quot;\\u003eattributions\\u003c/a\\u003e&quot;, &quot;detectRetina&quot;: false, &quot;maxNativeZoom&quot;: 18, &quot;maxZoom&quot;: 18, &quot;minZoom&quot;: 0, &quot;noWrap&quot;: false, &quot;opacity&quot;: 1, &quot;subdomains&quot;: &quot;abc&quot;, &quot;tms&quot;: false}\n",
              "            ).addTo(map_1a162df941c9a80fda8389db0df5d699);\n",
              "        \n",
              "    \n",
              "            var tile_layer_7d1140c37a37f40da10153148a604de5 = L.tileLayer(\n",
              "                &quot;https://cartodb-basemaps-{s}.global.ssl.fastly.net/dark_all/{z}/{x}/{y}.png&quot;,\n",
              "                {&quot;attribution&quot;: &quot;\\u0026copy; \\u003ca href=\\&quot;http://www.openstreetmap.org/copyright\\&quot;\\u003eOpenStreetMap\\u003c/a\\u003e contributors \\u0026copy; \\u003ca href=\\&quot;http://cartodb.com/attributions\\&quot;\\u003eCartoDB\\u003c/a\\u003e, CartoDB \\u003ca href =\\&quot;http://cartodb.com/attributions\\&quot;\\u003eattributions\\u003c/a\\u003e&quot;, &quot;detectRetina&quot;: false, &quot;maxNativeZoom&quot;: 18, &quot;maxZoom&quot;: 18, &quot;minZoom&quot;: 0, &quot;noWrap&quot;: false, &quot;opacity&quot;: 1, &quot;subdomains&quot;: &quot;abc&quot;, &quot;tms&quot;: false}\n",
              "            ).addTo(map_1a162df941c9a80fda8389db0df5d699);\n",
              "        \n",
              "    \n",
              "            var layer_control_f9998876e70db10da178a21a04091554 = {\n",
              "                base_layers : {\n",
              "                    &quot;openstreetmap&quot; : tile_layer_ca8490e401dd35b651079170c561c27f,\n",
              "                    &quot;stamenterrain&quot; : tile_layer_dbec2578b946938475a69130e9772baf,\n",
              "                    &quot;stamentoner&quot; : tile_layer_a10d25e9861caf8d657fd2a838346e40,\n",
              "                    &quot;stamenwatercolor&quot; : tile_layer_ea3f5d22810f41a53ec07a2fb9f9410f,\n",
              "                    &quot;cartodbpositron&quot; : tile_layer_21a342372412c30b31af9505277372a5,\n",
              "                    &quot;cartodbdark_matter&quot; : tile_layer_7d1140c37a37f40da10153148a604de5,\n",
              "                },\n",
              "                overlays :  {\n",
              "                },\n",
              "            };\n",
              "            L.control.layers(\n",
              "                layer_control_f9998876e70db10da178a21a04091554.base_layers,\n",
              "                layer_control_f9998876e70db10da178a21a04091554.overlays,\n",
              "                {&quot;autoZIndex&quot;: true, &quot;collapsed&quot;: true, &quot;position&quot;: &quot;topright&quot;}\n",
              "            ).addTo(map_1a162df941c9a80fda8389db0df5d699);\n",
              "            tile_layer_dbec2578b946938475a69130e9772baf.remove();\n",
              "            tile_layer_a10d25e9861caf8d657fd2a838346e40.remove();\n",
              "            tile_layer_ea3f5d22810f41a53ec07a2fb9f9410f.remove();\n",
              "            tile_layer_21a342372412c30b31af9505277372a5.remove();\n",
              "            tile_layer_7d1140c37a37f40da10153148a604de5.remove();\n",
              "        \n",
              "    \n",
              "            var marker_fb6ea6cfac8846f5728f4a6e1eae807b = L.marker(\n",
              "                [51.0555, -114.0686],\n",
              "                {}\n",
              "            ).addTo(map_1a162df941c9a80fda8389db0df5d699);\n",
              "        \n",
              "    \n",
              "            var icon_c9a9d5b11ca10d01beedb320f18da527 = L.AwesomeMarkers.icon(\n",
              "                {&quot;extraClasses&quot;: &quot;fa-rotate-0&quot;, &quot;icon&quot;: &quot;glyphicon glyphicon-phone&quot;, &quot;iconColor&quot;: &quot;white&quot;, &quot;markerColor&quot;: &quot;black&quot;, &quot;prefix&quot;: &quot;glyphicon&quot;}\n",
              "            );\n",
              "            marker_fb6ea6cfac8846f5728f4a6e1eae807b.setIcon(icon_c9a9d5b11ca10d01beedb320f18da527);\n",
              "        \n",
              "    \n",
              "        var popup_9cf59566abfb218a000d9252c3d44c35 = L.popup({&quot;maxWidth&quot;: &quot;100%&quot;});\n",
              "\n",
              "        \n",
              "            var html_a33010b258957c1d72496d17d79ce149 = $(`&lt;div id=&quot;html_a33010b258957c1d72496d17d79ce149&quot; style=&quot;width: 100.0%; height: 100.0%;&quot;&gt;[51.0555, -114.0686]&lt;/div&gt;`)[0];\n",
              "            popup_9cf59566abfb218a000d9252c3d44c35.setContent(html_a33010b258957c1d72496d17d79ce149);\n",
              "        \n",
              "\n",
              "        marker_fb6ea6cfac8846f5728f4a6e1eae807b.bindPopup(popup_9cf59566abfb218a000d9252c3d44c35)\n",
              "        ;\n",
              "\n",
              "        \n",
              "    \n",
              "    \n",
              "            marker_fb6ea6cfac8846f5728f4a6e1eae807b.bindTooltip(\n",
              "                `&lt;div&gt;\n",
              "                     Phone Location\n",
              "                 &lt;/div&gt;`,\n",
              "                {&quot;sticky&quot;: true}\n",
              "            );\n",
              "        \n",
              "    \n",
              "            var marker_9eccde0390f9e744b267eebc79fa5306 = L.marker(\n",
              "                [51.0555, -114.067],\n",
              "                {}\n",
              "            ).addTo(map_1a162df941c9a80fda8389db0df5d699);\n",
              "        \n",
              "    \n",
              "            var icon_f4b5127b1c596d2974e58321ceea95e9 = L.AwesomeMarkers.icon(\n",
              "                {&quot;extraClasses&quot;: &quot;fa-rotate-0&quot;, &quot;icon&quot;: &quot;user&quot;, &quot;iconColor&quot;: &quot;white&quot;, &quot;markerColor&quot;: &quot;orange&quot;, &quot;prefix&quot;: &quot;fa&quot;}\n",
              "            );\n",
              "            marker_9eccde0390f9e744b267eebc79fa5306.setIcon(icon_f4b5127b1c596d2974e58321ceea95e9);\n",
              "        \n",
              "    \n",
              "        var popup_3ac0e09bc67079127e2be82cd3ed2049 = L.popup({&quot;maxWidth&quot;: &quot;100%&quot;});\n",
              "\n",
              "        \n",
              "            var html_b4375639ed0224c09d547766ebb786c1 = $(`&lt;div id=&quot;html_b4375639ed0224c09d547766ebb786c1&quot; style=&quot;width: 100.0%; height: 100.0%;&quot;&gt;[51.0555, -114.067]&lt;/div&gt;`)[0];\n",
              "            popup_3ac0e09bc67079127e2be82cd3ed2049.setContent(html_b4375639ed0224c09d547766ebb786c1);\n",
              "        \n",
              "\n",
              "        marker_9eccde0390f9e744b267eebc79fa5306.bindPopup(popup_3ac0e09bc67079127e2be82cd3ed2049)\n",
              "        ;\n",
              "\n",
              "        \n",
              "    \n",
              "    \n",
              "            marker_9eccde0390f9e744b267eebc79fa5306.bindTooltip(\n",
              "                `&lt;div&gt;\n",
              "                     User Coordinates\n",
              "                 &lt;/div&gt;`,\n",
              "                {&quot;sticky&quot;: true}\n",
              "            );\n",
              "        \n",
              "    \n",
              "            var marker_a4627a550d82735fd7c884d8c7176c68 = L.marker(\n",
              "                [51.054967891001425, -114.07162728045314],\n",
              "                {}\n",
              "            ).addTo(map_1a162df941c9a80fda8389db0df5d699);\n",
              "        \n",
              "    \n",
              "            var icon_9d907a97f78c95a22d078974033f5f62 = L.AwesomeMarkers.icon(\n",
              "                {&quot;extraClasses&quot;: &quot;fa-rotate-0&quot;, &quot;icon&quot;: &quot;glyphicon glyphicon-star-empty&quot;, &quot;iconColor&quot;: &quot;white&quot;, &quot;markerColor&quot;: &quot;red&quot;, &quot;prefix&quot;: &quot;glyphicon&quot;}\n",
              "            );\n",
              "            marker_a4627a550d82735fd7c884d8c7176c68.setIcon(icon_9d907a97f78c95a22d078974033f5f62);\n",
              "        \n",
              "    \n",
              "        var popup_a65239021a7ac5bfb549e666eedf22a1 = L.popup({&quot;maxWidth&quot;: &quot;100%&quot;});\n",
              "\n",
              "        \n",
              "            var html_bd9987df79d77022f0592981de5fe27a = $(`&lt;div id=&quot;html_bd9987df79d77022f0592981de5fe27a&quot; style=&quot;width: 100.0%; height: 100.0%;&quot;&gt;[51.054967891001425, -114.07162728045314]&lt;/div&gt;`)[0];\n",
              "            popup_a65239021a7ac5bfb549e666eedf22a1.setContent(html_bd9987df79d77022f0592981de5fe27a);\n",
              "        \n",
              "\n",
              "        marker_a4627a550d82735fd7c884d8c7176c68.bindPopup(popup_a65239021a7ac5bfb549e666eedf22a1)\n",
              "        ;\n",
              "\n",
              "        \n",
              "    \n",
              "    \n",
              "            marker_a4627a550d82735fd7c884d8c7176c68.bindTooltip(\n",
              "                `&lt;div&gt;\n",
              "                     Search Result 1\n",
              "                 &lt;/div&gt;`,\n",
              "                {&quot;sticky&quot;: true}\n",
              "            );\n",
              "        \n",
              "    \n",
              "            var rectangle_41f82b8cd6ed8ee9b85a30286d0cf8a5 = L.rectangle(\n",
              "                [[51.05363128651598, -114.07058493978805], [51.05760822659942, -114.06607160475434]],\n",
              "                {&quot;bubblingMouseEvents&quot;: true, &quot;color&quot;: &quot;purple&quot;, &quot;dashArray&quot;: null, &quot;dashOffset&quot;: null, &quot;fill&quot;: true, &quot;fillColor&quot;: &quot;purple&quot;, &quot;fillOpacity&quot;: 0.3, &quot;fillRule&quot;: &quot;evenodd&quot;, &quot;lineCap&quot;: &quot;round&quot;, &quot;lineJoin&quot;: &quot;round&quot;, &quot;noClip&quot;: false, &quot;opacity&quot;: 1.0, &quot;smoothFactor&quot;: 1.0, &quot;stroke&quot;: true, &quot;weight&quot;: 2}\n",
              "            ).addTo(map_1a162df941c9a80fda8389db0df5d699);\n",
              "        \n",
              "    \n",
              "                var lat_lng_popup_6df27b9cba91b080b8a34fcbb8cac55f = L.popup();\n",
              "                function latLngPop(e) {\n",
              "                    lat_lng_popup_6df27b9cba91b080b8a34fcbb8cac55f\n",
              "                        .setLatLng(e.latlng)\n",
              "                        .setContent(&quot;Latitude: &quot; + e.latlng.lat.toFixed(4) +\n",
              "                                    &quot;&lt;br&gt;Longitude: &quot; + e.latlng.lng.toFixed(4))\n",
              "                        .openOn(map_1a162df941c9a80fda8389db0df5d699);\n",
              "                    }\n",
              "                map_1a162df941c9a80fda8389db0df5d699.on(&#x27;click&#x27;, latLngPop);\n",
              "            \n",
              "&lt;/script&gt;\" style=\"position:absolute;width:100%;height:100%;left:0;top:0;border:none !important;\" allowfullscreen webkitallowfullscreen mozallowfullscreen></iframe></div></div>"
            ]
          },
          "metadata": {},
          "execution_count": 32
        }
      ],
      "source": [
        "Map"
      ]
    },
    {
      "cell_type": "markdown",
      "id": "06a3f3e3-6a2a-486a-8fc0-8b96cbca16d8",
      "metadata": {
        "id": "06a3f3e3-6a2a-486a-8fc0-8b96cbca16d8"
      },
      "source": [
        "## Conclusion\n",
        "\n",
        "This example demonstrates how using a function helps speed up the process of using mapping functions, in the next example we'll show how to create interactive controls to update the map on the fly."
      ]
    },
    {
      "cell_type": "markdown",
      "id": "6369ebeb-7669-42af-878b-60a80c94ee53",
      "metadata": {
        "id": "6369ebeb-7669-42af-878b-60a80c94ee53"
      },
      "source": [
        "# How to create an interactive map\n",
        "\n",
        "In order to maximize productivity, we would like to create a map with interactive controls, allowing us to change map cooridnates on the fly while having the map automatically update the results. The following example shows how you can build yourself interactive tools using python, boosting your mapping analytics productivity.\n",
        "\n",
        "## Libraries"
      ]
    },
    {
      "cell_type": "code",
      "execution_count": 33,
      "id": "cdc1f07e-bd53-402a-be19-6937aebc3a06",
      "metadata": {
        "id": "cdc1f07e-bd53-402a-be19-6937aebc3a06"
      },
      "outputs": [],
      "source": [
        "# Mapping library\n",
        "# https://python-visualization.github.io/folium/\n",
        "import folium"
      ]
    },
    {
      "cell_type": "code",
      "execution_count": 34,
      "id": "9115446f-ea23-480a-a2c3-aeb3e30a7e63",
      "metadata": {
        "id": "9115446f-ea23-480a-a2c3-aeb3e30a7e63"
      },
      "outputs": [],
      "source": [
        "# Library used to create interactive controls\n",
        "# https://ipywidgets.readthedocs.io/en/stable/examples/Widget%20List.html#\n",
        "import ipywidgets as widgets"
      ]
    },
    {
      "cell_type": "markdown",
      "id": "d77eec86-8a35-486c-83a1-f27b3e0bc5e4",
      "metadata": {
        "id": "d77eec86-8a35-486c-83a1-f27b3e0bc5e4"
      },
      "source": [
        "## Default Location\n",
        "\n",
        "The purpose of a default location is to center the map on something, when the user hasn't yet entered any values."
      ]
    },
    {
      "cell_type": "code",
      "execution_count": 35,
      "id": "f1d626b4-2c8d-4eb0-a46a-33dc38ef2bc6",
      "metadata": {
        "id": "f1d626b4-2c8d-4eb0-a46a-33dc38ef2bc6"
      },
      "outputs": [],
      "source": [
        "# Calgary is the default location\n",
        "default_location = [51.048709210791046, -114.07181937131769]"
      ]
    },
    {
      "cell_type": "markdown",
      "id": "ec71b854-a1e8-477c-8a2f-547cea139e4d",
      "metadata": {
        "id": "ec71b854-a1e8-477c-8a2f-547cea139e4d"
      },
      "source": [
        "## Interactive Widgets\n",
        "\n",
        "The following code will create a text-box for each user input, enabling the user to change inputs on the fly by allowing the user to input coordinates using a`Text` box. We can build these tools thanks to the [ipywidgets library](https://ipywidgets.readthedocs.io/en/stable/examples/Widget%20List.html)"
      ]
    },
    {
      "cell_type": "code",
      "execution_count": 36,
      "id": "ab3d4d34-e2a9-456b-bdd9-30eb855a0cd6",
      "metadata": {
        "id": "ab3d4d34-e2a9-456b-bdd9-30eb855a0cd6"
      },
      "outputs": [],
      "source": [
        "# To get coordinates of location to center map on\n",
        "location_widget = widgets.Text(value = 'location',\n",
        "                               placeholder = 'location',\n",
        "                               description = 'Location',\n",
        "                               disabled = False,\n",
        "                               layout = {'width' : 'max-content'}\n",
        "                              )"
      ]
    },
    {
      "cell_type": "code",
      "execution_count": 37,
      "id": "dc4b046b-e552-4bd0-9bf9-b8e5f0bf4482",
      "metadata": {
        "id": "dc4b046b-e552-4bd0-9bf9-b8e5f0bf4482"
      },
      "outputs": [],
      "source": [
        "# Diagonal 1 of square that is used for viewport\n",
        "diag1_widget = widgets.Text(value = 'diagonal 1',\n",
        "                            placeholder = 'diagonal 1',\n",
        "                            description = 'Diagonal 1',\n",
        "                            disabled = False,\n",
        "                            layout = {'width' : 'max-content'}\n",
        "                            )"
      ]
    },
    {
      "cell_type": "code",
      "execution_count": 38,
      "id": "5c6c6a1b-5121-4469-8353-19b4195b8665",
      "metadata": {
        "id": "5c6c6a1b-5121-4469-8353-19b4195b8665"
      },
      "outputs": [],
      "source": [
        "# Diagonal 2 of square that is used for viewport\n",
        "diag2_widget = widgets.Text(value = 'diagonal 2',\n",
        "                            placeholder = 'diagonal 2',\n",
        "                            description = 'Diagonal 2',\n",
        "                            disabled = False,\n",
        "                            layout = {'width' : 'max-content'}\n",
        "                            )"
      ]
    },
    {
      "cell_type": "code",
      "execution_count": 39,
      "id": "d507d46a-23a8-4999-87fb-4bb74840d2f0",
      "metadata": {
        "id": "d507d46a-23a8-4999-87fb-4bb74840d2f0"
      },
      "outputs": [],
      "source": [
        "# Coordinates of viewport location\n",
        "viewport_widget = widgets.Text(value = 'viewport',\n",
        "                               placeholder = 'viewport',\n",
        "                               description = 'Viewport',\n",
        "                               disabled = False,\n",
        "                               layout = {'width' : 'max-content'}\n",
        "                              )"
      ]
    },
    {
      "cell_type": "code",
      "execution_count": 40,
      "id": "42b3c6b6-5a97-48fc-90a3-511402efbe4a",
      "metadata": {
        "id": "42b3c6b6-5a97-48fc-90a3-511402efbe4a"
      },
      "outputs": [],
      "source": [
        "# Coordinates of the user\n",
        "user_widget = widgets.Text(value = 'user',\n",
        "                           placeholder = 'user',\n",
        "                           description = 'User',\n",
        "                           disabled = False,\n",
        "                           layout = {'width' : 'max-content'}\n",
        "                          )"
      ]
    },
    {
      "cell_type": "code",
      "execution_count": 41,
      "id": "8804cc60-2704-43ab-9e83-32bf11a86709",
      "metadata": {
        "id": "8804cc60-2704-43ab-9e83-32bf11a86709"
      },
      "outputs": [],
      "source": [
        "# Coordinates of the primary result\n",
        "result1_widget = widgets.Text(value = 'destination',\n",
        "                              placeholder = 'destination',\n",
        "                              description = 'Result 1',\n",
        "                              disabled = False,\n",
        "                              layout = {'width' : 'max-content'}\n",
        "                             )"
      ]
    },
    {
      "cell_type": "code",
      "execution_count": 42,
      "id": "9615fe10-f3be-4c81-ba17-779fc7341e8d",
      "metadata": {
        "id": "9615fe10-f3be-4c81-ba17-779fc7341e8d"
      },
      "outputs": [],
      "source": [
        "# Coordinates of the result 2\n",
        "result2_widget = widgets.Text(value = 'destination',\n",
        "                              placeholder = 'destination',\n",
        "                              description = 'Result 2',\n",
        "                              disabled = False,\n",
        "                              layout = {'width' : 'max-content'}\n",
        "                             )"
      ]
    },
    {
      "cell_type": "code",
      "execution_count": 43,
      "id": "a57e0260-43df-4a99-9053-efbda4a5da2a",
      "metadata": {
        "id": "a57e0260-43df-4a99-9053-efbda4a5da2a"
      },
      "outputs": [],
      "source": [
        "# Coordinates of the result 3\n",
        "result3_widget = widgets.Text(value = 'destination',\n",
        "                              placeholder = 'destination',\n",
        "                              description = 'Result 3',\n",
        "                              disabled = False,\n",
        "                              layout = {'width' : 'max-content'}\n",
        "                             )"
      ]
    },
    {
      "cell_type": "code",
      "execution_count": 44,
      "id": "fd5a3964-a57b-4702-ba83-779729bda2d2",
      "metadata": {
        "id": "fd5a3964-a57b-4702-ba83-779729bda2d2"
      },
      "outputs": [],
      "source": [
        "# Coordinates of the result 4\n",
        "result4_widget = widgets.Text(value = 'destination',\n",
        "                              placeholder = 'destination',\n",
        "                              description = 'Result 4',\n",
        "                              disabled = False,\n",
        "                              layout = {'width' : 'max-content'}\n",
        "                             )"
      ]
    },
    {
      "cell_type": "code",
      "execution_count": 45,
      "id": "bb7bdbde-8974-4132-a539-5542fa14c723",
      "metadata": {
        "id": "bb7bdbde-8974-4132-a539-5542fa14c723"
      },
      "outputs": [],
      "source": [
        "# Coordinates of the result 5\n",
        "result5_widget = widgets.Text(value = 'destination',\n",
        "                              placeholder = 'destination',\n",
        "                              description = 'Result 5',\n",
        "                              disabled = False,\n",
        "                              layout = {'width' : 'max-content'}\n",
        "                             )"
      ]
    },
    {
      "cell_type": "code",
      "execution_count": 46,
      "id": "f97e32fe-0351-445c-aae3-91ed8cc48c0f",
      "metadata": {
        "id": "f97e32fe-0351-445c-aae3-91ed8cc48c0f"
      },
      "outputs": [],
      "source": [
        "# Coordinates of the result 6\n",
        "result6_widget = widgets.Text(value = 'destination',\n",
        "                              placeholder = 'destination',\n",
        "                              description = 'Result 6',\n",
        "                              disabled = False,\n",
        "                              layout = {'width' : 'max-content'}\n",
        "                             )"
      ]
    },
    {
      "cell_type": "markdown",
      "id": "fe5531f9-711c-49fd-a507-f21da6bdb063",
      "metadata": {
        "id": "fe5531f9-711c-49fd-a507-f21da6bdb063"
      },
      "source": [
        "## Inter-Active Function\n",
        "\n",
        "The major difference between the function below and the previous function is that we need to address the initial case, where the map needs to load up without any user inputs. Therefore; if there are no mapping cooridantes any map details, the map will not display that point. "
      ]
    },
    {
      "cell_type": "code",
      "execution_count": 47,
      "id": "e0dd2d67-b642-446a-9997-678e252cf7d3",
      "metadata": {
        "colab": {
          "base_uri": "https://localhost:8080/",
          "height": 1000,
          "referenced_widgets": [
            "e021719e7f53482eaf2cb14089b9da3a",
            "1f44a05e1f69405a93639eea8c0b71df",
            "8ec711a0ed0440b998a632448c60f8fc",
            "30fd3997b28845359a20480a05b0f802",
            "a9b0107610db421c946f68145b9034c3",
            "80c6487593444ff3bfc6d7ee1901a099",
            "8268aa23686d41f08394456cff32138d",
            "2a5215c7646b43d1a400e41578405651",
            "2bd5ac0dd4474e8e9a9c5f637f42b29c",
            "c9e227119b104bf0b3f40bd6ea812370",
            "0771e2ba2cf24eb28eef3ac3b749fdbb",
            "ac568a1cc88e4f85b43ee76ac2d3456e",
            "1baea75421f74466b1e892e6fe593e76",
            "121e6b2303b84ce0ac4cb7ac335fbe98",
            "2382866fbb2b4dc99659cac870a27bd3",
            "2a003f046f03437db9842b1d6525f591",
            "020e7faca05a48e69e0cdeaad82b1b1b",
            "8197c9ef5dad4dc58c5b80106fcd7441",
            "f0c9b14b176e4f0c9e115a59ea7986b5",
            "f8541cebb01e4fc6b176e6191d81445b",
            "24aea1f583d14747bd460b65fe00bee5",
            "19d10389d570436498da71d078afc596",
            "a642a68a806d4110b903ccff4735b975",
            "66df680054de4ebab6b290053543e9f7",
            "c2155d7591fa42a6b0ade70a72eb4ac8",
            "18d7d20c84574d34bc917ba840f238dd",
            "36b8b0186fa8461b8cc5b3070a2cecf4",
            "cb8f52710120480eaaefe52ca0715953",
            "afc757a01a5f4f9dbae4a82e896c2752",
            "66f0492ba7f545b9a2780067d53cbd86",
            "413cf50ac9d645e0884e13f2068348d8",
            "f8978ab401a246d8b8a2673a673608ad",
            "4fd7ca5170ce4992bd6e69a489da85bb",
            "5a4fe2378ee3453a8053c6b686c5e59a",
            "46400f7b0f8940cab889be42bff0f7bb",
            "f567a54af8794adbafbd48c6bb48df2c",
            "585cc5e96dec4d69829c462f862b401a"
          ]
        },
        "id": "e0dd2d67-b642-446a-9997-678e252cf7d3",
        "outputId": "263342a8-b7d5-43bd-e0bc-59aa8bfdc1f2"
      },
      "outputs": [
        {
          "output_type": "display_data",
          "data": {
            "text/plain": [
              "interactive(children=(Text(value='location', description='Location', layout=Layout(width='max-content'), place…"
            ],
            "application/vnd.jupyter.widget-view+json": {
              "version_major": 2,
              "version_minor": 0,
              "model_id": "e021719e7f53482eaf2cb14089b9da3a"
            }
          },
          "metadata": {}
        }
      ],
      "source": [
        "# Decorator function that maps interactive controls to function parameters\n",
        "@widgets.interact(map_center_location_string = location_widget,  \n",
        "                  last_known_phone_ping_string = viewport_widget, \n",
        "                  diag1_string = diag1_widget, \n",
        "                  diag2_string = diag2_widget,\n",
        "                  actual_user_location_string = user_widget, \n",
        "                  search_result_1_string = result1_widget,\n",
        "                  search_result_2_string = result2_widget,\n",
        "                  search_result_3_string = result3_widget,\n",
        "                  search_result_4_string = result4_widget,\n",
        "                  search_result_5_string = result5_widget,\n",
        "                  search_result_6_string = result6_widget,\n",
        "                 )\n",
        "def generate_a_map(map_center_location_string, \n",
        "                   last_known_phone_ping_string, \n",
        "                   diag1_string,\n",
        "                   diag2_string,\n",
        "                   actual_user_location_string, \n",
        "                   search_result_1_string, \n",
        "                   search_result_2_string, \n",
        "                   search_result_3_string, \n",
        "                   search_result_4_string,\n",
        "                   search_result_5_string,\n",
        "                   search_result_6_string, \n",
        "                  ):\n",
        "    # Display the map based on either user or default coordinates\n",
        "    if map_center_location_string == 'location':\n",
        "        # Create a map object centered around a specified map coordinate\n",
        "        Map = folium.Map(location = default_location,\n",
        "                         zoom_start = 15, # Higher numbers zoom out, smaller numbers zoom in\n",
        "                         tiles =  'OpenStreetMap', #'OpenStreetMap', 'Stamen Terrain'\n",
        "                         )\n",
        "    else:\n",
        "        # Convert string to float\n",
        "        map_center_location = list(map(float, map_center_location_string.split(',')))\n",
        "        # Create a map object centered around a specified map coordinate\n",
        "        Map = folium.Map(location = map_center_location,\n",
        "                         zoom_start = 15, # Higher numbers zoom out, smaller numbers zoom in\n",
        "                         tiles =  'OpenStreetMap', #'OpenStreetMap', 'Stamen Terrain'\n",
        "                         )\n",
        "    \n",
        "    # add tiles to the Map\n",
        "    # Allows you to select from different map types, based on the standard maps available in folium\n",
        "    folium.raster_layers.TileLayer('Open Street Map').add_to(Map)\n",
        "    folium.raster_layers.TileLayer('Stamen Terrain').add_to(Map)\n",
        "    folium.raster_layers.TileLayer('Stamen Toner').add_to(Map)\n",
        "    folium.raster_layers.TileLayer('Stamen Watercolor').add_to(Map)\n",
        "    folium.raster_layers.TileLayer('CartoDB Positron').add_to(Map)\n",
        "    folium.raster_layers.TileLayer('CartoDB Dark_Matter').add_to(Map)    \n",
        "    \n",
        "    # add layer control to show different maps\n",
        "    folium.LayerControl().add_to(Map)\n",
        "    \n",
        "    # Pin for phone icon\n",
        "    if last_known_phone_ping_string == 'viewport':\n",
        "        pass\n",
        "    else:\n",
        "        last_known_phone_ping = list(map(float, last_known_phone_ping_string.split(',')))\n",
        "        # Viewport Coordinates\n",
        "        folium.Marker(location = last_known_phone_ping,\n",
        "                      popup = f'{last_known_phone_ping }',\n",
        "                      icon = folium.Icon(color = 'black',\n",
        "                                         #prefix = 'fa',\n",
        "                                         icon = 'glyphicon glyphicon-phone',     #\"mobile\"\n",
        "                                        ),\n",
        "                      tooltip = 'Phone Location',\n",
        "                     ).add_to(Map);\n",
        "    \n",
        "    # Pin for user icon\n",
        "    if actual_user_location_string == 'user':\n",
        "        pass\n",
        "    else:\n",
        "        actual_user_location = list(map(float, actual_user_location_string.split(',')))\n",
        "        # User Coordinates\n",
        "        folium.Marker(location = actual_user_location,\n",
        "                      popup = f'{actual_user_location}',\n",
        "                      icon = folium.Icon(color = 'orange',\n",
        "                                         prefix = 'fa',\n",
        "                                         icon = \"user\"\n",
        "                                        ),\n",
        "                      tooltip = 'User Coordinates',\n",
        "                     ).add_to(Map);\n",
        "        \n",
        "    # Pin for search result 1\n",
        "    if search_result_1_string == 'destination':\n",
        "        pass\n",
        "    else:\n",
        "        search_result_1 = list(map(float, search_result_1_string.split(',')))\n",
        "        # Search Result 1\n",
        "        folium.Marker(location = search_result_1,\n",
        "                      popup = f'{search_result_1}',\n",
        "                      icon = folium.Icon(color = 'red',\n",
        "                                         icon = 'glyphicon glyphicon-star-empty',\n",
        "                                        ),\n",
        "                      tooltip = 'Search Result 1',\n",
        "                     ).add_to(Map);\n",
        "    \n",
        "    # Pin for search result 2\n",
        "    if search_result_2_string == 'destination':\n",
        "        pass\n",
        "    else:\n",
        "        search_result_2 = list(map(float, search_result_2_string.split(',')))\n",
        "        # Search Result 2\n",
        "        folium.Marker(location = search_result_2,\n",
        "                      popup = f'{search_result_2}',\n",
        "                      icon = folium.Icon(color = 'purple'),\n",
        "                      tooltip = 'Search Result 2',\n",
        "                     ).add_to(Map);\n",
        "    \n",
        "    # Pin for search result 3\n",
        "    if search_result_3_string == 'destination':\n",
        "        pass\n",
        "    else:\n",
        "        search_result_3 = list(map(float, search_result_3_string.split(',')))\n",
        "        # Search Result 3\n",
        "        folium.Marker(location = search_result_3,\n",
        "                      popup = f'{search_result_3}',\n",
        "                      icon = folium.Icon(color = 'green'),\n",
        "                      tooltip = 'Search Result 3',\n",
        "                     ).add_to(Map);\n",
        "    \n",
        "    # Pin for search result 4\n",
        "    if search_result_4_string == 'destination':\n",
        "        pass\n",
        "    else:\n",
        "        search_result_4 = list(map(float, search_result_4_string.split(',')))\n",
        "        # Search Result 4\n",
        "        folium.Marker(location = search_result_4,\n",
        "                          popup = f'{search_result_4}',\n",
        "                          icon = folium.Icon(color = 'blue'),\n",
        "                          tooltip = 'Result 4',\n",
        "                         ).add_to(Map);\n",
        "    \n",
        "    # Pin for search result 5\n",
        "    if search_result_5_string == 'destination':\n",
        "        pass\n",
        "    else:\n",
        "        search_result_5 = list(map(float, search_result_5_string.split(',')))\n",
        "        # Search Result 5\n",
        "        folium.Marker(location = search_result_5,\n",
        "                          popup = f'{search_result_5}',\n",
        "                          icon = folium.Icon(color = 'blue'),\n",
        "                          tooltip = 'Result 5',\n",
        "                         ).add_to(Map);\n",
        "    \n",
        "    # Pin for search result 6\n",
        "    if search_result_6_string == 'destination':\n",
        "        pass\n",
        "    else:\n",
        "        search_result_6 = list(map(float, search_result_6_string.split(',')))\n",
        "        # Search Result 6\n",
        "        folium.Marker(location = search_result_6,\n",
        "                          popup = f'{search_result_6}',\n",
        "                          icon = folium.Icon(color = 'blue'),\n",
        "                          tooltip = 'Result 6',\n",
        "                         ).add_to(Map);\n",
        "    \n",
        "    if diag1_string == 'diagonal 1':\n",
        "        pass\n",
        "    else:\n",
        "        diag1 = list(map(float, diag1_string.split(','))) \n",
        "        \n",
        "    if diag2_string == 'diagonal 2':\n",
        "        pass\n",
        "    else:\n",
        "        diag2 = list(map(float, diag2_string.split(','))) \n",
        "    \n",
        "    if diag1_string != 'diagonal 1' and diag2_string != 'diagonal 2':\n",
        "        \n",
        "        viewport_box_coordinates = [diag1, diag2]\n",
        "\n",
        "        # Create a rectangular object using the coordinates of\n",
        "        # the diagonal\n",
        "        folium.Rectangle(viewport_location,\n",
        "                         color = \"purple\",\n",
        "                         weight = 2,\n",
        "                         fill = True,\n",
        "                         fill_color = 'purple',\n",
        "                         fill_opacity = 0.3,\n",
        "                         ).add_to(Map);\n",
        "\n",
        "           # Add pop-ups of Lat / Long\n",
        "    return Map.add_child(folium.LatLngPopup())"
      ]
    },
    {
      "cell_type": "code",
      "source": [],
      "metadata": {
        "id": "s58sEHHkQ4NO"
      },
      "id": "s58sEHHkQ4NO",
      "execution_count": null,
      "outputs": []
    }
  ],
  "metadata": {
    "kernelspec": {
      "display_name": "Python 3 (ipykernel)",
      "language": "python",
      "name": "python3"
    },
    "language_info": {
      "codemirror_mode": {
        "name": "ipython",
        "version": 3
      },
      "file_extension": ".py",
      "mimetype": "text/x-python",
      "name": "python",
      "nbconvert_exporter": "python",
      "pygments_lexer": "ipython3",
      "version": "3.10.4"
    },
    "colab": {
      "provenance": [],
      "collapsed_sections": [
        "cd6bcd7d-caae-4126-95b3-a87d599508cd",
        "eb30af8f-cda0-4b0e-9e90-d6b8ff25ee55",
        "06a3f3e3-6a2a-486a-8fc0-8b96cbca16d8"
      ],
      "include_colab_link": true
    },
    "widgets": {
      "application/vnd.jupyter.widget-state+json": {
        "e021719e7f53482eaf2cb14089b9da3a": {
          "model_module": "@jupyter-widgets/controls",
          "model_name": "VBoxModel",
          "model_module_version": "1.5.0",
          "state": {
            "_dom_classes": [
              "widget-interact"
            ],
            "_model_module": "@jupyter-widgets/controls",
            "_model_module_version": "1.5.0",
            "_model_name": "VBoxModel",
            "_view_count": null,
            "_view_module": "@jupyter-widgets/controls",
            "_view_module_version": "1.5.0",
            "_view_name": "VBoxView",
            "box_style": "",
            "children": [
              "IPY_MODEL_1f44a05e1f69405a93639eea8c0b71df",
              "IPY_MODEL_8ec711a0ed0440b998a632448c60f8fc",
              "IPY_MODEL_30fd3997b28845359a20480a05b0f802",
              "IPY_MODEL_a9b0107610db421c946f68145b9034c3",
              "IPY_MODEL_80c6487593444ff3bfc6d7ee1901a099",
              "IPY_MODEL_8268aa23686d41f08394456cff32138d",
              "IPY_MODEL_2a5215c7646b43d1a400e41578405651",
              "IPY_MODEL_2bd5ac0dd4474e8e9a9c5f637f42b29c",
              "IPY_MODEL_c9e227119b104bf0b3f40bd6ea812370",
              "IPY_MODEL_0771e2ba2cf24eb28eef3ac3b749fdbb",
              "IPY_MODEL_ac568a1cc88e4f85b43ee76ac2d3456e",
              "IPY_MODEL_1baea75421f74466b1e892e6fe593e76"
            ],
            "layout": "IPY_MODEL_121e6b2303b84ce0ac4cb7ac335fbe98"
          }
        },
        "1f44a05e1f69405a93639eea8c0b71df": {
          "model_module": "@jupyter-widgets/controls",
          "model_name": "TextModel",
          "model_module_version": "1.5.0",
          "state": {
            "_dom_classes": [],
            "_model_module": "@jupyter-widgets/controls",
            "_model_module_version": "1.5.0",
            "_model_name": "TextModel",
            "_view_count": null,
            "_view_module": "@jupyter-widgets/controls",
            "_view_module_version": "1.5.0",
            "_view_name": "TextView",
            "continuous_update": true,
            "description": "Location",
            "description_tooltip": null,
            "disabled": false,
            "layout": "IPY_MODEL_2382866fbb2b4dc99659cac870a27bd3",
            "placeholder": "location",
            "style": "IPY_MODEL_2a003f046f03437db9842b1d6525f591",
            "value": "location"
          }
        },
        "8ec711a0ed0440b998a632448c60f8fc": {
          "model_module": "@jupyter-widgets/controls",
          "model_name": "TextModel",
          "model_module_version": "1.5.0",
          "state": {
            "_dom_classes": [],
            "_model_module": "@jupyter-widgets/controls",
            "_model_module_version": "1.5.0",
            "_model_name": "TextModel",
            "_view_count": null,
            "_view_module": "@jupyter-widgets/controls",
            "_view_module_version": "1.5.0",
            "_view_name": "TextView",
            "continuous_update": true,
            "description": "Viewport",
            "description_tooltip": null,
            "disabled": false,
            "layout": "IPY_MODEL_020e7faca05a48e69e0cdeaad82b1b1b",
            "placeholder": "viewport",
            "style": "IPY_MODEL_8197c9ef5dad4dc58c5b80106fcd7441",
            "value": "viewport"
          }
        },
        "30fd3997b28845359a20480a05b0f802": {
          "model_module": "@jupyter-widgets/controls",
          "model_name": "TextModel",
          "model_module_version": "1.5.0",
          "state": {
            "_dom_classes": [],
            "_model_module": "@jupyter-widgets/controls",
            "_model_module_version": "1.5.0",
            "_model_name": "TextModel",
            "_view_count": null,
            "_view_module": "@jupyter-widgets/controls",
            "_view_module_version": "1.5.0",
            "_view_name": "TextView",
            "continuous_update": true,
            "description": "Diagonal 1",
            "description_tooltip": null,
            "disabled": false,
            "layout": "IPY_MODEL_f0c9b14b176e4f0c9e115a59ea7986b5",
            "placeholder": "diagonal 1",
            "style": "IPY_MODEL_f8541cebb01e4fc6b176e6191d81445b",
            "value": "diagonal 1"
          }
        },
        "a9b0107610db421c946f68145b9034c3": {
          "model_module": "@jupyter-widgets/controls",
          "model_name": "TextModel",
          "model_module_version": "1.5.0",
          "state": {
            "_dom_classes": [],
            "_model_module": "@jupyter-widgets/controls",
            "_model_module_version": "1.5.0",
            "_model_name": "TextModel",
            "_view_count": null,
            "_view_module": "@jupyter-widgets/controls",
            "_view_module_version": "1.5.0",
            "_view_name": "TextView",
            "continuous_update": true,
            "description": "Diagonal 2",
            "description_tooltip": null,
            "disabled": false,
            "layout": "IPY_MODEL_24aea1f583d14747bd460b65fe00bee5",
            "placeholder": "diagonal 2",
            "style": "IPY_MODEL_19d10389d570436498da71d078afc596",
            "value": "diagonal 2"
          }
        },
        "80c6487593444ff3bfc6d7ee1901a099": {
          "model_module": "@jupyter-widgets/controls",
          "model_name": "TextModel",
          "model_module_version": "1.5.0",
          "state": {
            "_dom_classes": [],
            "_model_module": "@jupyter-widgets/controls",
            "_model_module_version": "1.5.0",
            "_model_name": "TextModel",
            "_view_count": null,
            "_view_module": "@jupyter-widgets/controls",
            "_view_module_version": "1.5.0",
            "_view_name": "TextView",
            "continuous_update": true,
            "description": "User",
            "description_tooltip": null,
            "disabled": false,
            "layout": "IPY_MODEL_a642a68a806d4110b903ccff4735b975",
            "placeholder": "user",
            "style": "IPY_MODEL_66df680054de4ebab6b290053543e9f7",
            "value": "user"
          }
        },
        "8268aa23686d41f08394456cff32138d": {
          "model_module": "@jupyter-widgets/controls",
          "model_name": "TextModel",
          "model_module_version": "1.5.0",
          "state": {
            "_dom_classes": [],
            "_model_module": "@jupyter-widgets/controls",
            "_model_module_version": "1.5.0",
            "_model_name": "TextModel",
            "_view_count": null,
            "_view_module": "@jupyter-widgets/controls",
            "_view_module_version": "1.5.0",
            "_view_name": "TextView",
            "continuous_update": true,
            "description": "Result 1",
            "description_tooltip": null,
            "disabled": false,
            "layout": "IPY_MODEL_c2155d7591fa42a6b0ade70a72eb4ac8",
            "placeholder": "destination",
            "style": "IPY_MODEL_18d7d20c84574d34bc917ba840f238dd",
            "value": "destination"
          }
        },
        "2a5215c7646b43d1a400e41578405651": {
          "model_module": "@jupyter-widgets/controls",
          "model_name": "TextModel",
          "model_module_version": "1.5.0",
          "state": {
            "_dom_classes": [],
            "_model_module": "@jupyter-widgets/controls",
            "_model_module_version": "1.5.0",
            "_model_name": "TextModel",
            "_view_count": null,
            "_view_module": "@jupyter-widgets/controls",
            "_view_module_version": "1.5.0",
            "_view_name": "TextView",
            "continuous_update": true,
            "description": "Result 2",
            "description_tooltip": null,
            "disabled": false,
            "layout": "IPY_MODEL_36b8b0186fa8461b8cc5b3070a2cecf4",
            "placeholder": "destination",
            "style": "IPY_MODEL_cb8f52710120480eaaefe52ca0715953",
            "value": "destination"
          }
        },
        "2bd5ac0dd4474e8e9a9c5f637f42b29c": {
          "model_module": "@jupyter-widgets/controls",
          "model_name": "TextModel",
          "model_module_version": "1.5.0",
          "state": {
            "_dom_classes": [],
            "_model_module": "@jupyter-widgets/controls",
            "_model_module_version": "1.5.0",
            "_model_name": "TextModel",
            "_view_count": null,
            "_view_module": "@jupyter-widgets/controls",
            "_view_module_version": "1.5.0",
            "_view_name": "TextView",
            "continuous_update": true,
            "description": "Result 3",
            "description_tooltip": null,
            "disabled": false,
            "layout": "IPY_MODEL_afc757a01a5f4f9dbae4a82e896c2752",
            "placeholder": "destination",
            "style": "IPY_MODEL_66f0492ba7f545b9a2780067d53cbd86",
            "value": "destination"
          }
        },
        "c9e227119b104bf0b3f40bd6ea812370": {
          "model_module": "@jupyter-widgets/controls",
          "model_name": "TextModel",
          "model_module_version": "1.5.0",
          "state": {
            "_dom_classes": [],
            "_model_module": "@jupyter-widgets/controls",
            "_model_module_version": "1.5.0",
            "_model_name": "TextModel",
            "_view_count": null,
            "_view_module": "@jupyter-widgets/controls",
            "_view_module_version": "1.5.0",
            "_view_name": "TextView",
            "continuous_update": true,
            "description": "Result 4",
            "description_tooltip": null,
            "disabled": false,
            "layout": "IPY_MODEL_413cf50ac9d645e0884e13f2068348d8",
            "placeholder": "destination",
            "style": "IPY_MODEL_f8978ab401a246d8b8a2673a673608ad",
            "value": "destination"
          }
        },
        "0771e2ba2cf24eb28eef3ac3b749fdbb": {
          "model_module": "@jupyter-widgets/controls",
          "model_name": "TextModel",
          "model_module_version": "1.5.0",
          "state": {
            "_dom_classes": [],
            "_model_module": "@jupyter-widgets/controls",
            "_model_module_version": "1.5.0",
            "_model_name": "TextModel",
            "_view_count": null,
            "_view_module": "@jupyter-widgets/controls",
            "_view_module_version": "1.5.0",
            "_view_name": "TextView",
            "continuous_update": true,
            "description": "Result 5",
            "description_tooltip": null,
            "disabled": false,
            "layout": "IPY_MODEL_4fd7ca5170ce4992bd6e69a489da85bb",
            "placeholder": "destination",
            "style": "IPY_MODEL_5a4fe2378ee3453a8053c6b686c5e59a",
            "value": "destination"
          }
        },
        "ac568a1cc88e4f85b43ee76ac2d3456e": {
          "model_module": "@jupyter-widgets/controls",
          "model_name": "TextModel",
          "model_module_version": "1.5.0",
          "state": {
            "_dom_classes": [],
            "_model_module": "@jupyter-widgets/controls",
            "_model_module_version": "1.5.0",
            "_model_name": "TextModel",
            "_view_count": null,
            "_view_module": "@jupyter-widgets/controls",
            "_view_module_version": "1.5.0",
            "_view_name": "TextView",
            "continuous_update": true,
            "description": "Result 6",
            "description_tooltip": null,
            "disabled": false,
            "layout": "IPY_MODEL_46400f7b0f8940cab889be42bff0f7bb",
            "placeholder": "destination",
            "style": "IPY_MODEL_f567a54af8794adbafbd48c6bb48df2c",
            "value": "destination"
          }
        },
        "1baea75421f74466b1e892e6fe593e76": {
          "model_module": "@jupyter-widgets/output",
          "model_name": "OutputModel",
          "model_module_version": "1.0.0",
          "state": {
            "_dom_classes": [],
            "_model_module": "@jupyter-widgets/output",
            "_model_module_version": "1.0.0",
            "_model_name": "OutputModel",
            "_view_count": null,
            "_view_module": "@jupyter-widgets/output",
            "_view_module_version": "1.0.0",
            "_view_name": "OutputView",
            "layout": "IPY_MODEL_585cc5e96dec4d69829c462f862b401a",
            "msg_id": "",
            "outputs": [
              {
                "output_type": "display_data",
                "data": {
                  "text/plain": "<folium.folium.Map at 0x7f5171109d90>",
                  "text/html": "<div style=\"width:100%;\"><div style=\"position:relative;width:100%;height:0;padding-bottom:60%;\"><span style=\"color:#565656\">Make this Notebook Trusted to load map: File -> Trust Notebook</span><iframe srcdoc=\"&lt;!DOCTYPE html&gt;\n&lt;head&gt;    \n    &lt;meta http-equiv=&quot;content-type&quot; content=&quot;text/html; charset=UTF-8&quot; /&gt;\n    \n        &lt;script&gt;\n            L_NO_TOUCH = false;\n            L_DISABLE_3D = false;\n        &lt;/script&gt;\n    \n    &lt;style&gt;html, body {width: 100%;height: 100%;margin: 0;padding: 0;}&lt;/style&gt;\n    &lt;style&gt;#map {position:absolute;top:0;bottom:0;right:0;left:0;}&lt;/style&gt;\n    &lt;script src=&quot;https://cdn.jsdelivr.net/npm/leaflet@1.6.0/dist/leaflet.js&quot;&gt;&lt;/script&gt;\n    &lt;script src=&quot;https://code.jquery.com/jquery-1.12.4.min.js&quot;&gt;&lt;/script&gt;\n    &lt;script src=&quot;https://maxcdn.bootstrapcdn.com/bootstrap/3.2.0/js/bootstrap.min.js&quot;&gt;&lt;/script&gt;\n    &lt;script src=&quot;https://cdnjs.cloudflare.com/ajax/libs/Leaflet.awesome-markers/2.0.2/leaflet.awesome-markers.js&quot;&gt;&lt;/script&gt;\n    &lt;link rel=&quot;stylesheet&quot; href=&quot;https://cdn.jsdelivr.net/npm/leaflet@1.6.0/dist/leaflet.css&quot;/&gt;\n    &lt;link rel=&quot;stylesheet&quot; href=&quot;https://maxcdn.bootstrapcdn.com/bootstrap/3.2.0/css/bootstrap.min.css&quot;/&gt;\n    &lt;link rel=&quot;stylesheet&quot; href=&quot;https://maxcdn.bootstrapcdn.com/bootstrap/3.2.0/css/bootstrap-theme.min.css&quot;/&gt;\n    &lt;link rel=&quot;stylesheet&quot; href=&quot;https://maxcdn.bootstrapcdn.com/font-awesome/4.6.3/css/font-awesome.min.css&quot;/&gt;\n    &lt;link rel=&quot;stylesheet&quot; href=&quot;https://cdnjs.cloudflare.com/ajax/libs/Leaflet.awesome-markers/2.0.2/leaflet.awesome-markers.css&quot;/&gt;\n    &lt;link rel=&quot;stylesheet&quot; href=&quot;https://cdn.jsdelivr.net/gh/python-visualization/folium/folium/templates/leaflet.awesome.rotate.min.css&quot;/&gt;\n    \n            &lt;meta name=&quot;viewport&quot; content=&quot;width=device-width,\n                initial-scale=1.0, maximum-scale=1.0, user-scalable=no&quot; /&gt;\n            &lt;style&gt;\n                #map_cb8da1df4488ac9041ffdf2795533f2a {\n                    position: relative;\n                    width: 100.0%;\n                    height: 100.0%;\n                    left: 0.0%;\n                    top: 0.0%;\n                }\n            &lt;/style&gt;\n        \n&lt;/head&gt;\n&lt;body&gt;    \n    \n            &lt;div class=&quot;folium-map&quot; id=&quot;map_cb8da1df4488ac9041ffdf2795533f2a&quot; &gt;&lt;/div&gt;\n        \n&lt;/body&gt;\n&lt;script&gt;    \n    \n            var map_cb8da1df4488ac9041ffdf2795533f2a = L.map(\n                &quot;map_cb8da1df4488ac9041ffdf2795533f2a&quot;,\n                {\n                    center: [51.048709210791046, -114.07181937131769],\n                    crs: L.CRS.EPSG3857,\n                    zoom: 15,\n                    zoomControl: true,\n                    preferCanvas: false,\n                }\n            );\n\n            \n\n        \n    \n            var tile_layer_a8518b3e1d307ac5c503381568adafc0 = L.tileLayer(\n                &quot;https://{s}.tile.openstreetmap.org/{z}/{x}/{y}.png&quot;,\n                {&quot;attribution&quot;: &quot;Data by \\u0026copy; \\u003ca href=\\&quot;http://openstreetmap.org\\&quot;\\u003eOpenStreetMap\\u003c/a\\u003e, under \\u003ca href=\\&quot;http://www.openstreetmap.org/copyright\\&quot;\\u003eODbL\\u003c/a\\u003e.&quot;, &quot;detectRetina&quot;: false, &quot;maxNativeZoom&quot;: 18, &quot;maxZoom&quot;: 18, &quot;minZoom&quot;: 0, &quot;noWrap&quot;: false, &quot;opacity&quot;: 1, &quot;subdomains&quot;: &quot;abc&quot;, &quot;tms&quot;: false}\n            ).addTo(map_cb8da1df4488ac9041ffdf2795533f2a);\n        \n    \n            var tile_layer_a6017fa8c44b6a648f13e22471bf344e = L.tileLayer(\n                &quot;https://{s}.tile.openstreetmap.org/{z}/{x}/{y}.png&quot;,\n                {&quot;attribution&quot;: &quot;Data by \\u0026copy; \\u003ca href=\\&quot;http://openstreetmap.org\\&quot;\\u003eOpenStreetMap\\u003c/a\\u003e, under \\u003ca href=\\&quot;http://www.openstreetmap.org/copyright\\&quot;\\u003eODbL\\u003c/a\\u003e.&quot;, &quot;detectRetina&quot;: false, &quot;maxNativeZoom&quot;: 18, &quot;maxZoom&quot;: 18, &quot;minZoom&quot;: 0, &quot;noWrap&quot;: false, &quot;opacity&quot;: 1, &quot;subdomains&quot;: &quot;abc&quot;, &quot;tms&quot;: false}\n            ).addTo(map_cb8da1df4488ac9041ffdf2795533f2a);\n        \n    \n            var tile_layer_bb20005eb7fc89c74a52e91d8c0a92a1 = L.tileLayer(\n                &quot;https://stamen-tiles-{s}.a.ssl.fastly.net/terrain/{z}/{x}/{y}.jpg&quot;,\n                {&quot;attribution&quot;: &quot;Map tiles by \\u003ca href=\\&quot;http://stamen.com\\&quot;\\u003eStamen Design\\u003c/a\\u003e, under \\u003ca href=\\&quot;http://creativecommons.org/licenses/by/3.0\\&quot;\\u003eCC BY 3.0\\u003c/a\\u003e. Data by \\u0026copy; \\u003ca href=\\&quot;http://openstreetmap.org\\&quot;\\u003eOpenStreetMap\\u003c/a\\u003e, under \\u003ca href=\\&quot;http://creativecommons.org/licenses/by-sa/3.0\\&quot;\\u003eCC BY SA\\u003c/a\\u003e.&quot;, &quot;detectRetina&quot;: false, &quot;maxNativeZoom&quot;: 18, &quot;maxZoom&quot;: 18, &quot;minZoom&quot;: 0, &quot;noWrap&quot;: false, &quot;opacity&quot;: 1, &quot;subdomains&quot;: &quot;abc&quot;, &quot;tms&quot;: false}\n            ).addTo(map_cb8da1df4488ac9041ffdf2795533f2a);\n        \n    \n            var tile_layer_0b01f28e1246ef6ab344599e5bc1a04b = L.tileLayer(\n                &quot;https://stamen-tiles-{s}.a.ssl.fastly.net/toner/{z}/{x}/{y}.png&quot;,\n                {&quot;attribution&quot;: &quot;Map tiles by \\u003ca href=\\&quot;http://stamen.com\\&quot;\\u003eStamen Design\\u003c/a\\u003e, under \\u003ca href=\\&quot;http://creativecommons.org/licenses/by/3.0\\&quot;\\u003eCC BY 3.0\\u003c/a\\u003e. Data by \\u0026copy; \\u003ca href=\\&quot;http://openstreetmap.org\\&quot;\\u003eOpenStreetMap\\u003c/a\\u003e, under \\u003ca href=\\&quot;http://www.openstreetmap.org/copyright\\&quot;\\u003eODbL\\u003c/a\\u003e.&quot;, &quot;detectRetina&quot;: false, &quot;maxNativeZoom&quot;: 18, &quot;maxZoom&quot;: 18, &quot;minZoom&quot;: 0, &quot;noWrap&quot;: false, &quot;opacity&quot;: 1, &quot;subdomains&quot;: &quot;abc&quot;, &quot;tms&quot;: false}\n            ).addTo(map_cb8da1df4488ac9041ffdf2795533f2a);\n        \n    \n            var tile_layer_e7ad075f7fc80c43f4c6656f19b81c0f = L.tileLayer(\n                &quot;https://stamen-tiles-{s}.a.ssl.fastly.net/watercolor/{z}/{x}/{y}.jpg&quot;,\n                {&quot;attribution&quot;: &quot;Map tiles by \\u003ca href=\\&quot;http://stamen.com\\&quot;\\u003eStamen Design\\u003c/a\\u003e, under \\u003ca href=\\&quot;http://creativecommons.org/licenses/by/3.0\\&quot;\\u003eCC BY 3.0\\u003c/a\\u003e. Data by \\u0026copy; \\u003ca href=\\&quot;http://openstreetmap.org\\&quot;\\u003eOpenStreetMap\\u003c/a\\u003e, under \\u003ca href=\\&quot;http://creativecommons.org/licenses/by-sa/3.0\\&quot;\\u003eCC BY SA\\u003c/a\\u003e.&quot;, &quot;detectRetina&quot;: false, &quot;maxNativeZoom&quot;: 18, &quot;maxZoom&quot;: 18, &quot;minZoom&quot;: 0, &quot;noWrap&quot;: false, &quot;opacity&quot;: 1, &quot;subdomains&quot;: &quot;abc&quot;, &quot;tms&quot;: false}\n            ).addTo(map_cb8da1df4488ac9041ffdf2795533f2a);\n        \n    \n            var tile_layer_37c6c66feb121c30e63f0fbc10a5a761 = L.tileLayer(\n                &quot;https://cartodb-basemaps-{s}.global.ssl.fastly.net/light_all/{z}/{x}/{y}.png&quot;,\n                {&quot;attribution&quot;: &quot;\\u0026copy; \\u003ca href=\\&quot;http://www.openstreetmap.org/copyright\\&quot;\\u003eOpenStreetMap\\u003c/a\\u003e contributors \\u0026copy; \\u003ca href=\\&quot;http://cartodb.com/attributions\\&quot;\\u003eCartoDB\\u003c/a\\u003e, CartoDB \\u003ca href =\\&quot;http://cartodb.com/attributions\\&quot;\\u003eattributions\\u003c/a\\u003e&quot;, &quot;detectRetina&quot;: false, &quot;maxNativeZoom&quot;: 18, &quot;maxZoom&quot;: 18, &quot;minZoom&quot;: 0, &quot;noWrap&quot;: false, &quot;opacity&quot;: 1, &quot;subdomains&quot;: &quot;abc&quot;, &quot;tms&quot;: false}\n            ).addTo(map_cb8da1df4488ac9041ffdf2795533f2a);\n        \n    \n            var tile_layer_bcf67fb0406cf775135906d91ed2e926 = L.tileLayer(\n                &quot;https://cartodb-basemaps-{s}.global.ssl.fastly.net/dark_all/{z}/{x}/{y}.png&quot;,\n                {&quot;attribution&quot;: &quot;\\u0026copy; \\u003ca href=\\&quot;http://www.openstreetmap.org/copyright\\&quot;\\u003eOpenStreetMap\\u003c/a\\u003e contributors \\u0026copy; \\u003ca href=\\&quot;http://cartodb.com/attributions\\&quot;\\u003eCartoDB\\u003c/a\\u003e, CartoDB \\u003ca href =\\&quot;http://cartodb.com/attributions\\&quot;\\u003eattributions\\u003c/a\\u003e&quot;, &quot;detectRetina&quot;: false, &quot;maxNativeZoom&quot;: 18, &quot;maxZoom&quot;: 18, &quot;minZoom&quot;: 0, &quot;noWrap&quot;: false, &quot;opacity&quot;: 1, &quot;subdomains&quot;: &quot;abc&quot;, &quot;tms&quot;: false}\n            ).addTo(map_cb8da1df4488ac9041ffdf2795533f2a);\n        \n    \n            var layer_control_26312454edec2ae5e89a9cdeb379d3d0 = {\n                base_layers : {\n                    &quot;openstreetmap&quot; : tile_layer_a6017fa8c44b6a648f13e22471bf344e,\n                    &quot;stamenterrain&quot; : tile_layer_bb20005eb7fc89c74a52e91d8c0a92a1,\n                    &quot;stamentoner&quot; : tile_layer_0b01f28e1246ef6ab344599e5bc1a04b,\n                    &quot;stamenwatercolor&quot; : tile_layer_e7ad075f7fc80c43f4c6656f19b81c0f,\n                    &quot;cartodbpositron&quot; : tile_layer_37c6c66feb121c30e63f0fbc10a5a761,\n                    &quot;cartodbdark_matter&quot; : tile_layer_bcf67fb0406cf775135906d91ed2e926,\n                },\n                overlays :  {\n                },\n            };\n            L.control.layers(\n                layer_control_26312454edec2ae5e89a9cdeb379d3d0.base_layers,\n                layer_control_26312454edec2ae5e89a9cdeb379d3d0.overlays,\n                {&quot;autoZIndex&quot;: true, &quot;collapsed&quot;: true, &quot;position&quot;: &quot;topright&quot;}\n            ).addTo(map_cb8da1df4488ac9041ffdf2795533f2a);\n            tile_layer_bb20005eb7fc89c74a52e91d8c0a92a1.remove();\n            tile_layer_0b01f28e1246ef6ab344599e5bc1a04b.remove();\n            tile_layer_e7ad075f7fc80c43f4c6656f19b81c0f.remove();\n            tile_layer_37c6c66feb121c30e63f0fbc10a5a761.remove();\n            tile_layer_bcf67fb0406cf775135906d91ed2e926.remove();\n        \n    \n                var lat_lng_popup_8046a81dc8dd4a89367567a9ef256b23 = L.popup();\n                function latLngPop(e) {\n                    lat_lng_popup_8046a81dc8dd4a89367567a9ef256b23\n                        .setLatLng(e.latlng)\n                        .setContent(&quot;Latitude: &quot; + e.latlng.lat.toFixed(4) +\n                                    &quot;&lt;br&gt;Longitude: &quot; + e.latlng.lng.toFixed(4))\n                        .openOn(map_cb8da1df4488ac9041ffdf2795533f2a);\n                    }\n                map_cb8da1df4488ac9041ffdf2795533f2a.on(&#x27;click&#x27;, latLngPop);\n            \n&lt;/script&gt;\" style=\"position:absolute;width:100%;height:100%;left:0;top:0;border:none !important;\" allowfullscreen webkitallowfullscreen mozallowfullscreen></iframe></div></div>"
                },
                "metadata": {}
              }
            ]
          }
        },
        "121e6b2303b84ce0ac4cb7ac335fbe98": {
          "model_module": "@jupyter-widgets/base",
          "model_name": "LayoutModel",
          "model_module_version": "1.2.0",
          "state": {
            "_model_module": "@jupyter-widgets/base",
            "_model_module_version": "1.2.0",
            "_model_name": "LayoutModel",
            "_view_count": null,
            "_view_module": "@jupyter-widgets/base",
            "_view_module_version": "1.2.0",
            "_view_name": "LayoutView",
            "align_content": null,
            "align_items": null,
            "align_self": null,
            "border": null,
            "bottom": null,
            "display": null,
            "flex": null,
            "flex_flow": null,
            "grid_area": null,
            "grid_auto_columns": null,
            "grid_auto_flow": null,
            "grid_auto_rows": null,
            "grid_column": null,
            "grid_gap": null,
            "grid_row": null,
            "grid_template_areas": null,
            "grid_template_columns": null,
            "grid_template_rows": null,
            "height": null,
            "justify_content": null,
            "justify_items": null,
            "left": null,
            "margin": null,
            "max_height": null,
            "max_width": null,
            "min_height": null,
            "min_width": null,
            "object_fit": null,
            "object_position": null,
            "order": null,
            "overflow": null,
            "overflow_x": null,
            "overflow_y": null,
            "padding": null,
            "right": null,
            "top": null,
            "visibility": null,
            "width": null
          }
        },
        "2382866fbb2b4dc99659cac870a27bd3": {
          "model_module": "@jupyter-widgets/base",
          "model_name": "LayoutModel",
          "model_module_version": "1.2.0",
          "state": {
            "_model_module": "@jupyter-widgets/base",
            "_model_module_version": "1.2.0",
            "_model_name": "LayoutModel",
            "_view_count": null,
            "_view_module": "@jupyter-widgets/base",
            "_view_module_version": "1.2.0",
            "_view_name": "LayoutView",
            "align_content": null,
            "align_items": null,
            "align_self": null,
            "border": null,
            "bottom": null,
            "display": null,
            "flex": null,
            "flex_flow": null,
            "grid_area": null,
            "grid_auto_columns": null,
            "grid_auto_flow": null,
            "grid_auto_rows": null,
            "grid_column": null,
            "grid_gap": null,
            "grid_row": null,
            "grid_template_areas": null,
            "grid_template_columns": null,
            "grid_template_rows": null,
            "height": null,
            "justify_content": null,
            "justify_items": null,
            "left": null,
            "margin": null,
            "max_height": null,
            "max_width": null,
            "min_height": null,
            "min_width": null,
            "object_fit": null,
            "object_position": null,
            "order": null,
            "overflow": null,
            "overflow_x": null,
            "overflow_y": null,
            "padding": null,
            "right": null,
            "top": null,
            "visibility": null,
            "width": "max-content"
          }
        },
        "2a003f046f03437db9842b1d6525f591": {
          "model_module": "@jupyter-widgets/controls",
          "model_name": "DescriptionStyleModel",
          "model_module_version": "1.5.0",
          "state": {
            "_model_module": "@jupyter-widgets/controls",
            "_model_module_version": "1.5.0",
            "_model_name": "DescriptionStyleModel",
            "_view_count": null,
            "_view_module": "@jupyter-widgets/base",
            "_view_module_version": "1.2.0",
            "_view_name": "StyleView",
            "description_width": ""
          }
        },
        "020e7faca05a48e69e0cdeaad82b1b1b": {
          "model_module": "@jupyter-widgets/base",
          "model_name": "LayoutModel",
          "model_module_version": "1.2.0",
          "state": {
            "_model_module": "@jupyter-widgets/base",
            "_model_module_version": "1.2.0",
            "_model_name": "LayoutModel",
            "_view_count": null,
            "_view_module": "@jupyter-widgets/base",
            "_view_module_version": "1.2.0",
            "_view_name": "LayoutView",
            "align_content": null,
            "align_items": null,
            "align_self": null,
            "border": null,
            "bottom": null,
            "display": null,
            "flex": null,
            "flex_flow": null,
            "grid_area": null,
            "grid_auto_columns": null,
            "grid_auto_flow": null,
            "grid_auto_rows": null,
            "grid_column": null,
            "grid_gap": null,
            "grid_row": null,
            "grid_template_areas": null,
            "grid_template_columns": null,
            "grid_template_rows": null,
            "height": null,
            "justify_content": null,
            "justify_items": null,
            "left": null,
            "margin": null,
            "max_height": null,
            "max_width": null,
            "min_height": null,
            "min_width": null,
            "object_fit": null,
            "object_position": null,
            "order": null,
            "overflow": null,
            "overflow_x": null,
            "overflow_y": null,
            "padding": null,
            "right": null,
            "top": null,
            "visibility": null,
            "width": "max-content"
          }
        },
        "8197c9ef5dad4dc58c5b80106fcd7441": {
          "model_module": "@jupyter-widgets/controls",
          "model_name": "DescriptionStyleModel",
          "model_module_version": "1.5.0",
          "state": {
            "_model_module": "@jupyter-widgets/controls",
            "_model_module_version": "1.5.0",
            "_model_name": "DescriptionStyleModel",
            "_view_count": null,
            "_view_module": "@jupyter-widgets/base",
            "_view_module_version": "1.2.0",
            "_view_name": "StyleView",
            "description_width": ""
          }
        },
        "f0c9b14b176e4f0c9e115a59ea7986b5": {
          "model_module": "@jupyter-widgets/base",
          "model_name": "LayoutModel",
          "model_module_version": "1.2.0",
          "state": {
            "_model_module": "@jupyter-widgets/base",
            "_model_module_version": "1.2.0",
            "_model_name": "LayoutModel",
            "_view_count": null,
            "_view_module": "@jupyter-widgets/base",
            "_view_module_version": "1.2.0",
            "_view_name": "LayoutView",
            "align_content": null,
            "align_items": null,
            "align_self": null,
            "border": null,
            "bottom": null,
            "display": null,
            "flex": null,
            "flex_flow": null,
            "grid_area": null,
            "grid_auto_columns": null,
            "grid_auto_flow": null,
            "grid_auto_rows": null,
            "grid_column": null,
            "grid_gap": null,
            "grid_row": null,
            "grid_template_areas": null,
            "grid_template_columns": null,
            "grid_template_rows": null,
            "height": null,
            "justify_content": null,
            "justify_items": null,
            "left": null,
            "margin": null,
            "max_height": null,
            "max_width": null,
            "min_height": null,
            "min_width": null,
            "object_fit": null,
            "object_position": null,
            "order": null,
            "overflow": null,
            "overflow_x": null,
            "overflow_y": null,
            "padding": null,
            "right": null,
            "top": null,
            "visibility": null,
            "width": "max-content"
          }
        },
        "f8541cebb01e4fc6b176e6191d81445b": {
          "model_module": "@jupyter-widgets/controls",
          "model_name": "DescriptionStyleModel",
          "model_module_version": "1.5.0",
          "state": {
            "_model_module": "@jupyter-widgets/controls",
            "_model_module_version": "1.5.0",
            "_model_name": "DescriptionStyleModel",
            "_view_count": null,
            "_view_module": "@jupyter-widgets/base",
            "_view_module_version": "1.2.0",
            "_view_name": "StyleView",
            "description_width": ""
          }
        },
        "24aea1f583d14747bd460b65fe00bee5": {
          "model_module": "@jupyter-widgets/base",
          "model_name": "LayoutModel",
          "model_module_version": "1.2.0",
          "state": {
            "_model_module": "@jupyter-widgets/base",
            "_model_module_version": "1.2.0",
            "_model_name": "LayoutModel",
            "_view_count": null,
            "_view_module": "@jupyter-widgets/base",
            "_view_module_version": "1.2.0",
            "_view_name": "LayoutView",
            "align_content": null,
            "align_items": null,
            "align_self": null,
            "border": null,
            "bottom": null,
            "display": null,
            "flex": null,
            "flex_flow": null,
            "grid_area": null,
            "grid_auto_columns": null,
            "grid_auto_flow": null,
            "grid_auto_rows": null,
            "grid_column": null,
            "grid_gap": null,
            "grid_row": null,
            "grid_template_areas": null,
            "grid_template_columns": null,
            "grid_template_rows": null,
            "height": null,
            "justify_content": null,
            "justify_items": null,
            "left": null,
            "margin": null,
            "max_height": null,
            "max_width": null,
            "min_height": null,
            "min_width": null,
            "object_fit": null,
            "object_position": null,
            "order": null,
            "overflow": null,
            "overflow_x": null,
            "overflow_y": null,
            "padding": null,
            "right": null,
            "top": null,
            "visibility": null,
            "width": "max-content"
          }
        },
        "19d10389d570436498da71d078afc596": {
          "model_module": "@jupyter-widgets/controls",
          "model_name": "DescriptionStyleModel",
          "model_module_version": "1.5.0",
          "state": {
            "_model_module": "@jupyter-widgets/controls",
            "_model_module_version": "1.5.0",
            "_model_name": "DescriptionStyleModel",
            "_view_count": null,
            "_view_module": "@jupyter-widgets/base",
            "_view_module_version": "1.2.0",
            "_view_name": "StyleView",
            "description_width": ""
          }
        },
        "a642a68a806d4110b903ccff4735b975": {
          "model_module": "@jupyter-widgets/base",
          "model_name": "LayoutModel",
          "model_module_version": "1.2.0",
          "state": {
            "_model_module": "@jupyter-widgets/base",
            "_model_module_version": "1.2.0",
            "_model_name": "LayoutModel",
            "_view_count": null,
            "_view_module": "@jupyter-widgets/base",
            "_view_module_version": "1.2.0",
            "_view_name": "LayoutView",
            "align_content": null,
            "align_items": null,
            "align_self": null,
            "border": null,
            "bottom": null,
            "display": null,
            "flex": null,
            "flex_flow": null,
            "grid_area": null,
            "grid_auto_columns": null,
            "grid_auto_flow": null,
            "grid_auto_rows": null,
            "grid_column": null,
            "grid_gap": null,
            "grid_row": null,
            "grid_template_areas": null,
            "grid_template_columns": null,
            "grid_template_rows": null,
            "height": null,
            "justify_content": null,
            "justify_items": null,
            "left": null,
            "margin": null,
            "max_height": null,
            "max_width": null,
            "min_height": null,
            "min_width": null,
            "object_fit": null,
            "object_position": null,
            "order": null,
            "overflow": null,
            "overflow_x": null,
            "overflow_y": null,
            "padding": null,
            "right": null,
            "top": null,
            "visibility": null,
            "width": "max-content"
          }
        },
        "66df680054de4ebab6b290053543e9f7": {
          "model_module": "@jupyter-widgets/controls",
          "model_name": "DescriptionStyleModel",
          "model_module_version": "1.5.0",
          "state": {
            "_model_module": "@jupyter-widgets/controls",
            "_model_module_version": "1.5.0",
            "_model_name": "DescriptionStyleModel",
            "_view_count": null,
            "_view_module": "@jupyter-widgets/base",
            "_view_module_version": "1.2.0",
            "_view_name": "StyleView",
            "description_width": ""
          }
        },
        "c2155d7591fa42a6b0ade70a72eb4ac8": {
          "model_module": "@jupyter-widgets/base",
          "model_name": "LayoutModel",
          "model_module_version": "1.2.0",
          "state": {
            "_model_module": "@jupyter-widgets/base",
            "_model_module_version": "1.2.0",
            "_model_name": "LayoutModel",
            "_view_count": null,
            "_view_module": "@jupyter-widgets/base",
            "_view_module_version": "1.2.0",
            "_view_name": "LayoutView",
            "align_content": null,
            "align_items": null,
            "align_self": null,
            "border": null,
            "bottom": null,
            "display": null,
            "flex": null,
            "flex_flow": null,
            "grid_area": null,
            "grid_auto_columns": null,
            "grid_auto_flow": null,
            "grid_auto_rows": null,
            "grid_column": null,
            "grid_gap": null,
            "grid_row": null,
            "grid_template_areas": null,
            "grid_template_columns": null,
            "grid_template_rows": null,
            "height": null,
            "justify_content": null,
            "justify_items": null,
            "left": null,
            "margin": null,
            "max_height": null,
            "max_width": null,
            "min_height": null,
            "min_width": null,
            "object_fit": null,
            "object_position": null,
            "order": null,
            "overflow": null,
            "overflow_x": null,
            "overflow_y": null,
            "padding": null,
            "right": null,
            "top": null,
            "visibility": null,
            "width": "max-content"
          }
        },
        "18d7d20c84574d34bc917ba840f238dd": {
          "model_module": "@jupyter-widgets/controls",
          "model_name": "DescriptionStyleModel",
          "model_module_version": "1.5.0",
          "state": {
            "_model_module": "@jupyter-widgets/controls",
            "_model_module_version": "1.5.0",
            "_model_name": "DescriptionStyleModel",
            "_view_count": null,
            "_view_module": "@jupyter-widgets/base",
            "_view_module_version": "1.2.0",
            "_view_name": "StyleView",
            "description_width": ""
          }
        },
        "36b8b0186fa8461b8cc5b3070a2cecf4": {
          "model_module": "@jupyter-widgets/base",
          "model_name": "LayoutModel",
          "model_module_version": "1.2.0",
          "state": {
            "_model_module": "@jupyter-widgets/base",
            "_model_module_version": "1.2.0",
            "_model_name": "LayoutModel",
            "_view_count": null,
            "_view_module": "@jupyter-widgets/base",
            "_view_module_version": "1.2.0",
            "_view_name": "LayoutView",
            "align_content": null,
            "align_items": null,
            "align_self": null,
            "border": null,
            "bottom": null,
            "display": null,
            "flex": null,
            "flex_flow": null,
            "grid_area": null,
            "grid_auto_columns": null,
            "grid_auto_flow": null,
            "grid_auto_rows": null,
            "grid_column": null,
            "grid_gap": null,
            "grid_row": null,
            "grid_template_areas": null,
            "grid_template_columns": null,
            "grid_template_rows": null,
            "height": null,
            "justify_content": null,
            "justify_items": null,
            "left": null,
            "margin": null,
            "max_height": null,
            "max_width": null,
            "min_height": null,
            "min_width": null,
            "object_fit": null,
            "object_position": null,
            "order": null,
            "overflow": null,
            "overflow_x": null,
            "overflow_y": null,
            "padding": null,
            "right": null,
            "top": null,
            "visibility": null,
            "width": "max-content"
          }
        },
        "cb8f52710120480eaaefe52ca0715953": {
          "model_module": "@jupyter-widgets/controls",
          "model_name": "DescriptionStyleModel",
          "model_module_version": "1.5.0",
          "state": {
            "_model_module": "@jupyter-widgets/controls",
            "_model_module_version": "1.5.0",
            "_model_name": "DescriptionStyleModel",
            "_view_count": null,
            "_view_module": "@jupyter-widgets/base",
            "_view_module_version": "1.2.0",
            "_view_name": "StyleView",
            "description_width": ""
          }
        },
        "afc757a01a5f4f9dbae4a82e896c2752": {
          "model_module": "@jupyter-widgets/base",
          "model_name": "LayoutModel",
          "model_module_version": "1.2.0",
          "state": {
            "_model_module": "@jupyter-widgets/base",
            "_model_module_version": "1.2.0",
            "_model_name": "LayoutModel",
            "_view_count": null,
            "_view_module": "@jupyter-widgets/base",
            "_view_module_version": "1.2.0",
            "_view_name": "LayoutView",
            "align_content": null,
            "align_items": null,
            "align_self": null,
            "border": null,
            "bottom": null,
            "display": null,
            "flex": null,
            "flex_flow": null,
            "grid_area": null,
            "grid_auto_columns": null,
            "grid_auto_flow": null,
            "grid_auto_rows": null,
            "grid_column": null,
            "grid_gap": null,
            "grid_row": null,
            "grid_template_areas": null,
            "grid_template_columns": null,
            "grid_template_rows": null,
            "height": null,
            "justify_content": null,
            "justify_items": null,
            "left": null,
            "margin": null,
            "max_height": null,
            "max_width": null,
            "min_height": null,
            "min_width": null,
            "object_fit": null,
            "object_position": null,
            "order": null,
            "overflow": null,
            "overflow_x": null,
            "overflow_y": null,
            "padding": null,
            "right": null,
            "top": null,
            "visibility": null,
            "width": "max-content"
          }
        },
        "66f0492ba7f545b9a2780067d53cbd86": {
          "model_module": "@jupyter-widgets/controls",
          "model_name": "DescriptionStyleModel",
          "model_module_version": "1.5.0",
          "state": {
            "_model_module": "@jupyter-widgets/controls",
            "_model_module_version": "1.5.0",
            "_model_name": "DescriptionStyleModel",
            "_view_count": null,
            "_view_module": "@jupyter-widgets/base",
            "_view_module_version": "1.2.0",
            "_view_name": "StyleView",
            "description_width": ""
          }
        },
        "413cf50ac9d645e0884e13f2068348d8": {
          "model_module": "@jupyter-widgets/base",
          "model_name": "LayoutModel",
          "model_module_version": "1.2.0",
          "state": {
            "_model_module": "@jupyter-widgets/base",
            "_model_module_version": "1.2.0",
            "_model_name": "LayoutModel",
            "_view_count": null,
            "_view_module": "@jupyter-widgets/base",
            "_view_module_version": "1.2.0",
            "_view_name": "LayoutView",
            "align_content": null,
            "align_items": null,
            "align_self": null,
            "border": null,
            "bottom": null,
            "display": null,
            "flex": null,
            "flex_flow": null,
            "grid_area": null,
            "grid_auto_columns": null,
            "grid_auto_flow": null,
            "grid_auto_rows": null,
            "grid_column": null,
            "grid_gap": null,
            "grid_row": null,
            "grid_template_areas": null,
            "grid_template_columns": null,
            "grid_template_rows": null,
            "height": null,
            "justify_content": null,
            "justify_items": null,
            "left": null,
            "margin": null,
            "max_height": null,
            "max_width": null,
            "min_height": null,
            "min_width": null,
            "object_fit": null,
            "object_position": null,
            "order": null,
            "overflow": null,
            "overflow_x": null,
            "overflow_y": null,
            "padding": null,
            "right": null,
            "top": null,
            "visibility": null,
            "width": "max-content"
          }
        },
        "f8978ab401a246d8b8a2673a673608ad": {
          "model_module": "@jupyter-widgets/controls",
          "model_name": "DescriptionStyleModel",
          "model_module_version": "1.5.0",
          "state": {
            "_model_module": "@jupyter-widgets/controls",
            "_model_module_version": "1.5.0",
            "_model_name": "DescriptionStyleModel",
            "_view_count": null,
            "_view_module": "@jupyter-widgets/base",
            "_view_module_version": "1.2.0",
            "_view_name": "StyleView",
            "description_width": ""
          }
        },
        "4fd7ca5170ce4992bd6e69a489da85bb": {
          "model_module": "@jupyter-widgets/base",
          "model_name": "LayoutModel",
          "model_module_version": "1.2.0",
          "state": {
            "_model_module": "@jupyter-widgets/base",
            "_model_module_version": "1.2.0",
            "_model_name": "LayoutModel",
            "_view_count": null,
            "_view_module": "@jupyter-widgets/base",
            "_view_module_version": "1.2.0",
            "_view_name": "LayoutView",
            "align_content": null,
            "align_items": null,
            "align_self": null,
            "border": null,
            "bottom": null,
            "display": null,
            "flex": null,
            "flex_flow": null,
            "grid_area": null,
            "grid_auto_columns": null,
            "grid_auto_flow": null,
            "grid_auto_rows": null,
            "grid_column": null,
            "grid_gap": null,
            "grid_row": null,
            "grid_template_areas": null,
            "grid_template_columns": null,
            "grid_template_rows": null,
            "height": null,
            "justify_content": null,
            "justify_items": null,
            "left": null,
            "margin": null,
            "max_height": null,
            "max_width": null,
            "min_height": null,
            "min_width": null,
            "object_fit": null,
            "object_position": null,
            "order": null,
            "overflow": null,
            "overflow_x": null,
            "overflow_y": null,
            "padding": null,
            "right": null,
            "top": null,
            "visibility": null,
            "width": "max-content"
          }
        },
        "5a4fe2378ee3453a8053c6b686c5e59a": {
          "model_module": "@jupyter-widgets/controls",
          "model_name": "DescriptionStyleModel",
          "model_module_version": "1.5.0",
          "state": {
            "_model_module": "@jupyter-widgets/controls",
            "_model_module_version": "1.5.0",
            "_model_name": "DescriptionStyleModel",
            "_view_count": null,
            "_view_module": "@jupyter-widgets/base",
            "_view_module_version": "1.2.0",
            "_view_name": "StyleView",
            "description_width": ""
          }
        },
        "46400f7b0f8940cab889be42bff0f7bb": {
          "model_module": "@jupyter-widgets/base",
          "model_name": "LayoutModel",
          "model_module_version": "1.2.0",
          "state": {
            "_model_module": "@jupyter-widgets/base",
            "_model_module_version": "1.2.0",
            "_model_name": "LayoutModel",
            "_view_count": null,
            "_view_module": "@jupyter-widgets/base",
            "_view_module_version": "1.2.0",
            "_view_name": "LayoutView",
            "align_content": null,
            "align_items": null,
            "align_self": null,
            "border": null,
            "bottom": null,
            "display": null,
            "flex": null,
            "flex_flow": null,
            "grid_area": null,
            "grid_auto_columns": null,
            "grid_auto_flow": null,
            "grid_auto_rows": null,
            "grid_column": null,
            "grid_gap": null,
            "grid_row": null,
            "grid_template_areas": null,
            "grid_template_columns": null,
            "grid_template_rows": null,
            "height": null,
            "justify_content": null,
            "justify_items": null,
            "left": null,
            "margin": null,
            "max_height": null,
            "max_width": null,
            "min_height": null,
            "min_width": null,
            "object_fit": null,
            "object_position": null,
            "order": null,
            "overflow": null,
            "overflow_x": null,
            "overflow_y": null,
            "padding": null,
            "right": null,
            "top": null,
            "visibility": null,
            "width": "max-content"
          }
        },
        "f567a54af8794adbafbd48c6bb48df2c": {
          "model_module": "@jupyter-widgets/controls",
          "model_name": "DescriptionStyleModel",
          "model_module_version": "1.5.0",
          "state": {
            "_model_module": "@jupyter-widgets/controls",
            "_model_module_version": "1.5.0",
            "_model_name": "DescriptionStyleModel",
            "_view_count": null,
            "_view_module": "@jupyter-widgets/base",
            "_view_module_version": "1.2.0",
            "_view_name": "StyleView",
            "description_width": ""
          }
        },
        "585cc5e96dec4d69829c462f862b401a": {
          "model_module": "@jupyter-widgets/base",
          "model_name": "LayoutModel",
          "model_module_version": "1.2.0",
          "state": {
            "_model_module": "@jupyter-widgets/base",
            "_model_module_version": "1.2.0",
            "_model_name": "LayoutModel",
            "_view_count": null,
            "_view_module": "@jupyter-widgets/base",
            "_view_module_version": "1.2.0",
            "_view_name": "LayoutView",
            "align_content": null,
            "align_items": null,
            "align_self": null,
            "border": null,
            "bottom": null,
            "display": null,
            "flex": null,
            "flex_flow": null,
            "grid_area": null,
            "grid_auto_columns": null,
            "grid_auto_flow": null,
            "grid_auto_rows": null,
            "grid_column": null,
            "grid_gap": null,
            "grid_row": null,
            "grid_template_areas": null,
            "grid_template_columns": null,
            "grid_template_rows": null,
            "height": null,
            "justify_content": null,
            "justify_items": null,
            "left": null,
            "margin": null,
            "max_height": null,
            "max_width": null,
            "min_height": null,
            "min_width": null,
            "object_fit": null,
            "object_position": null,
            "order": null,
            "overflow": null,
            "overflow_x": null,
            "overflow_y": null,
            "padding": null,
            "right": null,
            "top": null,
            "visibility": null,
            "width": null
          }
        }
      }
    }
  },
  "nbformat": 4,
  "nbformat_minor": 5
}